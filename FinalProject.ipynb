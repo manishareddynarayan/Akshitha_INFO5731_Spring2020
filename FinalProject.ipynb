{
  "nbformat": 4,
  "nbformat_minor": 0,
  "metadata": {
    "colab": {
      "name": "FinalProject.ipynb",
      "provenance": [],
      "collapsed_sections": [],
      "mount_file_id": "1v6GnDEoOAhD0sGhHNyqO_E6Xyhyhm3HT",
      "authorship_tag": "ABX9TyPZA6I5Ay8FerR8JuCm7+2h",
      "include_colab_link": true
    },
    "kernelspec": {
      "name": "python3",
      "display_name": "Python 3"
    }
  },
  "cells": [
    {
      "cell_type": "markdown",
      "metadata": {
        "id": "view-in-github",
        "colab_type": "text"
      },
      "source": [
        "<a href=\"https://colab.research.google.com/github/akshithamaddi/Akshitha_INFO5731_Spring2020/blob/master/FinalProject.ipynb\" target=\"_parent\"><img src=\"https://colab.research.google.com/assets/colab-badge.svg\" alt=\"Open In Colab\"/></a>"
      ]
    },
    {
      "cell_type": "code",
      "metadata": {
        "id": "X_G3fm790SEc",
        "colab_type": "code",
        "colab": {
          "base_uri": "https://localhost:8080/",
          "height": 54
        },
        "outputId": "f793680a-037a-46e9-a50c-13ce692dbc67"
      },
      "source": [
        "from google.colab import drive\n",
        "drive.mount('/content/drive')"
      ],
      "execution_count": 28,
      "outputs": [
        {
          "output_type": "stream",
          "text": [
            "Drive already mounted at /content/drive; to attempt to forcibly remount, call drive.mount(\"/content/drive\", force_remount=True).\n"
          ],
          "name": "stdout"
        }
      ]
    },
    {
      "cell_type": "code",
      "metadata": {
        "id": "1qFQrHji0E3M",
        "colab_type": "code",
        "colab": {}
      },
      "source": [
        "import glob\n",
        "import pandas as pd\n",
        "\n",
        "# Select all the files in your directory\n",
        "directory = r'/content/drive/My Drive/sigir_data'\n",
        "files = glob.glob(directory + \"/*.csv\")\n",
        "fields = [\"article_id\"]\n",
        "df1 = pd.concat([pd.read_csv(fp,skipinitialspace=True, usecols=fields,encoding = \"ISO-8859-1\").assign(New=os.path.basename(fp)) for fp in files])\n",
        "df2 = df1['article_id'].str.replace('https://doi.org/','')\n",
        "df2.to_csv('output.csv') "
      ],
      "execution_count": 0,
      "outputs": []
    },
    {
      "cell_type": "code",
      "metadata": {
        "id": "QiF50MalJmD6",
        "colab_type": "code",
        "outputId": "a84d7baa-0dbb-4485-e78c-eb718e6035d2",
        "colab": {
          "base_uri": "https://localhost:8080/",
          "height": 54
        }
      },
      "source": [
        "import csv\n",
        "import itertools\n",
        "contents = []\n",
        "with open('output.csv','r') as csvf:\n",
        "    urls = csv.reader(csvf)\n",
        "    next(urls, None)\n",
        "    contents = [row[1] for row in itertools.islice(urls,2)] \n",
        "string = 'https://api.semanticscholar.org/v1/paper/'\n",
        "my_new_list = [string+x for x in contents]\n",
        "print(my_new_list)\n",
        "with open(\"Article_URLs.csv\",\"w\") as f:\n",
        "    writer = csv.writer(f,delimiter=\"\\n\")\n",
        "    writer.writerow(['ArticleURL'])\n",
        "    writer.writerow(my_new_list) \n"
      ],
      "execution_count": 30,
      "outputs": [
        {
          "output_type": "stream",
          "text": [
            "['https://api.semanticscholar.org/v1/paper/10.1145/511285.511286', 'https://api.semanticscholar.org/v1/paper/10.1145/511285.511288']\n"
          ],
          "name": "stdout"
        }
      ]
    },
    {
      "cell_type": "code",
      "metadata": {
        "id": "xsTKtQwTJ0OJ",
        "colab_type": "code",
        "outputId": "7344d961-b2d1-497c-a0f2-c3397ce40a3f",
        "colab": {
          "base_uri": "https://localhost:8080/",
          "height": 139
        }
      },
      "source": [
        " import urllib.request\n",
        "countUp = 1\n",
        "for j in my_new_list:\n",
        "     req = urllib.request.Request(j)\n",
        "     response = urllib.request.urlopen(req)\n",
        "     res=response.read().decode('utf8')\n",
        "     print(\"Here\")\n",
        "     print(res)\n",
        "     with open ('Article' + str(countUp) + '.json', 'w') as g:\n",
        "          g.write(res)\n",
        "     countUp += 1"
      ],
      "execution_count": 31,
      "outputs": [
        {
          "output_type": "stream",
          "text": [
            "Here\n",
            "{\"abstract\":\"An introduction and some prospectives are provided for the 1971 ACM Information Storage and Retrieval Symposium held at the University of Maryland on April 1 and 2, 1971. The symposium, sponsored by the University of Maryland, the National Aeronautics and Space Administration and the Special Interest Group on Information Retrieval (SIGIR) of the ACM, focuses on advances in techniques in the computer oriented technology of information retrieval. Early developments and the status of recent efforts in document retrieval, quesiton-answering and data management systems are reviewed briefly.\",\"arxivId\":null,\"authors\":[{\"authorId\":\"1777876\",\"name\":\"Jack Minker\",\"url\":\"https://www.semanticscholar.org/author/1777876\"},{\"authorId\":\"144890509\",\"name\":\"Sam Rosenfeld\",\"url\":\"https://www.semanticscholar.org/author/144890509\"}],\"citationVelocity\":0,\"citations\":[],\"corpusId\":38322729,\"doi\":\"10.1145/511285.511286\",\"fieldsOfStudy\":[\"Computer Science\"],\"influentialCitationCount\":0,\"is_open_access\":false,\"is_publisher_licensed\":true,\"paperId\":\"2c1490360576ad2e888ab818082d016481f3b0c2\",\"references\":[{\"arxivId\":null,\"authors\":[{\"authorId\":\"145707540\",\"name\":\"R. W. Hiorns\",\"url\":\"https://www.semanticscholar.org/author/145707540\"},{\"authorId\":\"144245571\",\"name\":\"Mary Elizabeth Stevens\",\"url\":\"https://www.semanticscholar.org/author/144245571\"},{\"authorId\":\"49799505\",\"name\":\"Vincent E. Giuliano\",\"url\":\"https://www.semanticscholar.org/author/49799505\"},{\"authorId\":\"69439153\",\"name\":\"Laurence B. Heilperin\",\"url\":\"https://www.semanticscholar.org/author/69439153\"}],\"doi\":\"10.2307/2982533\",\"intent\":[],\"isInfluential\":false,\"paperId\":\"cb93b7894a19780851dcaf0559a8c4f9ac1a7694\",\"title\":\"Statistical Association Methods for Mechanized Documentation.\",\"url\":\"https://www.semanticscholar.org/paper/cb93b7894a19780851dcaf0559a8c4f9ac1a7694\",\"venue\":\"\",\"year\":1967},{\"arxivId\":null,\"authors\":[{\"authorId\":\"1797808\",\"name\":\"Gerard Salton\",\"url\":\"https://www.semanticscholar.org/author/1797808\"}],\"doi\":null,\"intent\":[],\"isInfluential\":false,\"paperId\":\"dccea747182423d212741a6eecabf4d2024efb52\",\"title\":\"Automatic Information Organization And Retrieval\",\"url\":\"https://www.semanticscholar.org/paper/dccea747182423d212741a6eecabf4d2024efb52\",\"venue\":\"\",\"year\":1968},{\"arxivId\":null,\"authors\":[{\"authorId\":\"143745511\",\"name\":\"Robert F. Simmons\",\"url\":\"https://www.semanticscholar.org/author/143745511\"}],\"doi\":\"10.1145/361953.361963\",\"intent\":[],\"isInfluential\":false,\"paperId\":\"7869fc49e9650b164a18f618f02b318ae41709f5\",\"title\":\"Natural language question-answering systems: 1969\",\"url\":\"https://www.semanticscholar.org/paper/7869fc49e9650b164a18f618f02b318ae41709f5\",\"venue\":\"CACM\",\"year\":1970},{\"arxivId\":null,\"authors\":[{\"authorId\":\"2928409\",\"name\":\"Victor H. Yngve\",\"url\":\"https://www.semanticscholar.org/author/2928409\"}],\"doi\":\"10.1145/366243.366720\",\"intent\":[],\"isInfluential\":false,\"paperId\":\"848dc213c8e0d1d33dd57e91b713e1dce1a6ef1e\",\"title\":\"COMIT as an IR language\",\"url\":\"https://www.semanticscholar.org/paper/848dc213c8e0d1d33dd57e91b713e1dce1a6ef1e\",\"venue\":\"CACM\",\"year\":1962},{\"arxivId\":null,\"authors\":[{\"authorId\":\"38485274\",\"name\":\"Thomas E. Cheatham\",\"url\":\"https://www.semanticscholar.org/author/38485274\"},{\"authorId\":\"16667726\",\"name\":\"Stephen Warshall\",\"url\":\"https://www.semanticscholar.org/author/16667726\"}],\"doi\":\"10.1145/366243.366724\",\"intent\":[],\"isInfluential\":false,\"paperId\":\"1a3d6137f06322804161e06d3443e37b6868e6e9\",\"title\":\"Translation of retrieval requests couched in a \\u201csemiformal\\u201d English-like language\",\"url\":\"https://www.semanticscholar.org/paper/1a3d6137f06322804161e06d3443e37b6868e6e9\",\"venue\":\"CACM\",\"year\":1962},{\"arxivId\":null,\"authors\":[{\"authorId\":\"143745511\",\"name\":\"Robert F. Simmons\",\"url\":\"https://www.semanticscholar.org/author/143745511\"}],\"doi\":\"10.1145/363707.363732\",\"intent\":[],\"isInfluential\":false,\"paperId\":\"587fbc4dd6657e245e6ffd5c452d419e9979099b\",\"title\":\"Answering English questions by computer: a survey\",\"url\":\"https://www.semanticscholar.org/paper/587fbc4dd6657e245e6ffd5c452d419e9979099b\",\"venue\":\"CACM\",\"year\":1965},{\"arxivId\":null,\"authors\":[{\"authorId\":\"1777876\",\"name\":\"Jack Minker\",\"url\":\"https://www.semanticscholar.org/author/1777876\"},{\"authorId\":\"145431437\",\"name\":\"J. D. Sable\",\"url\":\"https://www.semanticscholar.org/author/145431437\"}],\"doi\":null,\"intent\":[],\"isInfluential\":false,\"paperId\":\"a3f5f26e8193238b16c1b18eab3655f3e6a21f80\",\"title\":\"Relational Data System Study.\",\"url\":\"https://www.semanticscholar.org/paper/a3f5f26e8193238b16c1b18eab3655f3e6a21f80\",\"venue\":\"\",\"year\":1970},{\"arxivId\":null,\"authors\":[{\"authorId\":\"1777876\",\"name\":\"Jack Minker\",\"url\":\"https://www.semanticscholar.org/author/1777876\"}],\"doi\":null,\"intent\":[],\"isInfluential\":false,\"paperId\":\"eba004b4bf597350bdd3f1e622329589fe3b958e\",\"title\":\"Generalized data management systems - some perspectives\",\"url\":\"https://www.semanticscholar.org/paper/eba004b4bf597350bdd3f1e622329589fe3b958e\",\"venue\":\"\",\"year\":1969},{\"arxivId\":null,\"authors\":[{\"authorId\":\"3231985\",\"name\":\"David Lefkovitz\",\"url\":\"https://www.semanticscholar.org/author/3231985\"}],\"doi\":\"10.1109/MSPEC.1964.6500781\",\"intent\":[],\"isInfluential\":false,\"paperId\":\"87d68b8da89362304939b0ce2c95ebac1f28b25d\",\"title\":\"Automation and the library of congress\",\"url\":\"https://www.semanticscholar.org/paper/87d68b8da89362304939b0ce2c95ebac1f28b25d\",\"venue\":\"IEEE Spectrum\",\"year\":1964},{\"arxivId\":null,\"authors\":[{\"authorId\":\"16902271\",\"name\":\"Hans Peter Luhn\",\"url\":\"https://www.semanticscholar.org/author/16902271\"}],\"doi\":\"10.1002/asi.5090110403\",\"intent\":[],\"isInfluential\":false,\"paperId\":\"a76e8341a099a3ab447ee16aafcd24213cb0dd18\",\"title\":\"Key word\\u2010in\\u2010context index for technical literature (kwic index)\",\"url\":\"https://www.semanticscholar.org/paper/a76e8341a099a3ab447ee16aafcd24213cb0dd18\",\"venue\":\"\",\"year\":1960},{\"arxivId\":null,\"authors\":[{\"authorId\":\"144245571\",\"name\":\"Mary Elizabeth Stevens\",\"url\":\"https://www.semanticscholar.org/author/144245571\"}],\"doi\":\"10.6028/nbs.mono.91e1970\",\"intent\":[],\"isInfluential\":false,\"paperId\":\"f381202c44918f51a8b757a5894c72eb5d773e78\",\"title\":\"Automatic Indexing: A State-of-the-Art Report.\",\"url\":\"https://www.semanticscholar.org/paper/f381202c44918f51a8b757a5894c72eb5d773e78\",\"venue\":\"\",\"year\":1965},{\"arxivId\":null,\"authors\":[{\"authorId\":\"145317964\",\"name\":\"Jr. Bert F. Green\",\"url\":\"https://www.semanticscholar.org/author/145317964\"},{\"authorId\":\"32223729\",\"name\":\"Alice K. Wolf\",\"url\":\"https://www.semanticscholar.org/author/32223729\"},{\"authorId\":\"50149063\",\"name\":\"Carol L. Chomsky\",\"url\":\"https://www.semanticscholar.org/author/50149063\"},{\"authorId\":\"2892022\",\"name\":\"K. Ronald Laughery\",\"url\":\"https://www.semanticscholar.org/author/2892022\"}],\"doi\":\"10.1145/1460690.1460714\",\"intent\":[],\"isInfluential\":false,\"paperId\":\"89d025804988944d6fa4e95f49bff011b33d1418\",\"title\":\"Baseball: an automatic question-answerer\",\"url\":\"https://www.semanticscholar.org/paper/89d025804988944d6fa4e95f49bff011b33d1418\",\"venue\":\"IRE-AIEE-ACM '61 (Western)\",\"year\":1961}],\"title\":\"Introduction and perspectives for the 1971 ACM Information Storage and Retrieval Symposium\",\"topics\":[{\"topic\":\"Information retrieval\",\"topicId\":\"2867\",\"url\":\"https://www.semanticscholar.org/topic/2867\"},{\"topic\":\"Document retrieval\",\"topicId\":\"14824\",\"url\":\"https://www.semanticscholar.org/topic/14824\"}],\"url\":\"https://www.semanticscholar.org/paper/2c1490360576ad2e888ab818082d016481f3b0c2\",\"venue\":\"SIGIR '71\",\"year\":1971}\n",
            "\n",
            "Here\n",
            "{\"abstract\":\"This paper is a survey of some of the major semantic models that have been developed for automated semantic analysis of natural language. Current approaches to semantic analysis and logical inference are based mainly on models of human cognitive processes such as Quillian's semantic memory, Simmon's Protosynthex III and others. All existing systems and/or models, more or less experimental, were applied to a small subset of English. They are highly tentative because the definitions of semantic processes and semantically structured lexicons are not formulated rigorously. This is due mainly to the fact that it is unknown whether a unique, consistent hierarchization of the semantic features of language is possible.However, the models described are significant contributions to an unexplored field called semantics. The progressive development of a sophisticated, semantically based system for automated processing of natural language is a realistic goal. It should not be neglected, despite the fact that it is difficult to predict when this goal will be achieved.\",\"arxivId\":null,\"authors\":[{\"authorId\":\"2523724\",\"name\":\"Milos Pacak\",\"url\":\"https://www.semanticscholar.org/author/2523724\"},{\"authorId\":\"2641020\",\"name\":\"Arnold W. Pratt\",\"url\":\"https://www.semanticscholar.org/author/2641020\"}],\"citationVelocity\":0,\"citations\":[{\"arxivId\":null,\"authors\":[{\"authorId\":\"35022826\",\"name\":\"John A. Moyne\",\"url\":\"https://www.semanticscholar.org/author/35022826\"}],\"doi\":\"10.1007/BF00998326\",\"intent\":[\"background\"],\"isInfluential\":false,\"paperId\":\"393a9de965783f2c0f42b82db47321df10402472\",\"title\":\"Simple-english for data base communication\",\"url\":\"https://www.semanticscholar.org/paper/393a9de965783f2c0f42b82db47321df10402472\",\"venue\":\"International Journal of Computer & Information Sciences\",\"year\":1977},{\"arxivId\":null,\"authors\":[{\"authorId\":\"1797808\",\"name\":\"Gerard Salton\",\"url\":\"https://www.semanticscholar.org/author/1797808\"}],\"doi\":\"10.1145/321752.321757\",\"intent\":[\"background\"],\"isInfluential\":false,\"paperId\":\"479fc4af54633ad789e9f252f1581caa02ee8d32\",\"title\":\"Recent Studies in Automatic Text Analysis and Document Retrieval\",\"url\":\"https://www.semanticscholar.org/paper/479fc4af54633ad789e9f252f1581caa02ee8d32\",\"venue\":\"JACM\",\"year\":1973},{\"arxivId\":null,\"authors\":[{\"authorId\":\"48264726\",\"name\":\"George S. Dunham\",\"url\":\"https://www.semanticscholar.org/author/48264726\"},{\"authorId\":\"2523724\",\"name\":\"Milos Pacak\",\"url\":\"https://www.semanticscholar.org/author/2523724\"},{\"authorId\":\"2641020\",\"name\":\"Arnold W. Pratt\",\"url\":\"https://www.semanticscholar.org/author/2641020\"}],\"doi\":\"10.1002/asi.4630290207\",\"intent\":[],\"isInfluential\":false,\"paperId\":\"24f73ab2828f9aecbc079a9d5f5028c392eaa5b0\",\"title\":\"Automatic indexing of pathology data\",\"url\":\"https://www.semanticscholar.org/paper/24f73ab2828f9aecbc079a9d5f5028c392eaa5b0\",\"venue\":\"JASIS\",\"year\":1978},{\"arxivId\":null,\"authors\":[{\"authorId\":\"40005703\",\"name\":\"Raoul N. Smith\",\"url\":\"https://www.semanticscholar.org/author/40005703\"},{\"authorId\":\"144226072\",\"name\":\"Edward Maxwell\",\"url\":\"https://www.semanticscholar.org/author/144226072\"}],\"doi\":\"10.3115/992532.992563\",\"intent\":[],\"isInfluential\":false,\"paperId\":\"819c14aeb7fbd7819baa58f038142db1f0cfc351\",\"title\":\"An English Dictionary for Computerized Syntactic and Semantic Processing Systems\",\"url\":\"https://www.semanticscholar.org/paper/819c14aeb7fbd7819baa58f038142db1f0cfc351\",\"venue\":\"COLING\",\"year\":1973},{\"arxivId\":null,\"authors\":[{\"authorId\":\"35022826\",\"name\":\"John A. Moyne\",\"url\":\"https://www.semanticscholar.org/author/35022826\"}],\"doi\":\"10.1007/BF01007763\",\"intent\":[],\"isInfluential\":false,\"paperId\":\"8113edc6c95508bc7f9ae624903f8f4c98d3395b\",\"title\":\"Relevance of computer science to linguistics and vice versa\",\"url\":\"https://www.semanticscholar.org/paper/8113edc6c95508bc7f9ae624903f8f4c98d3395b\",\"venue\":\"International Journal of Computer & Information Sciences\",\"year\":1975},{\"arxivId\":null,\"authors\":[{\"authorId\":\"1777876\",\"name\":\"Jack Minker\",\"url\":\"https://www.semanticscholar.org/author/1777876\"}],\"doi\":\"10.1145/1095515.1095516\",\"intent\":[],\"isInfluential\":false,\"paperId\":\"28dd43a10b78cc6297081fb7b9be86e114894391\",\"title\":\"Information storage and retrieval: a survey and functional description\",\"url\":\"https://www.semanticscholar.org/paper/28dd43a10b78cc6297081fb7b9be86e114894391\",\"venue\":\"SIGF\",\"year\":1977}],\"corpusId\":17549958,\"doi\":\"10.1145/511285.511288\",\"fieldsOfStudy\":[\"Computer Science\"],\"influentialCitationCount\":0,\"is_open_access\":false,\"is_publisher_licensed\":true,\"paperId\":\"aa737f8682727e98b8815c1199ecca6f33f39895\",\"references\":[{\"arxivId\":null,\"authors\":[{\"authorId\":\"48120076\",\"name\":\"Charles J. Fillmore\",\"url\":\"https://www.semanticscholar.org/author/48120076\"}],\"doi\":null,\"intent\":[],\"isInfluential\":false,\"paperId\":\"f8a2e2932af3b09ee9b3837319a32248de5498eb\",\"title\":\"The case for case\\\" in universals in linguistic theory\",\"url\":\"https://www.semanticscholar.org/paper/f8a2e2932af3b09ee9b3837319a32248de5498eb\",\"venue\":\"\",\"year\":1968},{\"arxivId\":null,\"authors\":[{\"authorId\":\"143745511\",\"name\":\"Robert F. Simmons\",\"url\":\"https://www.semanticscholar.org/author/143745511\"}],\"doi\":\"10.1145/361953.361963\",\"intent\":[],\"isInfluential\":false,\"paperId\":\"7869fc49e9650b164a18f618f02b318ae41709f5\",\"title\":\"Natural language question-answering systems: 1969\",\"url\":\"https://www.semanticscholar.org/paper/7869fc49e9650b164a18f618f02b318ae41709f5\",\"venue\":\"CACM\",\"year\":1970},{\"arxivId\":null,\"authors\":[{\"authorId\":\"21804909\",\"name\":\"Daniel G. Bobrow\",\"url\":\"https://www.semanticscholar.org/author/21804909\"}],\"doi\":null,\"intent\":[],\"isInfluential\":false,\"paperId\":\"078ed392e499a2f3556eb6a2927b14583f0f5084\",\"title\":\"Syntactic theory in computer implementations\",\"url\":\"https://www.semanticscholar.org/paper/078ed392e499a2f3556eb6a2927b14583f0f5084\",\"venue\":\"\",\"year\":1967},{\"arxivId\":null,\"authors\":[{\"authorId\":\"9079926\",\"name\":\"William A. Woods\",\"url\":\"https://www.semanticscholar.org/author/9079926\"}],\"doi\":null,\"intent\":[],\"isInfluential\":false,\"paperId\":\"370cc948324d013a8a0063b62b4bfd9ab9bce657\",\"title\":\"Semantic interpretation of english questions on a structured data base\",\"url\":\"https://www.semanticscholar.org/paper/370cc948324d013a8a0063b62b4bfd9ab9bce657\",\"venue\":\"\",\"year\":1967},{\"arxivId\":null,\"authors\":[{\"authorId\":\"48777451\",\"name\":\"Jerrold J. Katz\",\"url\":\"https://www.semanticscholar.org/author/48777451\"},{\"authorId\":\"38663378\",\"name\":\"Jerry A. Fodor\",\"url\":\"https://www.semanticscholar.org/author/38663378\"}],\"doi\":\"10.2307/411200\",\"intent\":[],\"isInfluential\":false,\"paperId\":\"7adb3c40ef03a458d35a3851fa66046936211cc3\",\"title\":\"The structure of a semantic theory\",\"url\":\"https://www.semanticscholar.org/paper/7adb3c40ef03a458d35a3851fa66046936211cc3\",\"venue\":\"\",\"year\":1963},{\"arxivId\":null,\"authors\":[{\"authorId\":\"47234987\",\"name\":\"David G. Hays\",\"url\":\"https://www.semanticscholar.org/author/47234987\"}],\"doi\":\"10.2307/411934\",\"intent\":[],\"isInfluential\":false,\"paperId\":\"17cb4f318dc53b3c09dab637bd46897039d88046\",\"title\":\"Dependency Theory: A Formalism and Some Observations\",\"url\":\"https://www.semanticscholar.org/paper/17cb4f318dc53b3c09dab637bd46897039d88046\",\"venue\":\"\",\"year\":1964},{\"arxivId\":null,\"authors\":[{\"authorId\":\"2912454\",\"name\":\"Charles J. Fillmore\",\"url\":\"https://www.semanticscholar.org/author/2912454\"}],\"doi\":null,\"intent\":[],\"isInfluential\":false,\"paperId\":\"36611b39aa022368b7905003abda91ab96b753e7\",\"title\":\"TOWARD A MODERN THEORY OF CASE.\",\"url\":\"https://www.semanticscholar.org/paper/36611b39aa022368b7905003abda91ab96b753e7\",\"venue\":\"\",\"year\":1966},{\"arxivId\":null,\"authors\":[{\"authorId\":\"16652520\",\"name\":\"M. Ross Quillian\",\"url\":\"https://www.semanticscholar.org/author/16652520\"}],\"doi\":\"10.1145/363196.363214\",\"intent\":[],\"isInfluential\":false,\"paperId\":\"be02603f27853d3cf6ef10cadc64727ed505cc25\",\"title\":\"The teachable language comprehender: a simulation program and theory of language\",\"url\":\"https://www.semanticscholar.org/paper/be02603f27853d3cf6ef10cadc64727ed505cc25\",\"venue\":\"CACM\",\"year\":1969},{\"arxivId\":null,\"authors\":[{\"authorId\":\"2329142\",\"name\":\"Noam Chomsky\",\"url\":\"https://www.semanticscholar.org/author/2329142\"}],\"doi\":\"10.1515/9783110814231.11\",\"intent\":[],\"isInfluential\":false,\"paperId\":\"a341279eab673f136a1f3347eed49c3d3ef07820\",\"title\":\"Remarks On Nominalization\",\"url\":\"https://www.semanticscholar.org/paper/a341279eab673f136a1f3347eed49c3d3ef07820\",\"venue\":\"\",\"year\":1968},{\"arxivId\":null,\"authors\":[{\"authorId\":\"47832675\",\"name\":\"Ricardo Schwarcz\",\"url\":\"https://www.semanticscholar.org/author/47832675\"}],\"doi\":null,\"intent\":[],\"isInfluential\":false,\"paperId\":\"00fa4c65cb3fb6de2cc30d8612a5136a75d1a469\",\"title\":\"Steps toward a model of linguistic performance\",\"url\":\"https://www.semanticscholar.org/paper/00fa4c65cb3fb6de2cc30d8612a5136a75d1a469\",\"venue\":\"\",\"year\":1967},{\"arxivId\":null,\"authors\":[{\"authorId\":\"47186095\",\"name\":\"Hamish Dewar\",\"url\":\"https://www.semanticscholar.org/author/47186095\"},{\"authorId\":\"1748193\",\"name\":\"Paul Bratley\",\"url\":\"https://www.semanticscholar.org/author/1748193\"},{\"authorId\":\"6904853\",\"name\":\"James Peter Thorne\",\"url\":\"https://www.semanticscholar.org/author/6904853\"}],\"doi\":\"10.1145/363196.363217\",\"intent\":[],\"isInfluential\":false,\"paperId\":\"476b5bed20d9698aeca40ee6eb8928c5b9097b5e\",\"title\":\"A program for the syntactic analysis of English sentences\",\"url\":\"https://www.semanticscholar.org/paper/476b5bed20d9698aeca40ee6eb8928c5b9097b5e\",\"venue\":\"CACM\",\"year\":1969},{\"arxivId\":null,\"authors\":[{\"authorId\":\"145433144\",\"name\":\"Charles Kellogg\",\"url\":\"https://www.semanticscholar.org/author/145433144\"}],\"doi\":\"10.1145/1476589.1476654\",\"intent\":[],\"isInfluential\":false,\"paperId\":\"eb233638ad0b99e3c66c636bef814ae94131ab5f\",\"title\":\"A natural language compiler for on-line data management\",\"url\":\"https://www.semanticscholar.org/paper/eb233638ad0b99e3c66c636bef814ae94131ab5f\",\"venue\":\"AFIPS '68 (Fall, part I)\",\"year\":1968},{\"arxivId\":null,\"authors\":[{\"authorId\":\"69539826\",\"name\":\"H. R. Quillian\",\"url\":\"https://www.semanticscholar.org/author/69539826\"}],\"doi\":null,\"intent\":[],\"isInfluential\":false,\"paperId\":\"68226a8d3978155344d39f43c320b515917ca146\",\"title\":\"In semantic information processing\",\"url\":\"https://www.semanticscholar.org/paper/68226a8d3978155344d39f43c320b515917ca146\",\"venue\":\"\",\"year\":1968},{\"arxivId\":null,\"authors\":[{\"authorId\":\"4820311\",\"name\":\"Robert M. Schwarcz\",\"url\":\"https://www.semanticscholar.org/author/4820311\"}],\"doi\":\"10.3115/990403.990432\",\"intent\":[],\"isInfluential\":false,\"paperId\":\"5ef3f4bbbb1af9c5334eeed57b45a7be4b589693\",\"title\":\"Towards a Computational Formalization of Natural Language Semantics\",\"url\":\"https://www.semanticscholar.org/paper/5ef3f4bbbb1af9c5334eeed57b45a7be4b589693\",\"venue\":\"COLING\",\"year\":1969},{\"arxivId\":null,\"authors\":[{\"authorId\":\"65848008\",\"name\":\"Robert P. Stockwell\",\"url\":\"https://www.semanticscholar.org/author/65848008\"},{\"authorId\":\"72531925\",\"name\":\"Paul Schacter\",\"url\":\"https://www.semanticscholar.org/author/72531925\"},{\"authorId\":\"39340971\",\"name\":\"Barbara H. Partee\",\"url\":\"https://www.semanticscholar.org/author/39340971\"}],\"doi\":\"10.2307/412040\",\"intent\":[],\"isInfluential\":false,\"paperId\":\"cddc68343a8659cf785d505ece0be84d9ec0e81f\",\"title\":\"INTEGRATION OF TRANSFORMATIONAL THEORIES ON ENGLISH SYNTAX\",\"url\":\"https://www.semanticscholar.org/paper/cddc68343a8659cf785d505ece0be84d9ec0e81f\",\"venue\":\"\",\"year\":1972},{\"arxivId\":null,\"authors\":[{\"authorId\":\"2641020\",\"name\":\"Arnold W. Pratt\",\"url\":\"https://www.semanticscholar.org/author/2641020\"},{\"authorId\":\"2523724\",\"name\":\"Milos Pacak\",\"url\":\"https://www.semanticscholar.org/author/2523724\"}],\"doi\":\"10.3115/990403.990414\",\"intent\":[],\"isInfluential\":false,\"paperId\":\"11a30e659eccbb1ab41b879cf9eadf81bf3f7355\",\"title\":\"Automated Processing of Medical English\",\"url\":\"https://www.semanticscholar.org/paper/11a30e659eccbb1ab41b879cf9eadf81bf3f7355\",\"venue\":\"COLING\",\"year\":1969},{\"arxivId\":null,\"authors\":[{\"authorId\":\"46663124\",\"name\":\"Michael G. Otten\",\"url\":\"https://www.semanticscholar.org/author/46663124\"},{\"authorId\":\"2523724\",\"name\":\"Milos Pacak\",\"url\":\"https://www.semanticscholar.org/author/2523724\"}],\"doi\":\"10.1016/B978-0-12-696202-4.50014-0\",\"intent\":[],\"isInfluential\":false,\"paperId\":\"cde1b066900a848ef3f47d844d73368bdbcf278c\",\"title\":\"Intermediate Languages for Automatic Language Processing\",\"url\":\"https://www.semanticscholar.org/paper/cde1b066900a848ef3f47d844d73368bdbcf278c\",\"venue\":\"\",\"year\":1971},{\"arxivId\":null,\"authors\":[{\"authorId\":\"143745511\",\"name\":\"Robert F. Simmons\",\"url\":\"https://www.semanticscholar.org/author/143745511\"}],\"doi\":null,\"intent\":[],\"isInfluential\":false,\"paperId\":\"070ea838c5692e9fafe5f36bb4b125917097a8a6\",\"title\":\"Answering english questions by computer\",\"url\":\"https://www.semanticscholar.org/paper/070ea838c5692e9fafe5f36bb4b125917097a8a6\",\"venue\":\"\",\"year\":1967},{\"arxivId\":null,\"authors\":[{\"authorId\":\"69967270\",\"name\":\"Uriel Weinreich\",\"url\":\"https://www.semanticscholar.org/author/69967270\"}],\"doi\":\"10.1515/9783110813142\",\"intent\":[],\"isInfluential\":false,\"paperId\":\"5471b37a1f22985c713bb9e2b7db3f581a0f1e43\",\"title\":\"Explorations In Semantic Theory\",\"url\":\"https://www.semanticscholar.org/paper/5471b37a1f22985c713bb9e2b7db3f581a0f1e43\",\"venue\":\"\",\"year\":1972},{\"arxivId\":null,\"authors\":[{\"authorId\":\"2796984\",\"name\":\"Ernst von Glasersfeld\",\"url\":\"https://www.semanticscholar.org/author/2796984\"},{\"authorId\":\"16622017\",\"name\":\"Pier Paolo Pisani\",\"url\":\"https://www.semanticscholar.org/author/16622017\"}],\"doi\":\"10.1145/362007.362026\",\"intent\":[],\"isInfluential\":false,\"paperId\":\"e78f6fcdc2f2ad86272ee413a21dbe0f5953ae50\",\"title\":\"The multistore parser for hierarchical syntactic structures\",\"url\":\"https://www.semanticscholar.org/paper/e78f6fcdc2f2ad86272ee413a21dbe0f5953ae50\",\"venue\":\"CACM\",\"year\":1970}],\"title\":\"The function of semantics in automated language processing\",\"topics\":[{\"topic\":\"SIMMON\",\"topicId\":\"3301504\",\"url\":\"https://www.semanticscholar.org/topic/3301504\"},{\"topic\":\"Semantic analysis (compilers)\",\"topicId\":\"529656\",\"url\":\"https://www.semanticscholar.org/topic/529656\"},{\"topic\":\"Lexicon\",\"topicId\":\"33018\",\"url\":\"https://www.semanticscholar.org/topic/33018\"},{\"topic\":\"Natural language processing\",\"topicId\":\"1914\",\"url\":\"https://www.semanticscholar.org/topic/1914\"}],\"url\":\"https://www.semanticscholar.org/paper/aa737f8682727e98b8815c1199ecca6f33f39895\",\"venue\":\"SIGIR '71\",\"year\":1971}\n",
            "\n"
          ],
          "name": "stdout"
        }
      ]
    }
  ]
}