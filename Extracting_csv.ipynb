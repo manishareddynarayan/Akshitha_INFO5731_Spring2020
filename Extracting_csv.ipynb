{
  "nbformat": 4,
  "nbformat_minor": 0,
  "metadata": {
    "colab": {
      "name": "Extracting_csv.ipynb",
      "provenance": [],
      "collapsed_sections": [],
      "authorship_tag": "ABX9TyPTMAVip5DifjNEi7BYRbsn",
      "include_colab_link": true
    },
    "kernelspec": {
      "name": "python3",
      "display_name": "Python 3"
    }
  },
  "cells": [
    {
      "cell_type": "markdown",
      "metadata": {
        "id": "view-in-github",
        "colab_type": "text"
      },
      "source": [
        "<a href=\"https://colab.research.google.com/github/akshithamaddi/Akshitha_INFO5731_Spring2020/blob/master/Extracting_csv.ipynb\" target=\"_parent\"><img src=\"https://colab.research.google.com/assets/colab-badge.svg\" alt=\"Open In Colab\"/></a>"
      ]
    },
    {
      "cell_type": "code",
      "metadata": {
        "id": "PsdxxZjQDboM",
        "colab_type": "code",
        "outputId": "21145e6a-197b-4f26-9642-df87efc62c3c",
        "colab": {
          "base_uri": "https://localhost:8080/",
          "height": 208
        }
      },
      "source": [
        "!pip install textblob\n",
        "import pandas as pd\n",
        "from nltk.corpus import stopwords\n",
        "import string\n",
        "from nltk.stem import WordNetLemmatizer\n",
        "import nltk\n",
        "from nltk import word_tokenize, pos_tag, pos_tag_sents\n",
        "from textblob import Word\n",
        "from nltk.stem import PorterStemmer\n",
        "\n",
        "nltk.download('stopwords')\n",
        "st=PorterStemmer()\n",
        "stop=stopwords.words('english')\n",
        "nltk.download('wordnet')\n",
        "nltk.download('averaged_perceptron_tagger')"
      ],
      "execution_count": 0,
      "outputs": [
        {
          "output_type": "stream",
          "text": [
            "Requirement already satisfied: textblob in /usr/local/lib/python3.6/dist-packages (0.15.3)\n",
            "Requirement already satisfied: nltk>=3.1 in /usr/local/lib/python3.6/dist-packages (from textblob) (3.2.5)\n",
            "Requirement already satisfied: six in /usr/local/lib/python3.6/dist-packages (from nltk>=3.1->textblob) (1.12.0)\n",
            "[nltk_data] Downloading package stopwords to /root/nltk_data...\n",
            "[nltk_data]   Unzipping corpora/stopwords.zip.\n",
            "[nltk_data] Downloading package wordnet to /root/nltk_data...\n",
            "[nltk_data]   Unzipping corpora/wordnet.zip.\n",
            "[nltk_data] Downloading package averaged_perceptron_tagger to\n",
            "[nltk_data]     /root/nltk_data...\n",
            "[nltk_data]   Unzipping taggers/averaged_perceptron_tagger.zip.\n"
          ],
          "name": "stdout"
        },
        {
          "output_type": "execute_result",
          "data": {
            "text/plain": [
              "True"
            ]
          },
          "metadata": {
            "tags": []
          },
          "execution_count": 1
        }
      ]
    },
    {
      "cell_type": "code",
      "metadata": {
        "id": "i-JtTrcaFOam",
        "colab_type": "code",
        "colab": {}
      },
      "source": [
        "#table 1\n",
        "import json\n",
        "import pandas\n",
        "from pandas import DataFrame\n",
        "topicListString = \"\"\n",
        "Venuelist = []\n",
        "Titlelist = []\n",
        "Yearlist = []\n",
        "Abstractlist = []\n",
        "Doilist = []\n",
        "FieldsOfStudylist = []\n",
        "Topiclist = []\n",
        "urllist = []\n",
        "influentialCitationCountlist = []\n",
        "totalcitationcountlist = []\n",
        "#articleidlist = []\n",
        "#pdfdownloadlist = []\n",
        "for i in range(968):\n",
        "  topicListString = \"\"\n",
        "  f = open('/content/jsonfiles/Article' + str(i) + '.json')\n",
        "  data = json.load(f)\n",
        "  venue = data['venue']\n",
        "  Venuelist.append(venue)\n",
        "  title = data['title']\n",
        "  Titlelist.append(title)\n",
        "  year = data['year']\n",
        "  Yearlist.append(year)\n",
        "  abstract = data['abstract']\n",
        "  Abstractlist.append(abstract)\n",
        "  doi = data['doi']\n",
        "  Doilist.append(doi)\n",
        "  fieldsOfStudy = data['fieldsOfStudy']\n",
        "  FieldsOfStudylist.append(fieldsOfStudy)\n",
        "  influentialCitationCount = data['influentialCitationCount']\n",
        "  influentialCitationCountlist.append(influentialCitationCount)\n",
        "  totalcitationcount = len(data['citations'])\n",
        "  totalcitationcountlist.append(totalcitationcount)\n",
        "  for value in data['topics']:\n",
        "    topic = value['topic']\n",
        "    #Topiclist.append(topic)\n",
        "    topicListString = topicListString + \",\"+ topic\n",
        "  url = data['url']\n",
        "  urllist.append(url)\n",
        "  topicListString = topicListString[1:]\n",
        "  Topiclist.append(topicListString)   \n",
        "f.close()"
      ],
      "execution_count": 0,
      "outputs": []
    },
    {
      "cell_type": "code",
      "metadata": {
        "id": "p4ZfKZX1FWvM",
        "colab_type": "code",
        "colab": {}
      },
      "source": [
        "#table1 articleid and pdf link\n",
        "  articleidlist=[]\n",
        "  pdfdownloadlist = []\n",
        "  string = 'https://doi.org/'\n",
        "  for item in Doilist:\n",
        "    articleidlist.append(string+str(item))\n",
        "string1 = 'https://dl.acm.org/doi/pdf/'\n",
        "string2='?download=true' \n",
        "  for item in Doilist:\n",
        "    pdfdownloadlist.append(string1+str(item)+string2)"
      ],
      "execution_count": 0,
      "outputs": []
    },
    {
      "cell_type": "code",
      "metadata": {
        "id": "j76hHWB1FaPg",
        "colab_type": "code",
        "outputId": "be287b02-c55f-40a6-fc30-8224aa4bb002",
        "colab": {
          "base_uri": "https://localhost:8080/",
          "height": 1000
        }
      },
      "source": [
        "import pandas as pd\n",
        "import glob\n",
        "import pandas as pd\n",
        "import os\n",
        "import string\n",
        "\n",
        "# Select all the files in your directory\n",
        "fields = [\"TotalDownloadCount\"]\n",
        "dfarticle = pd.read_csv(\"table1_akshitha.csv\", usecols=fields)\n",
        "#totalcitationlist = dfarticle['total_citation'].values.tolist()\n",
        "totaldownloadlist = dfarticle['TotalDownloadCount'].values.tolist()\n",
        "a = {'Article_id' : articleidlist ,'Venue' : Venuelist ,'Title' : Titlelist ,'Year' :Yearlist, 'Abstract': Abstractlist,\n",
        "     'Doi' : Doilist,'fieldsOfStudy' : FieldsOfStudylist, 'topics': Topiclist , 'Downloadurl' : pdfdownloadlist,'TotalCitationCount' : totalcitationcountlist,\n",
        "      'TotalDownloadCount' : totaldownloadlist,'Influentialcitationcount' : influentialCitationCountlist}\n",
        "df = pd.DataFrame.from_dict(a, orient='index')\n",
        "df1 = df.transpose()\n",
        "df1[\"Abstract\"]=df1[\"Abstract\"].str.lower() \n",
        "df1['Abstract'] = df1['Abstract'].apply(lambda x: ' '.join([word for word in str(x).split() if word not in (stop)]))\n",
        "df1[\"Abstract\"]=df1['Abstract'].str.replace('[{}]'.format(string.punctuation), '')\n",
        "df1['fieldsOfStudy'] = df1['fieldsOfStudy'].apply(str)\n",
        "df1['fieldsOfStudy'] = df1['fieldsOfStudy'].str.replace('[{}]'.format(string.punctuation), '')\n",
        "df1['fieldsOfStudy']\n",
        "df1 = df1[pd.notnull(df1['Article_id'])]\n",
        "df1.to_csv('/content/jsonfiles/table1.csv', columns = a)\n",
        "df1"
      ],
      "execution_count": 0,
      "outputs": [
        {
          "output_type": "execute_result",
          "data": {
            "text/html": [
              "<div>\n",
              "<style scoped>\n",
              "    .dataframe tbody tr th:only-of-type {\n",
              "        vertical-align: middle;\n",
              "    }\n",
              "\n",
              "    .dataframe tbody tr th {\n",
              "        vertical-align: top;\n",
              "    }\n",
              "\n",
              "    .dataframe thead th {\n",
              "        text-align: right;\n",
              "    }\n",
              "</style>\n",
              "<table border=\"1\" class=\"dataframe\">\n",
              "  <thead>\n",
              "    <tr style=\"text-align: right;\">\n",
              "      <th></th>\n",
              "      <th>Article_id</th>\n",
              "      <th>Venue</th>\n",
              "      <th>Title</th>\n",
              "      <th>Year</th>\n",
              "      <th>Abstract</th>\n",
              "      <th>Doi</th>\n",
              "      <th>fieldsOfStudy</th>\n",
              "      <th>topics</th>\n",
              "      <th>Downloadurl</th>\n",
              "      <th>TotalCitationCount</th>\n",
              "      <th>TotalDownloadCount</th>\n",
              "      <th>Influentialcitationcount</th>\n",
              "    </tr>\n",
              "  </thead>\n",
              "  <tbody>\n",
              "    <tr>\n",
              "      <th>0</th>\n",
              "      <td>https://doi.org/10.1145/511285.511286</td>\n",
              "      <td>SIGIR '71</td>\n",
              "      <td>Introduction and perspectives for the 1971 ACM...</td>\n",
              "      <td>1971</td>\n",
              "      <td>introduction prospectives provided 1971 acm in...</td>\n",
              "      <td>10.1145/511285.511286</td>\n",
              "      <td>Computer Science</td>\n",
              "      <td>Information retrieval,Document retrieval</td>\n",
              "      <td>https://dl.acm.org/doi/pdf/10.1145/511285.5112...</td>\n",
              "      <td>0</td>\n",
              "      <td>222</td>\n",
              "      <td>0</td>\n",
              "    </tr>\n",
              "    <tr>\n",
              "      <th>1</th>\n",
              "      <td>https://doi.org/10.1145/511285.511288</td>\n",
              "      <td>SIGIR '71</td>\n",
              "      <td>The function of semantics in automated languag...</td>\n",
              "      <td>1971</td>\n",
              "      <td>paper survey major semantic models developed a...</td>\n",
              "      <td>10.1145/511285.511288</td>\n",
              "      <td>Computer Science</td>\n",
              "      <td>SIMMON,Semantic analysis (compilers),Lexicon,N...</td>\n",
              "      <td>https://dl.acm.org/doi/pdf/10.1145/511285.5112...</td>\n",
              "      <td>6</td>\n",
              "      <td>728</td>\n",
              "      <td>0</td>\n",
              "    </tr>\n",
              "    <tr>\n",
              "      <th>2</th>\n",
              "      <td>https://doi.org/10.1145/511285.511289</td>\n",
              "      <td>SIGIR '71</td>\n",
              "      <td>How features resolve syntactic ambiguity</td>\n",
              "      <td>1971</td>\n",
              "      <td>ambiguity pervasive important aspect natural l...</td>\n",
              "      <td>10.1145/511285.511289</td>\n",
              "      <td>Computer Science</td>\n",
              "      <td>Natural language,Formal language,Parsing,Softw...</td>\n",
              "      <td>https://dl.acm.org/doi/pdf/10.1145/511285.5112...</td>\n",
              "      <td>4</td>\n",
              "      <td>280</td>\n",
              "      <td>0</td>\n",
              "    </tr>\n",
              "    <tr>\n",
              "      <th>3</th>\n",
              "      <td>https://doi.org/10.1145/511285.511290</td>\n",
              "      <td>SIGIR '71</td>\n",
              "      <td>The converse natural language data management ...</td>\n",
              "      <td>1971</td>\n",
              "      <td>paper presents overview research progress prin...</td>\n",
              "      <td>10.1145/511285.511290</td>\n",
              "      <td>Computer Science</td>\n",
              "      <td>Database,Natural language,Management system,Co...</td>\n",
              "      <td>https://dl.acm.org/doi/pdf/10.1145/511285.5112...</td>\n",
              "      <td>10</td>\n",
              "      <td>256</td>\n",
              "      <td>0</td>\n",
              "    </tr>\n",
              "    <tr>\n",
              "      <th>4</th>\n",
              "      <td>https://doi.org/10.1145/511285.511292</td>\n",
              "      <td>SIGIR '71</td>\n",
              "      <td>CUE: a preprocessor system for restricted, nat...</td>\n",
              "      <td>1971</td>\n",
              "      <td>cue input interface system permits computer ut...</td>\n",
              "      <td>10.1145/511285.511292</td>\n",
              "      <td>Computer Science</td>\n",
              "      <td>Preprocessor,Transformational grammar,Input de...</td>\n",
              "      <td>https://dl.acm.org/doi/pdf/10.1145/511285.5112...</td>\n",
              "      <td>4</td>\n",
              "      <td>184</td>\n",
              "      <td>0</td>\n",
              "    </tr>\n",
              "    <tr>\n",
              "      <th>...</th>\n",
              "      <td>...</td>\n",
              "      <td>...</td>\n",
              "      <td>...</td>\n",
              "      <td>...</td>\n",
              "      <td>...</td>\n",
              "      <td>...</td>\n",
              "      <td>...</td>\n",
              "      <td>...</td>\n",
              "      <td>...</td>\n",
              "      <td>...</td>\n",
              "      <td>...</td>\n",
              "      <td>...</td>\n",
              "    </tr>\n",
              "    <tr>\n",
              "      <th>963</th>\n",
              "      <td>https://doi.org/10.1145/345508.345670</td>\n",
              "      <td>SIGIR '00</td>\n",
              "      <td>Integrated search tools for newspaper digital ...</td>\n",
              "      <td>2000</td>\n",
              "      <td>printing press rotogravure press cylinder freq...</td>\n",
              "      <td>10.1145/345508.345670</td>\n",
              "      <td>Computer Science</td>\n",
              "      <td>Digital library,Requirement,Library (computing...</td>\n",
              "      <td>https://dl.acm.org/doi/pdf/10.1145/345508.3456...</td>\n",
              "      <td>0</td>\n",
              "      <td>4.0</td>\n",
              "      <td>0</td>\n",
              "    </tr>\n",
              "    <tr>\n",
              "      <th>964</th>\n",
              "      <td>https://doi.org/10.1145/345508.345671</td>\n",
              "      <td>SIGIR '00</td>\n",
              "      <td>Managing photos with AT&amp;T Shoebox (demonstrati...</td>\n",
              "      <td>2000</td>\n",
              "      <td>user creates shoebox photographs or images may...</td>\n",
              "      <td>10.1145/345508.345671</td>\n",
              "      <td>Computer Science</td>\n",
              "      <td>IBM Shoebox,Email,Web page,Printing,Flight dyn...</td>\n",
              "      <td>https://dl.acm.org/doi/pdf/10.1145/345508.3456...</td>\n",
              "      <td>3</td>\n",
              "      <td>4.0</td>\n",
              "      <td>1</td>\n",
              "    </tr>\n",
              "    <tr>\n",
              "      <th>965</th>\n",
              "      <td>https://doi.org/10.1145/345508.345672</td>\n",
              "      <td>SIGIR '00</td>\n",
              "      <td>ClusterBook, a tool for dual information acces...</td>\n",
              "      <td>2000</td>\n",
              "      <td>None</td>\n",
              "      <td>10.1145/345508.345672</td>\n",
              "      <td>Computer Science</td>\n",
              "      <td>Information access</td>\n",
              "      <td>https://dl.acm.org/doi/pdf/10.1145/345508.3456...</td>\n",
              "      <td>0</td>\n",
              "      <td>2.0</td>\n",
              "      <td>0</td>\n",
              "    </tr>\n",
              "    <tr>\n",
              "      <th>966</th>\n",
              "      <td>https://doi.org/10.1145/345508.345673</td>\n",
              "      <td>SIGIR '00</td>\n",
              "      <td>Uexküll (demonstration session): an interactiv...</td>\n",
              "      <td>2000</td>\n",
              "      <td>use cooccurrence pattern termdocument matrix e...</td>\n",
              "      <td>10.1145/345508.345673</td>\n",
              "      <td>Computer Science</td>\n",
              "      <td>Latent variable,User interface,Document retrie...</td>\n",
              "      <td>https://dl.acm.org/doi/pdf/10.1145/345508.3456...</td>\n",
              "      <td>1</td>\n",
              "      <td>1.0</td>\n",
              "      <td>0</td>\n",
              "    </tr>\n",
              "    <tr>\n",
              "      <th>967</th>\n",
              "      <td>https://doi.org/10.1145/345508.345674</td>\n",
              "      <td>SIGIR '00</td>\n",
              "      <td>TimeMine (demonstration session): visualizing ...</td>\n",
              "      <td>2000</td>\n",
              "      <td>screen shot tlmemine system screenshot shows t...</td>\n",
              "      <td>10.1145/345508.345674</td>\n",
              "      <td>Computer Science</td>\n",
              "      <td>Timeline,Screenshot,Accessibility,Organizing (...</td>\n",
              "      <td>https://dl.acm.org/doi/pdf/10.1145/345508.3456...</td>\n",
              "      <td>4</td>\n",
              "      <td>3.0</td>\n",
              "      <td>0</td>\n",
              "    </tr>\n",
              "  </tbody>\n",
              "</table>\n",
              "<p>968 rows × 12 columns</p>\n",
              "</div>"
            ],
            "text/plain": [
              "                                Article_id  ... Influentialcitationcount\n",
              "0    https://doi.org/10.1145/511285.511286  ...                        0\n",
              "1    https://doi.org/10.1145/511285.511288  ...                        0\n",
              "2    https://doi.org/10.1145/511285.511289  ...                        0\n",
              "3    https://doi.org/10.1145/511285.511290  ...                        0\n",
              "4    https://doi.org/10.1145/511285.511292  ...                        0\n",
              "..                                     ...  ...                      ...\n",
              "963  https://doi.org/10.1145/345508.345670  ...                        0\n",
              "964  https://doi.org/10.1145/345508.345671  ...                        1\n",
              "965  https://doi.org/10.1145/345508.345672  ...                        0\n",
              "966  https://doi.org/10.1145/345508.345673  ...                        0\n",
              "967  https://doi.org/10.1145/345508.345674  ...                        0\n",
              "\n",
              "[968 rows x 12 columns]"
            ]
          },
          "metadata": {
            "tags": []
          },
          "execution_count": 4
        }
      ]
    },
    {
      "cell_type": "code",
      "metadata": {
        "id": "Std2JsPSFzls",
        "colab_type": "code",
        "colab": {}
      },
      "source": [
        "import json\n",
        "import pandas\n",
        "from pandas import DataFrame\n",
        "authorIdlist = []\n",
        "authorname = []\n",
        "authorurl = []\n",
        "Doilist = []\n",
        "authorrank = []\n",
        "#authorinstitution = []\n",
        "#publicationcount = []\n",
        "for i in range(968):\n",
        "  f = open('/content/jsonfiles/Article' + str(i) + '.json')\n",
        "  data = json.load(f)\n",
        "  string = 'https://doi.org/'\n",
        "  articleidlist = [string+x for x in Doilist]\n",
        "  doi = data['doi']\n",
        "  for value in data['authors']:\n",
        "    Doilist.append(doi)\n",
        "    authorId = value['authorId']\n",
        "    authorIdlist.append(authorId) \n",
        "  for value in data['authors']:\n",
        "    name = value['name']\n",
        "    authorname.append(name) \n",
        "  for value in data['authors']:\n",
        "    url = value['url']\n",
        "    authorurl.append(url)\n",
        "  for value in data['authors']:\n",
        "    rank = value['authorId']\n",
        "    authorrank.append(authorId)\n",
        "f.close()"
      ],
      "execution_count": 0,
      "outputs": []
    },
    {
      "cell_type": "code",
      "metadata": {
        "id": "rDiNiNPFF-w7",
        "colab_type": "code",
        "outputId": "4605152d-6b56-4832-ff5a-c0915f654d20",
        "colab": {
          "base_uri": "https://localhost:8080/",
          "height": 416
        }
      },
      "source": [
        "import pandas as pd\n",
        "import glob\n",
        "import pandas as pd\n",
        "import os\n",
        "# Select all the files in your directory\n",
        "a = {'article_id': Doilist, 'authorId' : authorIdlist ,'name' : authorname ,'url' : authorurl,'Publicationcount':publicationcount}\n",
        "df = pd.DataFrame.from_dict(a, orient='index')\n",
        "df1 = df.transpose()\n",
        "abc = df1['article_id']\n",
        "abc = abc.tolist()\n",
        "new_df12 = pd.DataFrame(abc, columns=['c1_new'])\n",
        "hope = new_df12['c1_new'].value_counts(sort=False).to_dict()\n",
        "new_hope = []\n",
        "keys = new_df12['c1_new'].unique()\n",
        "keys\n",
        "for key in keys:\n",
        "  values = hope[key]\n",
        "  for i in range(1,values+1):\n",
        "    new_hope.append(i)\n",
        "new_df12['Rank']=new_hope\n",
        "df1['Rank']=new_hope\n",
        "df1.to_csv('/content/jsonfiles/table2.csv')\n",
        "df1"
      ],
      "execution_count": 0,
      "outputs": [
        {
          "output_type": "execute_result",
          "data": {
            "text/html": [
              "<div>\n",
              "<style scoped>\n",
              "    .dataframe tbody tr th:only-of-type {\n",
              "        vertical-align: middle;\n",
              "    }\n",
              "\n",
              "    .dataframe tbody tr th {\n",
              "        vertical-align: top;\n",
              "    }\n",
              "\n",
              "    .dataframe thead th {\n",
              "        text-align: right;\n",
              "    }\n",
              "</style>\n",
              "<table border=\"1\" class=\"dataframe\">\n",
              "  <thead>\n",
              "    <tr style=\"text-align: right;\">\n",
              "      <th></th>\n",
              "      <th>article_id</th>\n",
              "      <th>authorId</th>\n",
              "      <th>name</th>\n",
              "      <th>url</th>\n",
              "      <th>Publicationcount</th>\n",
              "      <th>Rank</th>\n",
              "    </tr>\n",
              "  </thead>\n",
              "  <tbody>\n",
              "    <tr>\n",
              "      <th>0</th>\n",
              "      <td>10.1145/511285.511286</td>\n",
              "      <td>1777876</td>\n",
              "      <td>Jack Minker</td>\n",
              "      <td>https://www.semanticscholar.org/author/1777876</td>\n",
              "      <td>252</td>\n",
              "      <td>1</td>\n",
              "    </tr>\n",
              "    <tr>\n",
              "      <th>1</th>\n",
              "      <td>10.1145/511285.511286</td>\n",
              "      <td>144890509</td>\n",
              "      <td>Sam Rosenfeld</td>\n",
              "      <td>https://www.semanticscholar.org/author/144890509</td>\n",
              "      <td>7</td>\n",
              "      <td>2</td>\n",
              "    </tr>\n",
              "    <tr>\n",
              "      <th>2</th>\n",
              "      <td>10.1145/511285.511288</td>\n",
              "      <td>2523724</td>\n",
              "      <td>Milos Pacak</td>\n",
              "      <td>https://www.semanticscholar.org/author/2523724</td>\n",
              "      <td>18</td>\n",
              "      <td>1</td>\n",
              "    </tr>\n",
              "    <tr>\n",
              "      <th>3</th>\n",
              "      <td>10.1145/511285.511288</td>\n",
              "      <td>2641020</td>\n",
              "      <td>Arnold W. Pratt</td>\n",
              "      <td>https://www.semanticscholar.org/author/2641020</td>\n",
              "      <td>48</td>\n",
              "      <td>2</td>\n",
              "    </tr>\n",
              "    <tr>\n",
              "      <th>4</th>\n",
              "      <td>10.1145/511285.511289</td>\n",
              "      <td>1401061734</td>\n",
              "      <td>Bozena Henisz-Dostert</td>\n",
              "      <td>https://www.semanticscholar.org/author/1401061734</td>\n",
              "      <td>13</td>\n",
              "      <td>1</td>\n",
              "    </tr>\n",
              "    <tr>\n",
              "      <th>...</th>\n",
              "      <td>...</td>\n",
              "      <td>...</td>\n",
              "      <td>...</td>\n",
              "      <td>...</td>\n",
              "      <td>...</td>\n",
              "      <td>...</td>\n",
              "    </tr>\n",
              "    <tr>\n",
              "      <th>2212</th>\n",
              "      <td>10.1145/345508.345672</td>\n",
              "      <td>2020016</td>\n",
              "      <td>Peter Lowit</td>\n",
              "      <td>https://www.semanticscholar.org/author/2020016</td>\n",
              "      <td>8</td>\n",
              "      <td>4</td>\n",
              "    </tr>\n",
              "    <tr>\n",
              "      <th>2213</th>\n",
              "      <td>10.1145/345508.345673</td>\n",
              "      <td>35319335</td>\n",
              "      <td>Michael Preminger</td>\n",
              "      <td>https://www.semanticscholar.org/author/35319335</td>\n",
              "      <td>25</td>\n",
              "      <td>1</td>\n",
              "    </tr>\n",
              "    <tr>\n",
              "      <th>2214</th>\n",
              "      <td>10.1145/345508.345673</td>\n",
              "      <td>1755484</td>\n",
              "      <td>Sándor Darányi</td>\n",
              "      <td>https://www.semanticscholar.org/author/1755484</td>\n",
              "      <td>83</td>\n",
              "      <td>2</td>\n",
              "    </tr>\n",
              "    <tr>\n",
              "      <th>2215</th>\n",
              "      <td>10.1145/345508.345674</td>\n",
              "      <td>46269552</td>\n",
              "      <td>Russell C. Swan</td>\n",
              "      <td>https://www.semanticscholar.org/author/46269552</td>\n",
              "      <td>17</td>\n",
              "      <td>1</td>\n",
              "    </tr>\n",
              "    <tr>\n",
              "      <th>2216</th>\n",
              "      <td>10.1145/345508.345674</td>\n",
              "      <td>144890574</td>\n",
              "      <td>James Allan</td>\n",
              "      <td>https://www.semanticscholar.org/author/144890574</td>\n",
              "      <td>465</td>\n",
              "      <td>2</td>\n",
              "    </tr>\n",
              "  </tbody>\n",
              "</table>\n",
              "<p>2217 rows × 6 columns</p>\n",
              "</div>"
            ],
            "text/plain": [
              "                 article_id    authorId  ... Publicationcount Rank\n",
              "0     10.1145/511285.511286     1777876  ...              252    1\n",
              "1     10.1145/511285.511286   144890509  ...                7    2\n",
              "2     10.1145/511285.511288     2523724  ...               18    1\n",
              "3     10.1145/511285.511288     2641020  ...               48    2\n",
              "4     10.1145/511285.511289  1401061734  ...               13    1\n",
              "...                     ...         ...  ...              ...  ...\n",
              "2212  10.1145/345508.345672     2020016  ...                8    4\n",
              "2213  10.1145/345508.345673    35319335  ...               25    1\n",
              "2214  10.1145/345508.345673     1755484  ...               83    2\n",
              "2215  10.1145/345508.345674    46269552  ...               17    1\n",
              "2216  10.1145/345508.345674   144890574  ...              465    2\n",
              "\n",
              "[2217 rows x 6 columns]"
            ]
          },
          "metadata": {
            "tags": []
          },
          "execution_count": 66
        }
      ]
    },
    {
      "cell_type": "code",
      "metadata": {
        "id": "35cfLx5AWONz",
        "colab_type": "code",
        "colab": {}
      },
      "source": [
        ""
      ],
      "execution_count": 0,
      "outputs": []
    },
    {
      "cell_type": "code",
      "metadata": {
        "id": "woNuqtXtGOjV",
        "colab_type": "code",
        "colab": {}
      },
      "source": [
        "import csv\n",
        "import itertools\n",
        "contents = []\n",
        "with open('/content/jsonfiles/table2.csv','r') as csvf:\n",
        "    urls = csv.reader(csvf)\n",
        "    next(urls, None)\n",
        "    contents = [row[2] for row in itertools.islice(urls,2217)] \n",
        "string = 'https://api.semanticscholar.org/v1/author/'\n",
        "my_new_list = [string+x for x in contents]\n",
        "with open(\"Article_URLs.csv\",\"w\") as f:\n",
        "    writer = csv.writer(f,delimiter=\"\\n\")\n",
        "    writer.writerow(['ArticleURL'])\n",
        "    writer.writerow(my_new_list)"
      ],
      "execution_count": 0,
      "outputs": []
    },
    {
      "cell_type": "code",
      "metadata": {
        "id": "m6L6G70lGVd-",
        "colab_type": "code",
        "outputId": "52a27c0f-f13a-4c2d-9ab8-9b8919b3a30a",
        "colab": {
          "base_uri": "https://localhost:8080/",
          "height": 190
        }
      },
      "source": [
        "import json\n",
        "import pandas\n",
        "from pandas import DataFrame\n",
        "import urllib.request\n",
        "from urllib.request import Request, urlopen\n",
        "from urllib.error import URLError, HTTPError\n",
        "import time\n",
        "countUp = 0\n",
        "headers = {}\n",
        "headers['User-Agent'] = 'Mozilla/5.0 (X11; Linux i686) AppleWebKit/537.17 (KHTML, like Gecko) Chrome/24.0.1312.27 Safari/537.17'\n",
        "publicationcount = []\n",
        "for i in range(2217):\n",
        "   try:\n",
        "     webUrl  = urllib.request.urlopen(my_new_list[i])\n",
        "     data = webUrl.read()\n",
        "     count =str(data).count('paperId')\n",
        "     time.sleep(2)\n",
        "     \n",
        "     time.sleep(0.1)\n",
        "     countUp += 1\n",
        "   except HTTPError as e:\n",
        "     pass\n",
        "     print('The server couldn\\'t fulfill the request.')\n",
        "     print('Error code:' , e.code)\n",
        "     count='NaN'\n",
        "     time.sleep(30) \n",
        "   except URLError as e:\n",
        "     print('We failed to reach a server.')\n",
        "     print('Reason: ', e.reason)\n",
        "     time.sleep(30)    \n",
        " \n",
        "   #print(str(count) + ' ' + str(i))\n",
        "   publicationcount.append(count)"
      ],
      "execution_count": 0,
      "outputs": [
        {
          "output_type": "stream",
          "text": [
            "The server couldn't fulfill the request.\n",
            "Error code: 403\n",
            "The server couldn't fulfill the request.\n",
            "Error code: 403\n",
            "The server couldn't fulfill the request.\n",
            "Error code: 404\n",
            "The server couldn't fulfill the request.\n",
            "Error code: 404\n",
            "The server couldn't fulfill the request.\n",
            "Error code: 404\n"
          ],
          "name": "stdout"
        }
      ]
    },
    {
      "cell_type": "code",
      "metadata": {
        "id": "gc2Ba9AFe4Xc",
        "colab_type": "code",
        "outputId": "a1c41e8c-8017-4000-b9ce-955a2d2548cd",
        "colab": {
          "base_uri": "https://localhost:8080/",
          "height": 589
        }
      },
      "source": [
        "#table 3\n",
        "import json\n",
        "import pandas\n",
        "from pandas import DataFrame\n",
        "article_id = []\n",
        "citingpaperId = []\n",
        "citingdoi = []\n",
        "citingtitle = []\n",
        "citingvenue = []\n",
        "citingyear = []\n",
        "citingintent = []\n",
        "citinginfluential = []\n",
        "for i in range(968):\n",
        "  f = open('/content/jsonfiles/Article' + str(i) + '.json')\n",
        "  data = json.load(f)\n",
        "  article_data = data['doi']\n",
        "  for value in data['citations']:\n",
        "    paperId = value['paperId']\n",
        "    citingpaperId.append(paperId)\n",
        "    doi = value['doi']\n",
        "    article_id.append(article_data)\n",
        "    citingdoi.append(doi)\n",
        "    title = value['title']\n",
        "    citingtitle.append(title)\n",
        "    venue = value['venue']\n",
        "    citingvenue.append(venue)\n",
        "    year = value['year']\n",
        "    citingyear.append(year)\n",
        "    intent = value['intent']\n",
        "    citingintent.append(intent)\n",
        "    isInfluential = value['isInfluential']\n",
        "    citinginfluential.append(isInfluential)  \n",
        "a = {'article_id': article_id,'paperId' : citingpaperId ,'doi' : citingdoi ,'title' : citingtitle ,\n",
        "     'venue' :citingvenue, 'year': citingyear,\n",
        "     'intent' : citingintent,'isInfluential' : citinginfluential}\n",
        "df = pd.DataFrame.from_dict(a, orient='index')\n",
        "df1 = df.transpose()\n",
        "df1['intent'] = df1['intent'].apply(lambda x : ' '.join(map(str, x)))\n",
        "df1.to_csv('/content/jsonfiles/table3.csv', columns = a)\n",
        "df1"
      ],
      "execution_count": 0,
      "outputs": [
        {
          "output_type": "execute_result",
          "data": {
            "text/html": [
              "<div>\n",
              "<style scoped>\n",
              "    .dataframe tbody tr th:only-of-type {\n",
              "        vertical-align: middle;\n",
              "    }\n",
              "\n",
              "    .dataframe tbody tr th {\n",
              "        vertical-align: top;\n",
              "    }\n",
              "\n",
              "    .dataframe thead th {\n",
              "        text-align: right;\n",
              "    }\n",
              "</style>\n",
              "<table border=\"1\" class=\"dataframe\">\n",
              "  <thead>\n",
              "    <tr style=\"text-align: right;\">\n",
              "      <th></th>\n",
              "      <th>article_id</th>\n",
              "      <th>paperId</th>\n",
              "      <th>doi</th>\n",
              "      <th>title</th>\n",
              "      <th>venue</th>\n",
              "      <th>year</th>\n",
              "      <th>intent</th>\n",
              "      <th>isInfluential</th>\n",
              "    </tr>\n",
              "  </thead>\n",
              "  <tbody>\n",
              "    <tr>\n",
              "      <th>0</th>\n",
              "      <td>10.1145/511285.511288</td>\n",
              "      <td>8113edc6c95508bc7f9ae624903f8f4c98d3395b</td>\n",
              "      <td>10.1007/BF01007763</td>\n",
              "      <td>Relevance of computer science to linguistics a...</td>\n",
              "      <td>International Journal of Computer &amp; Informatio...</td>\n",
              "      <td>1975</td>\n",
              "      <td></td>\n",
              "      <td>False</td>\n",
              "    </tr>\n",
              "    <tr>\n",
              "      <th>1</th>\n",
              "      <td>10.1145/511285.511288</td>\n",
              "      <td>819c14aeb7fbd7819baa58f038142db1f0cfc351</td>\n",
              "      <td>10.3115/992532.992563</td>\n",
              "      <td>An English Dictionary for Computerized Syntact...</td>\n",
              "      <td>COLING</td>\n",
              "      <td>1973</td>\n",
              "      <td></td>\n",
              "      <td>False</td>\n",
              "    </tr>\n",
              "    <tr>\n",
              "      <th>2</th>\n",
              "      <td>10.1145/511285.511288</td>\n",
              "      <td>28dd43a10b78cc6297081fb7b9be86e114894391</td>\n",
              "      <td>10.1145/1095515.1095516</td>\n",
              "      <td>Information storage and retrieval: a survey an...</td>\n",
              "      <td>SIGF</td>\n",
              "      <td>1977</td>\n",
              "      <td></td>\n",
              "      <td>False</td>\n",
              "    </tr>\n",
              "    <tr>\n",
              "      <th>3</th>\n",
              "      <td>10.1145/511285.511288</td>\n",
              "      <td>24f73ab2828f9aecbc079a9d5f5028c392eaa5b0</td>\n",
              "      <td>10.1002/asi.4630290207</td>\n",
              "      <td>Automatic indexing of pathology data</td>\n",
              "      <td>JASIS</td>\n",
              "      <td>1978</td>\n",
              "      <td></td>\n",
              "      <td>False</td>\n",
              "    </tr>\n",
              "    <tr>\n",
              "      <th>4</th>\n",
              "      <td>10.1145/511285.511288</td>\n",
              "      <td>393a9de965783f2c0f42b82db47321df10402472</td>\n",
              "      <td>10.1007/BF00998326</td>\n",
              "      <td>Simple-english for data base communication</td>\n",
              "      <td>International Journal of Computer &amp; Informatio...</td>\n",
              "      <td>1977</td>\n",
              "      <td>background</td>\n",
              "      <td>False</td>\n",
              "    </tr>\n",
              "    <tr>\n",
              "      <th>...</th>\n",
              "      <td>...</td>\n",
              "      <td>...</td>\n",
              "      <td>...</td>\n",
              "      <td>...</td>\n",
              "      <td>...</td>\n",
              "      <td>...</td>\n",
              "      <td>...</td>\n",
              "      <td>...</td>\n",
              "    </tr>\n",
              "    <tr>\n",
              "      <th>65632</th>\n",
              "      <td>10.1145/345508.345673</td>\n",
              "      <td>e85206cb8c17461f8f823972a44a33b2eaed1ddb</td>\n",
              "      <td>None</td>\n",
              "      <td>The Uexküll Approach: Evaluation of Multivaria...</td>\n",
              "      <td></td>\n",
              "      <td>2009</td>\n",
              "      <td>background</td>\n",
              "      <td>False</td>\n",
              "    </tr>\n",
              "    <tr>\n",
              "      <th>65633</th>\n",
              "      <td>10.1145/345508.345674</td>\n",
              "      <td>4665b979d409e9878404ead82e87d787cbca270f</td>\n",
              "      <td>10.1145/3121113.3121221</td>\n",
              "      <td>Digging text viz: an archaeological review of ...</td>\n",
              "      <td>SIGDOC '17</td>\n",
              "      <td>2017</td>\n",
              "      <td>methodology</td>\n",
              "      <td>False</td>\n",
              "    </tr>\n",
              "    <tr>\n",
              "      <th>65634</th>\n",
              "      <td>10.1145/345508.345674</td>\n",
              "      <td>c022253b7988d517a53f48edf5867b3b5557271d</td>\n",
              "      <td>10.1145/1459359.1459549</td>\n",
              "      <td>Personalized news video recommendation</td>\n",
              "      <td>ACM Multimedia</td>\n",
              "      <td>2008</td>\n",
              "      <td>methodology background</td>\n",
              "      <td>False</td>\n",
              "    </tr>\n",
              "    <tr>\n",
              "      <th>65635</th>\n",
              "      <td>10.1145/345508.345674</td>\n",
              "      <td>d4ce5e9394ecd2cb3e64bb952885a236e99f1fc5</td>\n",
              "      <td>10.1109/HICSS.2005.459</td>\n",
              "      <td>NusEye: Visualizing Network Structure to Suppo...</td>\n",
              "      <td>Proceedings of the 38th Annual Hawaii Internat...</td>\n",
              "      <td>2005</td>\n",
              "      <td></td>\n",
              "      <td>False</td>\n",
              "    </tr>\n",
              "    <tr>\n",
              "      <th>65636</th>\n",
              "      <td>10.1145/345508.345674</td>\n",
              "      <td>04ab5ed3635a75bfd6b0c95598dbf38a1d4f63e8</td>\n",
              "      <td>10.18653/v1/D16-1259</td>\n",
              "      <td>Unsupervised Timeline Generation for Wikipedia...</td>\n",
              "      <td>EMNLP</td>\n",
              "      <td>2016</td>\n",
              "      <td></td>\n",
              "      <td>False</td>\n",
              "    </tr>\n",
              "  </tbody>\n",
              "</table>\n",
              "<p>65637 rows × 8 columns</p>\n",
              "</div>"
            ],
            "text/plain": [
              "                  article_id  ... isInfluential\n",
              "0      10.1145/511285.511288  ...         False\n",
              "1      10.1145/511285.511288  ...         False\n",
              "2      10.1145/511285.511288  ...         False\n",
              "3      10.1145/511285.511288  ...         False\n",
              "4      10.1145/511285.511288  ...         False\n",
              "...                      ...  ...           ...\n",
              "65632  10.1145/345508.345673  ...         False\n",
              "65633  10.1145/345508.345674  ...         False\n",
              "65634  10.1145/345508.345674  ...         False\n",
              "65635  10.1145/345508.345674  ...         False\n",
              "65636  10.1145/345508.345674  ...         False\n",
              "\n",
              "[65637 rows x 8 columns]"
            ]
          },
          "metadata": {
            "tags": []
          },
          "execution_count": 67
        }
      ]
    },
    {
      "cell_type": "code",
      "metadata": {
        "id": "Pc4qcEOYf_85",
        "colab_type": "code",
        "outputId": "b743b257-956f-4328-b85b-eb7de767fb41",
        "colab": {
          "base_uri": "https://localhost:8080/",
          "height": 554
        }
      },
      "source": [
        "#table 4\n",
        "import re\n",
        "referencepaperidlist = []\n",
        "Referencepaperdoilist = []\n",
        "Referencepapertitlelist = []\n",
        "Referencepapervenuelist = []\n",
        "Referencepaperyearlist = []\n",
        "Isinfluentiallist = [] \n",
        "Intentlist = []\n",
        "article_id = []\n",
        "for i in range(968):\n",
        "  f = open('/content/jsonfiles/Article' + str(i) + '.json')\n",
        "  data = json.load(f)\n",
        "  article_data = data['doi']\n",
        "  for value in data['references']:\n",
        "    article_id.append(article_data)\n",
        "    referencepaperid = value['paperId']\n",
        "    referencepaperidlist.append(referencepaperid)\n",
        "    referencepaperdoi = value['doi']\n",
        "    Referencepaperdoilist.append(referencepaperdoi)\n",
        "    Referencepapertitle = value['title']\n",
        "    Referencepapertitlelist.append(Referencepapertitle)\n",
        "    Referencepapervenue = value['venue']\n",
        "    Referencepapervenuelist.append(Referencepapervenue)\n",
        "    Referencepaperyear = value['year']\n",
        "    Referencepaperyearlist.append(Referencepaperyear)\n",
        "    Intent = value['intent']\n",
        "    Intentlist.append(Intent)\n",
        "    Isinfluential = value['isInfluential']\n",
        "    Isinfluentiallist.append(Isinfluential)\n",
        "a = {'article_id': article_id,'Reference_paper_id' : referencepaperidlist ,'Reference _paper_doi' : Referencepaperdoilist ,'Reference _paper_title' : Referencepapertitlelist ,\n",
        "     'Reference _paper_venue' :Referencepapervenuelist, 'Reference _paper_year': Referencepaperyearlist,\n",
        "     'Intent' : Intentlist,'Is_influential' : Isinfluentiallist}\n",
        "df = pd.DataFrame.from_dict(a, orient='index')\n",
        "df1 = df.transpose()\n",
        "df1['Intent'] = df1['Intent'].apply(lambda x : ' '.join(map(str, x)))\n",
        "df1.to_csv('/content/jsonfiles/table4.csv', columns = a)\n",
        "df1"
      ],
      "execution_count": 0,
      "outputs": [
        {
          "output_type": "execute_result",
          "data": {
            "text/html": [
              "<div>\n",
              "<style scoped>\n",
              "    .dataframe tbody tr th:only-of-type {\n",
              "        vertical-align: middle;\n",
              "    }\n",
              "\n",
              "    .dataframe tbody tr th {\n",
              "        vertical-align: top;\n",
              "    }\n",
              "\n",
              "    .dataframe thead th {\n",
              "        text-align: right;\n",
              "    }\n",
              "</style>\n",
              "<table border=\"1\" class=\"dataframe\">\n",
              "  <thead>\n",
              "    <tr style=\"text-align: right;\">\n",
              "      <th></th>\n",
              "      <th>article_id</th>\n",
              "      <th>Reference_paper_id</th>\n",
              "      <th>Reference _paper_doi</th>\n",
              "      <th>Reference _paper_title</th>\n",
              "      <th>Reference _paper_venue</th>\n",
              "      <th>Reference _paper_year</th>\n",
              "      <th>Intent</th>\n",
              "      <th>Is_influential</th>\n",
              "    </tr>\n",
              "  </thead>\n",
              "  <tbody>\n",
              "    <tr>\n",
              "      <th>0</th>\n",
              "      <td>10.1145/511285.511286</td>\n",
              "      <td>cb93b7894a19780851dcaf0559a8c4f9ac1a7694</td>\n",
              "      <td>10.2307/2982533</td>\n",
              "      <td>Statistical Association Methods for Mechanized...</td>\n",
              "      <td></td>\n",
              "      <td>1967</td>\n",
              "      <td></td>\n",
              "      <td>False</td>\n",
              "    </tr>\n",
              "    <tr>\n",
              "      <th>1</th>\n",
              "      <td>10.1145/511285.511286</td>\n",
              "      <td>6f7949a0301963ca49d88c5c96b375ded713a31b</td>\n",
              "      <td>None</td>\n",
              "      <td>Afips conference proceedings</td>\n",
              "      <td></td>\n",
              "      <td>1963</td>\n",
              "      <td></td>\n",
              "      <td>False</td>\n",
              "    </tr>\n",
              "    <tr>\n",
              "      <th>2</th>\n",
              "      <td>10.1145/511285.511286</td>\n",
              "      <td>dccea747182423d212741a6eecabf4d2024efb52</td>\n",
              "      <td>None</td>\n",
              "      <td>Automatic Information Organization And Retrieval</td>\n",
              "      <td></td>\n",
              "      <td>1968</td>\n",
              "      <td></td>\n",
              "      <td>False</td>\n",
              "    </tr>\n",
              "    <tr>\n",
              "      <th>3</th>\n",
              "      <td>10.1145/511285.511286</td>\n",
              "      <td>a76e8341a099a3ab447ee16aafcd24213cb0dd18</td>\n",
              "      <td>10.1002/asi.5090110403</td>\n",
              "      <td>Key word‐in‐context index for technical litera...</td>\n",
              "      <td></td>\n",
              "      <td>1960</td>\n",
              "      <td></td>\n",
              "      <td>False</td>\n",
              "    </tr>\n",
              "    <tr>\n",
              "      <th>4</th>\n",
              "      <td>10.1145/511285.511286</td>\n",
              "      <td>848dc213c8e0d1d33dd57e91b713e1dce1a6ef1e</td>\n",
              "      <td>10.1145/366243.366720</td>\n",
              "      <td>COMIT as an IR language</td>\n",
              "      <td>CACM</td>\n",
              "      <td>1962</td>\n",
              "      <td></td>\n",
              "      <td>False</td>\n",
              "    </tr>\n",
              "    <tr>\n",
              "      <th>...</th>\n",
              "      <td>...</td>\n",
              "      <td>...</td>\n",
              "      <td>...</td>\n",
              "      <td>...</td>\n",
              "      <td>...</td>\n",
              "      <td>...</td>\n",
              "      <td>...</td>\n",
              "      <td>...</td>\n",
              "    </tr>\n",
              "    <tr>\n",
              "      <th>8515</th>\n",
              "      <td>10.1145/345508.345670</td>\n",
              "      <td>8b414a17fe8142a9ff5f5af6ba63564652e7534f</td>\n",
              "      <td>None</td>\n",
              "      <td>Term weighting revisited</td>\n",
              "      <td></td>\n",
              "      <td>1997</td>\n",
              "      <td></td>\n",
              "      <td>False</td>\n",
              "    </tr>\n",
              "    <tr>\n",
              "      <th>8516</th>\n",
              "      <td>10.1145/345508.345671</td>\n",
              "      <td>9f4e1ce21458d3cd8b74c0a19dea77db3bc0575f</td>\n",
              "      <td>None</td>\n",
              "      <td>Cobra: A new approach to IR System design</td>\n",
              "      <td>RIAO</td>\n",
              "      <td>1997</td>\n",
              "      <td></td>\n",
              "      <td>False</td>\n",
              "    </tr>\n",
              "    <tr>\n",
              "      <th>8517</th>\n",
              "      <td>10.1145/345508.345671</td>\n",
              "      <td>53d61dad3b913c7c8ac602ed82fb5445ca506648</td>\n",
              "      <td>10.1145/312624.312679</td>\n",
              "      <td>Deriving concept hierarchies from text</td>\n",
              "      <td>SIGIR '99</td>\n",
              "      <td>1999</td>\n",
              "      <td></td>\n",
              "      <td>False</td>\n",
              "    </tr>\n",
              "    <tr>\n",
              "      <th>8518</th>\n",
              "      <td>10.1145/345508.345673</td>\n",
              "      <td>e5305866d701a2c102c5f81fbbf48bf6ac29f252</td>\n",
              "      <td>10.1002/(SICI)1097-4571(199009)41:6&lt;391::AID-A...</td>\n",
              "      <td>Indexing by Latent Semantic Analysis</td>\n",
              "      <td></td>\n",
              "      <td>1990</td>\n",
              "      <td></td>\n",
              "      <td>False</td>\n",
              "    </tr>\n",
              "    <tr>\n",
              "      <th>8519</th>\n",
              "      <td>10.1145/345508.345674</td>\n",
              "      <td>b3294141d08b8d57e1e2d87cee1d43f6e4ef12ac</td>\n",
              "      <td>10.1145/263698.263754</td>\n",
              "      <td>Back to the future: the story of Squeak, a pra...</td>\n",
              "      <td>OOPSLA '97</td>\n",
              "      <td>1997</td>\n",
              "      <td></td>\n",
              "      <td>False</td>\n",
              "    </tr>\n",
              "  </tbody>\n",
              "</table>\n",
              "<p>8520 rows × 8 columns</p>\n",
              "</div>"
            ],
            "text/plain": [
              "                 article_id  ... Is_influential\n",
              "0     10.1145/511285.511286  ...          False\n",
              "1     10.1145/511285.511286  ...          False\n",
              "2     10.1145/511285.511286  ...          False\n",
              "3     10.1145/511285.511286  ...          False\n",
              "4     10.1145/511285.511286  ...          False\n",
              "...                     ...  ...            ...\n",
              "8515  10.1145/345508.345670  ...          False\n",
              "8516  10.1145/345508.345671  ...          False\n",
              "8517  10.1145/345508.345671  ...          False\n",
              "8518  10.1145/345508.345673  ...          False\n",
              "8519  10.1145/345508.345674  ...          False\n",
              "\n",
              "[8520 rows x 8 columns]"
            ]
          },
          "metadata": {
            "tags": []
          },
          "execution_count": 68
        }
      ]
    },
    {
      "cell_type": "code",
      "metadata": {
        "id": "_19pcoWWa-fm",
        "colab_type": "code",
        "colab": {}
      },
      "source": [
        "import numpy as np\n",
        "import pandas as pd\n",
        "df = pd.read_csv(\"Final_Table_1.csv\") \n",
        "#splitting the dataset into different dataframes for every five years \n",
        "df1971to1981 = df[(df['Year'] == 1971) | (df['Year'] == 1978) | (df['Year'] == 1979) | (df['Year'] == 1980) | (df['Year'] == 1981)]\n",
        "df1982to1986 = df[(df['Year'] == 1982) | (df['Year'] == 1983) | (df['Year'] == 1984) | (df['Year'] == 1985) | (df['Year'] == 1986)]\n",
        "df1987to1991 = df[(df['Year'] == 1987) | (df['Year'] == 1988) | (df['Year'] == 1989) | (df['Year'] == 1990) | (df['Year'] == 1991)]\n",
        "df1992to1996 = df[(df['Year'] == 1992) | (df['Year'] == 1993) | (df['Year'] == 1994) | (df['Year'] == 1995) | (df['Year'] == 1996)]\n",
        "df1997to2001 = df[(df['Year'] == 1997) | (df['Year'] == 1998) | (df['Year'] == 1999) | (df['Year'] == 2000) | (df['Year'] == 2001)]\n",
        "df2002to2006 = df[(df['Year'] == 2002) | (df['Year'] == 2003) | (df['Year'] == 2004) | (df['Year'] == 2005) | (df['Year'] == 2006)]\n",
        "df2007to2011 = df[(df['Year'] == 2007) | (df['Year'] == 2008) | (df['Year'] == 2009) | (df['Year'] == 2010) | (df['Year'] == 2011)]\n",
        "df2012to2016 = df[(df['Year'] == 2012) | (df['Year'] == 2013) | (df['Year'] == 2014) | (df['Year'] == 2015) | (df['Year'] == 2016)]\n",
        "df2017to2019 = df[(df['Year'] == 2017) | (df['Year'] == 2018) | (df['Year'] == 2019)]"
      ],
      "execution_count": 0,
      "outputs": []
    },
    {
      "cell_type": "code",
      "metadata": {
        "id": "xy0nGf1fWQgu",
        "colab_type": "code",
        "outputId": "169c236b-a9d8-4094-c1ac-0d7152201bea",
        "colab": {
          "base_uri": "https://localhost:8080/",
          "height": 450
        }
      },
      "source": [
        "#analysis \n",
        "import pandas as pd \n",
        "#analysis for fieldofstudy from all 1971 to 2019\n",
        "data = pd.read_csv(\"Final_Table_1.csv\") \n",
        "df1 = data.groupby('fieldsOfStudy').size()\n",
        "print(df1)\n",
        "print()\n",
        "data1 = data['fieldsOfStudy'].describe()\n",
        "print(data1)"
      ],
      "execution_count": 49,
      "outputs": [
        {
          "output_type": "stream",
          "text": [
            "fieldsOfStudy\n",
            "Computer Science                      4386\n",
            "Computer Science Biology                 1\n",
            "Computer Science Chemistry               1\n",
            "Computer Science Engineering             2\n",
            "Computer Science Geography               1\n",
            "Computer Science Materials Science       1\n",
            "Computer Science Mathematics            18\n",
            "Computer Science Medicine                2\n",
            "Computer Science Physics                 2\n",
            "Computer Science Psychology              4\n",
            "Computer Science Sociology               3\n",
            "Economics Computer Science               1\n",
            "Engineering Computer Science             2\n",
            "Mathematics Computer Science             5\n",
            "Medicine Computer Science                1\n",
            "Psychology Computer Science              1\n",
            "Sociology Computer Science               2\n",
            "dtype: int64\n",
            "\n",
            "count                 4433\n",
            "unique                  17\n",
            "top       Computer Science\n",
            "freq                  4386\n",
            "Name: fieldsOfStudy, dtype: object\n"
          ],
          "name": "stdout"
        }
      ]
    },
    {
      "cell_type": "code",
      "metadata": {
        "id": "rVpy-ueoozkb",
        "colab_type": "code",
        "colab": {
          "base_uri": "https://localhost:8080/",
          "height": 173
        },
        "outputId": "716c75c3-d52d-4af3-d21d-7e5afd8b4c6b"
      },
      "source": [
        "#analysis for fieldofstudy from all 1971 to 1981\n",
        "df1971to1981 = df[(df['Year'] == 1971) | (df['Year'] == 1978) | (df['Year'] == 1979) | (df['Year'] == 1980) | (df['Year'] == 1981)]\n",
        "df1 = df1971to1981.groupby('fieldsOfStudy').size()\n",
        "print(df1)\n",
        "print()\n",
        "data1 = df1971to1981['fieldsOfStudy'].describe()\n",
        "print(data1)"
      ],
      "execution_count": 50,
      "outputs": [
        {
          "output_type": "stream",
          "text": [
            "fieldsOfStudy\n",
            "Computer Science    66\n",
            "dtype: int64\n",
            "\n",
            "count                   66\n",
            "unique                   1\n",
            "top       Computer Science\n",
            "freq                    66\n",
            "Name: fieldsOfStudy, dtype: object\n"
          ],
          "name": "stdout"
        }
      ]
    },
    {
      "cell_type": "code",
      "metadata": {
        "id": "xszVOTMCpXUT",
        "colab_type": "code",
        "colab": {
          "base_uri": "https://localhost:8080/",
          "height": 173
        },
        "outputId": "e83976c0-7090-4152-81c3-ccccd31bac1e"
      },
      "source": [
        "#analysis for fieldofstudy from all 1982 to 1986\n",
        "df1982to1986 = df[(df['Year'] == 1982) | (df['Year'] == 1983) | (df['Year'] == 1984) | (df['Year'] == 1985) | (df['Year'] == 1986)]\n",
        "df1 = df1982to1986.groupby('fieldsOfStudy').size()\n",
        "print(df1)\n",
        "print()\n",
        "data1 = df1982to1986['fieldsOfStudy'].describe()\n",
        "print(data1)"
      ],
      "execution_count": 51,
      "outputs": [
        {
          "output_type": "stream",
          "text": [
            "fieldsOfStudy\n",
            "Computer Science    95\n",
            "dtype: int64\n",
            "\n",
            "count                   95\n",
            "unique                   1\n",
            "top       Computer Science\n",
            "freq                    95\n",
            "Name: fieldsOfStudy, dtype: object\n"
          ],
          "name": "stdout"
        }
      ]
    },
    {
      "cell_type": "code",
      "metadata": {
        "id": "9Zj0LJ11nlDQ",
        "colab_type": "code",
        "colab": {
          "base_uri": "https://localhost:8080/",
          "height": 173
        },
        "outputId": "58fd35ef-5fe5-47f5-b066-679c1ee0cd18"
      },
      "source": [
        "#analysis for fieldofstudy from all 1987 to 1991\n",
        "df1987to1991 = df[(df['Year'] == 1987) | (df['Year'] == 1988) | (df['Year'] == 1989) | (df['Year'] == 1990) | (df['Year'] == 1991)]\n",
        "df1 = df1987to1991.groupby('fieldsOfStudy').size()\n",
        "print(df1)\n",
        "print()\n",
        "data1 = df1987to1991['fieldsOfStudy'].describe()\n",
        "print(data1)"
      ],
      "execution_count": 52,
      "outputs": [
        {
          "output_type": "stream",
          "text": [
            "fieldsOfStudy\n",
            "Computer Science    168\n",
            "dtype: int64\n",
            "\n",
            "count                  168\n",
            "unique                   1\n",
            "top       Computer Science\n",
            "freq                   168\n",
            "Name: fieldsOfStudy, dtype: object\n"
          ],
          "name": "stdout"
        }
      ]
    },
    {
      "cell_type": "code",
      "metadata": {
        "id": "chEJiwFZq2iN",
        "colab_type": "code",
        "colab": {
          "base_uri": "https://localhost:8080/",
          "height": 190
        },
        "outputId": "37bd1c4e-013b-4611-f711-abbf8d784496"
      },
      "source": [
        "#analysis for fieldofstudy from all 1992 to 1996\n",
        "df1992to1996 = df[(df['Year'] == 1992) | (df['Year'] == 1993) | (df['Year'] == 1994) | (df['Year'] == 1995) | (df['Year'] == 1996)]\n",
        "df1 = df1992to1996.groupby('fieldsOfStudy').size()\n",
        "print(df1)\n",
        "print()\n",
        "data1 = df1992to1996['fieldsOfStudy'].describe()\n",
        "print(data1)"
      ],
      "execution_count": 53,
      "outputs": [
        {
          "output_type": "stream",
          "text": [
            "fieldsOfStudy\n",
            "Computer Science             179\n",
            "Computer Science Medicine      1\n",
            "dtype: int64\n",
            "\n",
            "count                  180\n",
            "unique                   2\n",
            "top       Computer Science\n",
            "freq                   179\n",
            "Name: fieldsOfStudy, dtype: object\n"
          ],
          "name": "stdout"
        }
      ]
    },
    {
      "cell_type": "code",
      "metadata": {
        "id": "XvkpvDY3rOZr",
        "colab_type": "code",
        "colab": {
          "base_uri": "https://localhost:8080/",
          "height": 173
        },
        "outputId": "e7fa75f3-3242-4edf-9308-fcf83de2486b"
      },
      "source": [
        "#analysis for fieldofstudy from all 1997 to 2001\n",
        "df1997to2001 = df[(df['Year'] == 1997) | (df['Year'] == 1998) | (df['Year'] == 1999) | (df['Year'] == 2000) | (df['Year'] == 2001)]\n",
        "df1 = df1997to2001.groupby('fieldsOfStudy').size()\n",
        "print(df1)\n",
        "print()\n",
        "data1 = df1997to2001['fieldsOfStudy'].describe()\n",
        "print(data1)"
      ],
      "execution_count": 54,
      "outputs": [
        {
          "output_type": "stream",
          "text": [
            "fieldsOfStudy\n",
            "Computer Science    354\n",
            "dtype: int64\n",
            "\n",
            "count                  354\n",
            "unique                   1\n",
            "top       Computer Science\n",
            "freq                   354\n",
            "Name: fieldsOfStudy, dtype: object\n"
          ],
          "name": "stdout"
        }
      ]
    },
    {
      "cell_type": "code",
      "metadata": {
        "id": "R6l7h0fhreEC",
        "colab_type": "code",
        "colab": {
          "base_uri": "https://localhost:8080/",
          "height": 208
        },
        "outputId": "bc472bba-29f5-4f93-d4f2-5613a1c23c34"
      },
      "source": [
        "#analysis for fieldofstudy from all 2002 to 2006\n",
        "df2002to2006 = df[(df['Year'] == 2002) | (df['Year'] == 2003) | (df['Year'] == 2004) | (df['Year'] == 2005) | (df['Year'] == 2006)]\n",
        "df1 = df2002to2006.groupby('fieldsOfStudy').size()\n",
        "print(df1)\n",
        "print()\n",
        "data1 = df2002to2006['fieldsOfStudy'].describe()\n",
        "print(data1)"
      ],
      "execution_count": 55,
      "outputs": [
        {
          "output_type": "stream",
          "text": [
            "fieldsOfStudy\n",
            "Computer Science              632\n",
            "Computer Science Medicine       1\n",
            "Computer Science Sociology      1\n",
            "dtype: int64\n",
            "\n",
            "count                  634\n",
            "unique                   3\n",
            "top       Computer Science\n",
            "freq                   632\n",
            "Name: fieldsOfStudy, dtype: object\n"
          ],
          "name": "stdout"
        }
      ]
    },
    {
      "cell_type": "code",
      "metadata": {
        "id": "NFlexFvYrpTv",
        "colab_type": "code",
        "colab": {
          "base_uri": "https://localhost:8080/",
          "height": 381
        },
        "outputId": "43c42dfb-50ec-457b-d142-3c5f6efc8ed7"
      },
      "source": [
        "#analysis for fieldofstudy from all 2007 to 2011\n",
        "df2007to2011 = df[(df['Year'] == 2007) | (df['Year'] == 2008) | (df['Year'] == 2009) | (df['Year'] == 2010) | (df['Year'] == 2011)]\n",
        "df1 = df2007to2011.groupby('fieldsOfStudy').size()\n",
        "print(df1)\n",
        "print()\n",
        "data1 = df2007to2011['fieldsOfStudy'].describe()\n",
        "print(data1)"
      ],
      "execution_count": 56,
      "outputs": [
        {
          "output_type": "stream",
          "text": [
            "fieldsOfStudy\n",
            "Computer Science                      1053\n",
            "Computer Science Biology                 1\n",
            "Computer Science Chemistry               1\n",
            "Computer Science Materials Science       1\n",
            "Computer Science Mathematics             4\n",
            "Computer Science Physics                 1\n",
            "Computer Science Psychology              4\n",
            "Computer Science Sociology               2\n",
            "Engineering Computer Science             1\n",
            "Mathematics Computer Science             1\n",
            "Medicine Computer Science                1\n",
            "Psychology Computer Science              1\n",
            "Sociology Computer Science               2\n",
            "dtype: int64\n",
            "\n",
            "count                 1073\n",
            "unique                  13\n",
            "top       Computer Science\n",
            "freq                  1053\n",
            "Name: fieldsOfStudy, dtype: object\n"
          ],
          "name": "stdout"
        }
      ]
    },
    {
      "cell_type": "code",
      "metadata": {
        "id": "JPICUi1pryxt",
        "colab_type": "code",
        "colab": {
          "base_uri": "https://localhost:8080/",
          "height": 277
        },
        "outputId": "04530a78-9ea2-463e-f813-8a54af9de5a3"
      },
      "source": [
        "#analysis for fieldofstudy from all 2012 to 2016\n",
        "df2012to2016 = df[(df['Year'] == 2012) | (df['Year'] == 2013) | (df['Year'] == 2014) | (df['Year'] == 2015) | (df['Year'] == 2016)]\n",
        "df1 = df2012to2016.groupby('fieldsOfStudy').size()\n",
        "print(df1)\n",
        "print()\n",
        "data1 = df2012to2016['fieldsOfStudy'].describe()\n",
        "print(data1)\n"
      ],
      "execution_count": 57,
      "outputs": [
        {
          "output_type": "stream",
          "text": [
            "fieldsOfStudy\n",
            "Computer Science                1092\n",
            "Computer Science Geography         1\n",
            "Computer Science Mathematics       2\n",
            "Computer Science Physics           1\n",
            "Economics Computer Science         1\n",
            "Engineering Computer Science       1\n",
            "Mathematics Computer Science       1\n",
            "dtype: int64\n",
            "\n",
            "count                 1099\n",
            "unique                   7\n",
            "top       Computer Science\n",
            "freq                  1092\n",
            "Name: fieldsOfStudy, dtype: object\n"
          ],
          "name": "stdout"
        }
      ]
    },
    {
      "cell_type": "code",
      "metadata": {
        "id": "8dLjxiKAsIu-",
        "colab_type": "code",
        "colab": {
          "base_uri": "https://localhost:8080/",
          "height": 225
        },
        "outputId": "419b8509-36ae-458e-e924-a6672745b6d4"
      },
      "source": [
        "#analysis for fieldofstudy from all 2017 to 2019\n",
        "df2017to2019 = df[(df['Year'] == 2017) | (df['Year'] == 2018) | (df['Year'] == 2019)]\n",
        "df1 = df2017to2019.groupby('fieldsOfStudy').size()\n",
        "print(df1)\n",
        "print()\n",
        "data1 = df2017to2019['fieldsOfStudy'].describe()\n",
        "print(data1)\n"
      ],
      "execution_count": 58,
      "outputs": [
        {
          "output_type": "stream",
          "text": [
            "fieldsOfStudy\n",
            "Computer Science                747\n",
            "Computer Science Engineering      2\n",
            "Computer Science Mathematics     12\n",
            "Mathematics Computer Science      3\n",
            "dtype: int64\n",
            "\n",
            "count                  764\n",
            "unique                   4\n",
            "top       Computer Science\n",
            "freq                   747\n",
            "Name: fieldsOfStudy, dtype: object\n"
          ],
          "name": "stdout"
        }
      ]
    },
    {
      "cell_type": "code",
      "metadata": {
        "id": "sL4TQIyqrPCg",
        "colab_type": "code",
        "colab": {
          "base_uri": "https://localhost:8080/",
          "height": 202
        },
        "outputId": "f2d43c7f-5c72-405c-f693-a0d44cb1221a"
      },
      "source": [
        "#first five authors with maximun number of articles.\n",
        "df = pd.read_csv(\"Final_Table_2.csv\")\n",
        "df['authorId'] = df['authorId'].fillna(0).astype(int)\n",
        "df['count'] = df.groupby('name')['name'].transform('count')\n",
        "df.drop_duplicates('count', inplace=True)\n",
        "df.nlargest(5, ['count'])[[\"name\",\"authorId\",\"count\"]]"
      ],
      "execution_count": 59,
      "outputs": [
        {
          "output_type": "execute_result",
          "data": {
            "text/html": [
              "<div>\n",
              "<style scoped>\n",
              "    .dataframe tbody tr th:only-of-type {\n",
              "        vertical-align: middle;\n",
              "    }\n",
              "\n",
              "    .dataframe tbody tr th {\n",
              "        vertical-align: top;\n",
              "    }\n",
              "\n",
              "    .dataframe thead th {\n",
              "        text-align: right;\n",
              "    }\n",
              "</style>\n",
              "<table border=\"1\" class=\"dataframe\">\n",
              "  <thead>\n",
              "    <tr style=\"text-align: right;\">\n",
              "      <th></th>\n",
              "      <th>name</th>\n",
              "      <th>authorId</th>\n",
              "      <th>count</th>\n",
              "    </tr>\n",
              "  </thead>\n",
              "  <tbody>\n",
              "    <tr>\n",
              "      <th>49</th>\n",
              "      <td>W. Bruce Croft</td>\n",
              "      <td>144456145</td>\n",
              "      <td>101</td>\n",
              "    </tr>\n",
              "    <tr>\n",
              "      <th>2421</th>\n",
              "      <td>Maarten de Rijke</td>\n",
              "      <td>1696030</td>\n",
              "      <td>79</td>\n",
              "    </tr>\n",
              "    <tr>\n",
              "      <th>1442</th>\n",
              "      <td>Ryen W. White</td>\n",
              "      <td>34286525</td>\n",
              "      <td>57</td>\n",
              "    </tr>\n",
              "    <tr>\n",
              "      <th>1333</th>\n",
              "      <td>ChengXiang Zhai</td>\n",
              "      <td>1736467</td>\n",
              "      <td>52</td>\n",
              "    </tr>\n",
              "    <tr>\n",
              "      <th>2363</th>\n",
              "      <td>Leif Azzopardi</td>\n",
              "      <td>1716332</td>\n",
              "      <td>50</td>\n",
              "    </tr>\n",
              "  </tbody>\n",
              "</table>\n",
              "</div>"
            ],
            "text/plain": [
              "                  name   authorId  count\n",
              "49      W. Bruce Croft  144456145    101\n",
              "2421  Maarten de Rijke    1696030     79\n",
              "1442     Ryen W. White   34286525     57\n",
              "1333   ChengXiang Zhai    1736467     52\n",
              "2363    Leif Azzopardi    1716332     50"
            ]
          },
          "metadata": {
            "tags": []
          },
          "execution_count": 59
        }
      ]
    },
    {
      "cell_type": "code",
      "metadata": {
        "id": "KeA6mwgZ9gk-",
        "colab_type": "code",
        "colab": {
          "base_uri": "https://localhost:8080/",
          "height": 202
        },
        "outputId": "b2f4a7e2-8ae1-4467-c6e1-4be6541e3b8a"
      },
      "source": [
        "#Top five topics from all the years \n",
        "topics = pd.read_csv(\"Final_Table_1.csv\")\n",
        "topics['count'] = topics.groupby('topics')['topics'].transform('count')\n",
        "topics.drop_duplicates('count', inplace=True)\n",
        "topics.nlargest(5, ['count'])[[\"topics\",\"count\"]]"
      ],
      "execution_count": 60,
      "outputs": [
        {
          "output_type": "execute_result",
          "data": {
            "text/html": [
              "<div>\n",
              "<style scoped>\n",
              "    .dataframe tbody tr th:only-of-type {\n",
              "        vertical-align: middle;\n",
              "    }\n",
              "\n",
              "    .dataframe tbody tr th {\n",
              "        vertical-align: top;\n",
              "    }\n",
              "\n",
              "    .dataframe thead th {\n",
              "        text-align: right;\n",
              "    }\n",
              "</style>\n",
              "<table border=\"1\" class=\"dataframe\">\n",
              "  <thead>\n",
              "    <tr style=\"text-align: right;\">\n",
              "      <th></th>\n",
              "      <th>topics</th>\n",
              "      <th>count</th>\n",
              "    </tr>\n",
              "  </thead>\n",
              "  <tbody>\n",
              "    <tr>\n",
              "      <th>95</th>\n",
              "      <td>Information retrieval</td>\n",
              "      <td>16.0</td>\n",
              "    </tr>\n",
              "    <tr>\n",
              "      <th>1294</th>\n",
              "      <td>Web search engine</td>\n",
              "      <td>9.0</td>\n",
              "    </tr>\n",
              "    <tr>\n",
              "      <th>246</th>\n",
              "      <td>Algorithm</td>\n",
              "      <td>5.0</td>\n",
              "    </tr>\n",
              "    <tr>\n",
              "      <th>215</th>\n",
              "      <td>Information retrieval,Relevance</td>\n",
              "      <td>4.0</td>\n",
              "    </tr>\n",
              "    <tr>\n",
              "      <th>446</th>\n",
              "      <td>Query expansion</td>\n",
              "      <td>3.0</td>\n",
              "    </tr>\n",
              "  </tbody>\n",
              "</table>\n",
              "</div>"
            ],
            "text/plain": [
              "                               topics  count\n",
              "95              Information retrieval   16.0\n",
              "1294                Web search engine    9.0\n",
              "246                         Algorithm    5.0\n",
              "215   Information retrieval,Relevance    4.0\n",
              "446                   Query expansion    3.0"
            ]
          },
          "metadata": {
            "tags": []
          },
          "execution_count": 60
        }
      ]
    },
    {
      "cell_type": "code",
      "metadata": {
        "id": "jRIeJ8G7wWKY",
        "colab_type": "code",
        "colab": {}
      },
      "source": [
        "import numpy as np\n",
        "import pandas as pd\n",
        "df = pd.read_csv(\"Final_Table_1.csv\") \n",
        "#splitting the dataset into different dataframes for every five years \n",
        "df1971to1981 = df[(df['Year'] == 1971) | (df['Year'] == 1978) | (df['Year'] == 1979) | (df['Year'] == 1980) | (df['Year'] == 1981)]\n",
        "df1982to1986 = df[(df['Year'] == 1982) | (df['Year'] == 1983) | (df['Year'] == 1984) | (df['Year'] == 1985) | (df['Year'] == 1986)]\n",
        "df1987to1991 = df[(df['Year'] == 1987) | (df['Year'] == 1988) | (df['Year'] == 1989) | (df['Year'] == 1990) | (df['Year'] == 1991)]\n",
        "df1992to1996 = df[(df['Year'] == 1992) | (df['Year'] == 1993) | (df['Year'] == 1994) | (df['Year'] == 1995) | (df['Year'] == 1996)]\n",
        "df1997to2001 = df[(df['Year'] == 1997) | (df['Year'] == 1998) | (df['Year'] == 1999) | (df['Year'] == 2000) | (df['Year'] == 2001)]\n",
        "df2002to2006 = df[(df['Year'] == 2002) | (df['Year'] == 2003) | (df['Year'] == 2004) | (df['Year'] == 2005) | (df['Year'] == 2006)]\n",
        "df2007to2011 = df[(df['Year'] == 2007) | (df['Year'] == 2008) | (df['Year'] == 2009) | (df['Year'] == 2010) | (df['Year'] == 2011)]\n",
        "df2012to2016 = df[(df['Year'] == 2012) | (df['Year'] == 2013) | (df['Year'] == 2014) | (df['Year'] == 2015) | (df['Year'] == 2016)]\n",
        "df2017to2019 = df[(df['Year'] == 2017) | (df['Year'] == 2018) | (df['Year'] == 2019)]"
      ],
      "execution_count": 0,
      "outputs": []
    },
    {
      "cell_type": "code",
      "metadata": {
        "id": "VufYlm4-wbWH",
        "colab_type": "code",
        "colab": {
          "base_uri": "https://localhost:8080/",
          "height": 270
        },
        "outputId": "c4b455db-b686-40ff-b477-ec2467063906"
      },
      "source": [
        "#top 5 topics from the year 1971 to 1981\n",
        "df1971to1981 = df[(df['Year'] == 1971) | (df['Year'] == 1978) | (df['Year'] == 1979) | (df['Year'] == 1980) | (df['Year'] == 1981)]\n",
        "df1971to1981['count'] = df1971to1981.groupby('topics')['topics'].transform('count')\n",
        "df1971to1981.drop_duplicates('count', inplace=True)\n",
        "df1971to1981.nlargest(1, ['count'])[[\"topics\",\"count\"]]"
      ],
      "execution_count": 95,
      "outputs": [
        {
          "output_type": "stream",
          "text": [
            "/usr/local/lib/python3.6/dist-packages/ipykernel_launcher.py:2: SettingWithCopyWarning: \n",
            "A value is trying to be set on a copy of a slice from a DataFrame.\n",
            "Try using .loc[row_indexer,col_indexer] = value instead\n",
            "\n",
            "See the caveats in the documentation: https://pandas.pydata.org/pandas-docs/stable/user_guide/indexing.html#returning-a-view-versus-a-copy\n",
            "  \n",
            "/usr/local/lib/python3.6/dist-packages/ipykernel_launcher.py:3: SettingWithCopyWarning: \n",
            "A value is trying to be set on a copy of a slice from a DataFrame\n",
            "\n",
            "See the caveats in the documentation: https://pandas.pydata.org/pandas-docs/stable/user_guide/indexing.html#returning-a-view-versus-a-copy\n",
            "  This is separate from the ipykernel package so we can avoid doing imports until\n"
          ],
          "name": "stderr"
        },
        {
          "output_type": "execute_result",
          "data": {
            "text/html": [
              "<div>\n",
              "<style scoped>\n",
              "    .dataframe tbody tr th:only-of-type {\n",
              "        vertical-align: middle;\n",
              "    }\n",
              "\n",
              "    .dataframe tbody tr th {\n",
              "        vertical-align: top;\n",
              "    }\n",
              "\n",
              "    .dataframe thead th {\n",
              "        text-align: right;\n",
              "    }\n",
              "</style>\n",
              "<table border=\"1\" class=\"dataframe\">\n",
              "  <thead>\n",
              "    <tr style=\"text-align: right;\">\n",
              "      <th></th>\n",
              "      <th>topics</th>\n",
              "      <th>count</th>\n",
              "    </tr>\n",
              "  </thead>\n",
              "  <tbody>\n",
              "    <tr>\n",
              "      <th>33</th>\n",
              "      <td>Information retrieval,Euclidean distance,Docum...</td>\n",
              "      <td>2.0</td>\n",
              "    </tr>\n",
              "  </tbody>\n",
              "</table>\n",
              "</div>"
            ],
            "text/plain": [
              "                                               topics  count\n",
              "33  Information retrieval,Euclidean distance,Docum...    2.0"
            ]
          },
          "metadata": {
            "tags": []
          },
          "execution_count": 95
        }
      ]
    },
    {
      "cell_type": "code",
      "metadata": {
        "id": "ZK7H93NFLa8x",
        "colab_type": "code",
        "colab": {
          "base_uri": "https://localhost:8080/",
          "height": 270
        },
        "outputId": "18868bfc-e427-4039-ca4e-37a572c26e32"
      },
      "source": [
        "#top 5 topics from the year 1982 to 1986\n",
        "df1982to1986 = df[(df['Year'] == 1982) | (df['Year'] == 1983) | (df['Year'] == 1984) | (df['Year'] == 1985) | (df['Year'] == 1986)]\n",
        "df1982to1986['count'] = df1982to1986.groupby('topics')['topics'].transform('count')\n",
        "df1982to1986.drop_duplicates('count', inplace=True)\n",
        "df1982to1986.nlargest(1, ['count'])[[\"topics\",\"count\"]]"
      ],
      "execution_count": 96,
      "outputs": [
        {
          "output_type": "stream",
          "text": [
            "/usr/local/lib/python3.6/dist-packages/ipykernel_launcher.py:2: SettingWithCopyWarning: \n",
            "A value is trying to be set on a copy of a slice from a DataFrame.\n",
            "Try using .loc[row_indexer,col_indexer] = value instead\n",
            "\n",
            "See the caveats in the documentation: https://pandas.pydata.org/pandas-docs/stable/user_guide/indexing.html#returning-a-view-versus-a-copy\n",
            "  \n",
            "/usr/local/lib/python3.6/dist-packages/ipykernel_launcher.py:3: SettingWithCopyWarning: \n",
            "A value is trying to be set on a copy of a slice from a DataFrame\n",
            "\n",
            "See the caveats in the documentation: https://pandas.pydata.org/pandas-docs/stable/user_guide/indexing.html#returning-a-view-versus-a-copy\n",
            "  This is separate from the ipykernel package so we can avoid doing imports until\n"
          ],
          "name": "stderr"
        },
        {
          "output_type": "execute_result",
          "data": {
            "text/html": [
              "<div>\n",
              "<style scoped>\n",
              "    .dataframe tbody tr th:only-of-type {\n",
              "        vertical-align: middle;\n",
              "    }\n",
              "\n",
              "    .dataframe tbody tr th {\n",
              "        vertical-align: top;\n",
              "    }\n",
              "\n",
              "    .dataframe thead th {\n",
              "        text-align: right;\n",
              "    }\n",
              "</style>\n",
              "<table border=\"1\" class=\"dataframe\">\n",
              "  <thead>\n",
              "    <tr style=\"text-align: right;\">\n",
              "      <th></th>\n",
              "      <th>topics</th>\n",
              "      <th>count</th>\n",
              "    </tr>\n",
              "  </thead>\n",
              "  <tbody>\n",
              "    <tr>\n",
              "      <th>45</th>\n",
              "      <td>Information retrieval,Semantic mapper,Term ind...</td>\n",
              "      <td>1</td>\n",
              "    </tr>\n",
              "  </tbody>\n",
              "</table>\n",
              "</div>"
            ],
            "text/plain": [
              "                                               topics  count\n",
              "45  Information retrieval,Semantic mapper,Term ind...      1"
            ]
          },
          "metadata": {
            "tags": []
          },
          "execution_count": 96
        }
      ]
    },
    {
      "cell_type": "code",
      "metadata": {
        "id": "eBKDsioCO2y9",
        "colab_type": "code",
        "colab": {
          "base_uri": "https://localhost:8080/",
          "height": 270
        },
        "outputId": "4a0ac245-0f8f-4ae7-a9fe-7d8f9155f354"
      },
      "source": [
        "#top 5 topics from the year 1987 to 1991\n",
        "df1987to1991 = df[(df['Year'] == 1987) | (df['Year'] == 1988) | (df['Year'] == 1989) | (df['Year'] == 1990) | (df['Year'] == 1991)]\n",
        "df1987to1991['count'] = df1987to1991.groupby('topics')['topics'].transform('count')\n",
        "df1987to1991.drop_duplicates('count', inplace=True)\n",
        "df1987to1991.nlargest(1, ['count'])[[\"topics\",\"count\"]]"
      ],
      "execution_count": 97,
      "outputs": [
        {
          "output_type": "stream",
          "text": [
            "/usr/local/lib/python3.6/dist-packages/ipykernel_launcher.py:2: SettingWithCopyWarning: \n",
            "A value is trying to be set on a copy of a slice from a DataFrame.\n",
            "Try using .loc[row_indexer,col_indexer] = value instead\n",
            "\n",
            "See the caveats in the documentation: https://pandas.pydata.org/pandas-docs/stable/user_guide/indexing.html#returning-a-view-versus-a-copy\n",
            "  \n",
            "/usr/local/lib/python3.6/dist-packages/ipykernel_launcher.py:3: SettingWithCopyWarning: \n",
            "A value is trying to be set on a copy of a slice from a DataFrame\n",
            "\n",
            "See the caveats in the documentation: https://pandas.pydata.org/pandas-docs/stable/user_guide/indexing.html#returning-a-view-versus-a-copy\n",
            "  This is separate from the ipykernel package so we can avoid doing imports until\n"
          ],
          "name": "stderr"
        },
        {
          "output_type": "execute_result",
          "data": {
            "text/html": [
              "<div>\n",
              "<style scoped>\n",
              "    .dataframe tbody tr th:only-of-type {\n",
              "        vertical-align: middle;\n",
              "    }\n",
              "\n",
              "    .dataframe tbody tr th {\n",
              "        vertical-align: top;\n",
              "    }\n",
              "\n",
              "    .dataframe thead th {\n",
              "        text-align: right;\n",
              "    }\n",
              "</style>\n",
              "<table border=\"1\" class=\"dataframe\">\n",
              "  <thead>\n",
              "    <tr style=\"text-align: right;\">\n",
              "      <th></th>\n",
              "      <th>topics</th>\n",
              "      <th>count</th>\n",
              "    </tr>\n",
              "  </thead>\n",
              "  <tbody>\n",
              "    <tr>\n",
              "      <th>185</th>\n",
              "      <td>Information retrieval</td>\n",
              "      <td>2.0</td>\n",
              "    </tr>\n",
              "  </tbody>\n",
              "</table>\n",
              "</div>"
            ],
            "text/plain": [
              "                    topics  count\n",
              "185  Information retrieval    2.0"
            ]
          },
          "metadata": {
            "tags": []
          },
          "execution_count": 97
        }
      ]
    },
    {
      "cell_type": "code",
      "metadata": {
        "id": "TJD4hmriQQp7",
        "colab_type": "code",
        "colab": {
          "base_uri": "https://localhost:8080/",
          "height": 270
        },
        "outputId": "b9e06b54-64c2-44e8-87a3-88ee5c8776b9"
      },
      "source": [
        "#top 5 topics from the year 1992 to 1996\n",
        "df1992to1996 = df[(df['Year'] == 1992) | (df['Year'] == 1993) | (df['Year'] == 1994) | (df['Year'] == 1995) | (df['Year'] == 1996)]\n",
        "df1992to1996['count'] = df1992to1996.groupby('topics')['topics'].transform('count')\n",
        "df1992to1996.drop_duplicates('count', inplace=True)\n",
        "df1992to1996.nlargest(1, ['count'])[[\"topics\",\"count\"]]"
      ],
      "execution_count": 98,
      "outputs": [
        {
          "output_type": "stream",
          "text": [
            "/usr/local/lib/python3.6/dist-packages/ipykernel_launcher.py:2: SettingWithCopyWarning: \n",
            "A value is trying to be set on a copy of a slice from a DataFrame.\n",
            "Try using .loc[row_indexer,col_indexer] = value instead\n",
            "\n",
            "See the caveats in the documentation: https://pandas.pydata.org/pandas-docs/stable/user_guide/indexing.html#returning-a-view-versus-a-copy\n",
            "  \n",
            "/usr/local/lib/python3.6/dist-packages/ipykernel_launcher.py:3: SettingWithCopyWarning: \n",
            "A value is trying to be set on a copy of a slice from a DataFrame\n",
            "\n",
            "See the caveats in the documentation: https://pandas.pydata.org/pandas-docs/stable/user_guide/indexing.html#returning-a-view-versus-a-copy\n",
            "  This is separate from the ipykernel package so we can avoid doing imports until\n"
          ],
          "name": "stderr"
        },
        {
          "output_type": "execute_result",
          "data": {
            "text/html": [
              "<div>\n",
              "<style scoped>\n",
              "    .dataframe tbody tr th:only-of-type {\n",
              "        vertical-align: middle;\n",
              "    }\n",
              "\n",
              "    .dataframe tbody tr th {\n",
              "        vertical-align: top;\n",
              "    }\n",
              "\n",
              "    .dataframe thead th {\n",
              "        text-align: right;\n",
              "    }\n",
              "</style>\n",
              "<table border=\"1\" class=\"dataframe\">\n",
              "  <thead>\n",
              "    <tr style=\"text-align: right;\">\n",
              "      <th></th>\n",
              "      <th>topics</th>\n",
              "      <th>count</th>\n",
              "    </tr>\n",
              "  </thead>\n",
              "  <tbody>\n",
              "    <tr>\n",
              "      <th>346</th>\n",
              "      <td>Information retrieval</td>\n",
              "      <td>4.0</td>\n",
              "    </tr>\n",
              "  </tbody>\n",
              "</table>\n",
              "</div>"
            ],
            "text/plain": [
              "                    topics  count\n",
              "346  Information retrieval    4.0"
            ]
          },
          "metadata": {
            "tags": []
          },
          "execution_count": 98
        }
      ]
    },
    {
      "cell_type": "code",
      "metadata": {
        "id": "qEP6WDSyQrDV",
        "colab_type": "code",
        "colab": {
          "base_uri": "https://localhost:8080/",
          "height": 270
        },
        "outputId": "fd704a90-a005-4f86-8a03-317eec1693d2"
      },
      "source": [
        "#top 5 topics from the year 1997 to 2001\n",
        "df1997to2001 = df[(df['Year'] == 1997) | (df['Year'] == 1998) | (df['Year'] == 1999) | (df['Year'] == 2000) | (df['Year'] == 2001)]\n",
        "df1997to2001['count'] = df1997to2001.groupby('topics')['topics'].transform('count')\n",
        "df1997to2001.drop_duplicates('count', inplace=True)\n",
        "df1997to2001.nlargest(1, ['count'])[[\"topics\",\"count\"]]"
      ],
      "execution_count": 99,
      "outputs": [
        {
          "output_type": "stream",
          "text": [
            "/usr/local/lib/python3.6/dist-packages/ipykernel_launcher.py:2: SettingWithCopyWarning: \n",
            "A value is trying to be set on a copy of a slice from a DataFrame.\n",
            "Try using .loc[row_indexer,col_indexer] = value instead\n",
            "\n",
            "See the caveats in the documentation: https://pandas.pydata.org/pandas-docs/stable/user_guide/indexing.html#returning-a-view-versus-a-copy\n",
            "  \n",
            "/usr/local/lib/python3.6/dist-packages/ipykernel_launcher.py:3: SettingWithCopyWarning: \n",
            "A value is trying to be set on a copy of a slice from a DataFrame\n",
            "\n",
            "See the caveats in the documentation: https://pandas.pydata.org/pandas-docs/stable/user_guide/indexing.html#returning-a-view-versus-a-copy\n",
            "  This is separate from the ipykernel package so we can avoid doing imports until\n"
          ],
          "name": "stderr"
        },
        {
          "output_type": "execute_result",
          "data": {
            "text/html": [
              "<div>\n",
              "<style scoped>\n",
              "    .dataframe tbody tr th:only-of-type {\n",
              "        vertical-align: middle;\n",
              "    }\n",
              "\n",
              "    .dataframe tbody tr th {\n",
              "        vertical-align: top;\n",
              "    }\n",
              "\n",
              "    .dataframe thead th {\n",
              "        text-align: right;\n",
              "    }\n",
              "</style>\n",
              "<table border=\"1\" class=\"dataframe\">\n",
              "  <thead>\n",
              "    <tr style=\"text-align: right;\">\n",
              "      <th></th>\n",
              "      <th>topics</th>\n",
              "      <th>count</th>\n",
              "    </tr>\n",
              "  </thead>\n",
              "  <tbody>\n",
              "    <tr>\n",
              "      <th>531</th>\n",
              "      <td>Information retrieval,Relevance,Precision and ...</td>\n",
              "      <td>2.0</td>\n",
              "    </tr>\n",
              "  </tbody>\n",
              "</table>\n",
              "</div>"
            ],
            "text/plain": [
              "                                                topics  count\n",
              "531  Information retrieval,Relevance,Precision and ...    2.0"
            ]
          },
          "metadata": {
            "tags": []
          },
          "execution_count": 99
        }
      ]
    },
    {
      "cell_type": "code",
      "metadata": {
        "id": "NHbtVHVdRAtn",
        "colab_type": "code",
        "colab": {
          "base_uri": "https://localhost:8080/",
          "height": 270
        },
        "outputId": "8facdc4e-2966-4469-f236-e9f9f5bfa1af"
      },
      "source": [
        "#top 5 topics from the year 2002 to 2006\n",
        "df2002to2006 = df[(df['Year'] == 2002) | (df['Year'] == 2003) | (df['Year'] == 2004) | (df['Year'] == 2005) | (df['Year'] == 2006)]\n",
        "df2002to2006['count'] = df2002to2006.groupby('topics')['topics'].transform('count')\n",
        "df2002to2006.drop_duplicates('count', inplace=True)\n",
        "df2002to2006.nlargest(1, ['count'])[[\"topics\",\"count\"]]"
      ],
      "execution_count": 100,
      "outputs": [
        {
          "output_type": "stream",
          "text": [
            "/usr/local/lib/python3.6/dist-packages/ipykernel_launcher.py:2: SettingWithCopyWarning: \n",
            "A value is trying to be set on a copy of a slice from a DataFrame.\n",
            "Try using .loc[row_indexer,col_indexer] = value instead\n",
            "\n",
            "See the caveats in the documentation: https://pandas.pydata.org/pandas-docs/stable/user_guide/indexing.html#returning-a-view-versus-a-copy\n",
            "  \n",
            "/usr/local/lib/python3.6/dist-packages/ipykernel_launcher.py:3: SettingWithCopyWarning: \n",
            "A value is trying to be set on a copy of a slice from a DataFrame\n",
            "\n",
            "See the caveats in the documentation: https://pandas.pydata.org/pandas-docs/stable/user_guide/indexing.html#returning-a-view-versus-a-copy\n",
            "  This is separate from the ipykernel package so we can avoid doing imports until\n"
          ],
          "name": "stderr"
        },
        {
          "output_type": "execute_result",
          "data": {
            "text/html": [
              "<div>\n",
              "<style scoped>\n",
              "    .dataframe tbody tr th:only-of-type {\n",
              "        vertical-align: middle;\n",
              "    }\n",
              "\n",
              "    .dataframe tbody tr th {\n",
              "        vertical-align: top;\n",
              "    }\n",
              "\n",
              "    .dataframe thead th {\n",
              "        text-align: right;\n",
              "    }\n",
              "</style>\n",
              "<table border=\"1\" class=\"dataframe\">\n",
              "  <thead>\n",
              "    <tr style=\"text-align: right;\">\n",
              "      <th></th>\n",
              "      <th>topics</th>\n",
              "      <th>count</th>\n",
              "    </tr>\n",
              "  </thead>\n",
              "  <tbody>\n",
              "    <tr>\n",
              "      <th>995</th>\n",
              "      <td>Query expansion</td>\n",
              "      <td>2.0</td>\n",
              "    </tr>\n",
              "  </tbody>\n",
              "</table>\n",
              "</div>"
            ],
            "text/plain": [
              "              topics  count\n",
              "995  Query expansion    2.0"
            ]
          },
          "metadata": {
            "tags": []
          },
          "execution_count": 100
        }
      ]
    },
    {
      "cell_type": "code",
      "metadata": {
        "id": "4_UvMlEfRRec",
        "colab_type": "code",
        "colab": {
          "base_uri": "https://localhost:8080/",
          "height": 270
        },
        "outputId": "601c2741-6022-4a2d-8c54-dc558ca196c6"
      },
      "source": [
        "#top 5 topics from the year 2007 to 2011\n",
        "df2007to2011 = df[(df['Year'] == 2007) | (df['Year'] == 2008) | (df['Year'] == 2009) | (df['Year'] == 2010) | (df['Year'] == 2011)]\n",
        "df2007to2011['count'] = df2007to2011.groupby('topics')['topics'].transform('count')\n",
        "df2007to2011.drop_duplicates('count', inplace=True)\n",
        "df2007to2011.nlargest(1, ['count'])[[\"topics\",\"count\"]]"
      ],
      "execution_count": 101,
      "outputs": [
        {
          "output_type": "stream",
          "text": [
            "/usr/local/lib/python3.6/dist-packages/ipykernel_launcher.py:2: SettingWithCopyWarning: \n",
            "A value is trying to be set on a copy of a slice from a DataFrame.\n",
            "Try using .loc[row_indexer,col_indexer] = value instead\n",
            "\n",
            "See the caveats in the documentation: https://pandas.pydata.org/pandas-docs/stable/user_guide/indexing.html#returning-a-view-versus-a-copy\n",
            "  \n",
            "/usr/local/lib/python3.6/dist-packages/ipykernel_launcher.py:3: SettingWithCopyWarning: \n",
            "A value is trying to be set on a copy of a slice from a DataFrame\n",
            "\n",
            "See the caveats in the documentation: https://pandas.pydata.org/pandas-docs/stable/user_guide/indexing.html#returning-a-view-versus-a-copy\n",
            "  This is separate from the ipykernel package so we can avoid doing imports until\n"
          ],
          "name": "stderr"
        },
        {
          "output_type": "execute_result",
          "data": {
            "text/html": [
              "<div>\n",
              "<style scoped>\n",
              "    .dataframe tbody tr th:only-of-type {\n",
              "        vertical-align: middle;\n",
              "    }\n",
              "\n",
              "    .dataframe tbody tr th {\n",
              "        vertical-align: top;\n",
              "    }\n",
              "\n",
              "    .dataframe thead th {\n",
              "        text-align: right;\n",
              "    }\n",
              "</style>\n",
              "<table border=\"1\" class=\"dataframe\">\n",
              "  <thead>\n",
              "    <tr style=\"text-align: right;\">\n",
              "      <th></th>\n",
              "      <th>topics</th>\n",
              "      <th>count</th>\n",
              "    </tr>\n",
              "  </thead>\n",
              "  <tbody>\n",
              "    <tr>\n",
              "      <th>1615</th>\n",
              "      <td>Web search engine</td>\n",
              "      <td>6.0</td>\n",
              "    </tr>\n",
              "  </tbody>\n",
              "</table>\n",
              "</div>"
            ],
            "text/plain": [
              "                 topics  count\n",
              "1615  Web search engine    6.0"
            ]
          },
          "metadata": {
            "tags": []
          },
          "execution_count": 101
        }
      ]
    },
    {
      "cell_type": "code",
      "metadata": {
        "id": "iyO1wBbSRh9C",
        "colab_type": "code",
        "colab": {
          "base_uri": "https://localhost:8080/",
          "height": 270
        },
        "outputId": "a8bc2d84-40f2-454f-bd5a-4f7471bf36ae"
      },
      "source": [
        "#top 5 topics from the year 2012 to 2016\n",
        "df2012to2016 = df[(df['Year'] == 2012) | (df['Year'] == 2013) | (df['Year'] == 2014) | (df['Year'] == 2015) | (df['Year'] == 2016)]\n",
        "df2012to2016['count'] = df2012to2016.groupby('topics')['topics'].transform('count')\n",
        "df2012to2016.drop_duplicates('count', inplace=True)\n",
        "df2012to2016.nlargest(1, ['count'])[[\"topics\",\"count\"]]"
      ],
      "execution_count": 102,
      "outputs": [
        {
          "output_type": "stream",
          "text": [
            "/usr/local/lib/python3.6/dist-packages/ipykernel_launcher.py:2: SettingWithCopyWarning: \n",
            "A value is trying to be set on a copy of a slice from a DataFrame.\n",
            "Try using .loc[row_indexer,col_indexer] = value instead\n",
            "\n",
            "See the caveats in the documentation: https://pandas.pydata.org/pandas-docs/stable/user_guide/indexing.html#returning-a-view-versus-a-copy\n",
            "  \n",
            "/usr/local/lib/python3.6/dist-packages/ipykernel_launcher.py:3: SettingWithCopyWarning: \n",
            "A value is trying to be set on a copy of a slice from a DataFrame\n",
            "\n",
            "See the caveats in the documentation: https://pandas.pydata.org/pandas-docs/stable/user_guide/indexing.html#returning-a-view-versus-a-copy\n",
            "  This is separate from the ipykernel package so we can avoid doing imports until\n"
          ],
          "name": "stderr"
        },
        {
          "output_type": "execute_result",
          "data": {
            "text/html": [
              "<div>\n",
              "<style scoped>\n",
              "    .dataframe tbody tr th:only-of-type {\n",
              "        vertical-align: middle;\n",
              "    }\n",
              "\n",
              "    .dataframe tbody tr th {\n",
              "        vertical-align: top;\n",
              "    }\n",
              "\n",
              "    .dataframe thead th {\n",
              "        text-align: right;\n",
              "    }\n",
              "</style>\n",
              "<table border=\"1\" class=\"dataframe\">\n",
              "  <thead>\n",
              "    <tr style=\"text-align: right;\">\n",
              "      <th></th>\n",
              "      <th>topics</th>\n",
              "      <th>count</th>\n",
              "    </tr>\n",
              "  </thead>\n",
              "  <tbody>\n",
              "    <tr>\n",
              "      <th>2072</th>\n",
              "      <td>Information retrieval</td>\n",
              "      <td>3.0</td>\n",
              "    </tr>\n",
              "  </tbody>\n",
              "</table>\n",
              "</div>"
            ],
            "text/plain": [
              "                     topics  count\n",
              "2072  Information retrieval    3.0"
            ]
          },
          "metadata": {
            "tags": []
          },
          "execution_count": 102
        }
      ]
    },
    {
      "cell_type": "code",
      "metadata": {
        "id": "umn_U-EKR1jm",
        "colab_type": "code",
        "colab": {
          "base_uri": "https://localhost:8080/",
          "height": 270
        },
        "outputId": "9c67c217-507b-4c26-e345-e940d7ce8d83"
      },
      "source": [
        "#top 5 topics from the year 2017 to 2019\n",
        "df2017to2019 = df[(df['Year'] == 2017) | (df['Year'] == 2018) | (df['Year'] == 2019)]\n",
        "df2017to2019['count'] = df2017to2019.groupby('topics')['topics'].transform('count')\n",
        "df2017to2019.drop_duplicates('count', inplace=True)\n",
        "df2017to2019.nlargest(1, ['count'])[[\"topics\",\"count\"]]"
      ],
      "execution_count": 103,
      "outputs": [
        {
          "output_type": "stream",
          "text": [
            "/usr/local/lib/python3.6/dist-packages/ipykernel_launcher.py:2: SettingWithCopyWarning: \n",
            "A value is trying to be set on a copy of a slice from a DataFrame.\n",
            "Try using .loc[row_indexer,col_indexer] = value instead\n",
            "\n",
            "See the caveats in the documentation: https://pandas.pydata.org/pandas-docs/stable/user_guide/indexing.html#returning-a-view-versus-a-copy\n",
            "  \n",
            "/usr/local/lib/python3.6/dist-packages/ipykernel_launcher.py:3: SettingWithCopyWarning: \n",
            "A value is trying to be set on a copy of a slice from a DataFrame\n",
            "\n",
            "See the caveats in the documentation: https://pandas.pydata.org/pandas-docs/stable/user_guide/indexing.html#returning-a-view-versus-a-copy\n",
            "  This is separate from the ipykernel package so we can avoid doing imports until\n"
          ],
          "name": "stderr"
        },
        {
          "output_type": "execute_result",
          "data": {
            "text/html": [
              "<div>\n",
              "<style scoped>\n",
              "    .dataframe tbody tr th:only-of-type {\n",
              "        vertical-align: middle;\n",
              "    }\n",
              "\n",
              "    .dataframe tbody tr th {\n",
              "        vertical-align: top;\n",
              "    }\n",
              "\n",
              "    .dataframe thead th {\n",
              "        text-align: right;\n",
              "    }\n",
              "</style>\n",
              "<table border=\"1\" class=\"dataframe\">\n",
              "  <thead>\n",
              "    <tr style=\"text-align: right;\">\n",
              "      <th></th>\n",
              "      <th>topics</th>\n",
              "      <th>count</th>\n",
              "    </tr>\n",
              "  </thead>\n",
              "  <tbody>\n",
              "    <tr>\n",
              "      <th>3908</th>\n",
              "      <td>Text corpus,Probabilistic latent semantic anal...</td>\n",
              "      <td>2</td>\n",
              "    </tr>\n",
              "  </tbody>\n",
              "</table>\n",
              "</div>"
            ],
            "text/plain": [
              "                                                 topics  count\n",
              "3908  Text corpus,Probabilistic latent semantic anal...      2"
            ]
          },
          "metadata": {
            "tags": []
          },
          "execution_count": 103
        }
      ]
    },
    {
      "cell_type": "code",
      "metadata": {
        "id": "KAauYK74SRzM",
        "colab_type": "code",
        "colab": {
          "base_uri": "https://localhost:8080/",
          "height": 202
        },
        "outputId": "7f7f0df7-1e12-4be0-abbd-cb45b23c5165"
      },
      "source": [
        "#Most influential authors with the mean of publication count\n",
        "authordf = pd.read_csv(\"Final_Table_2.csv\")\n",
        "authordf['authorId'] = authordf['authorId'].fillna(0).astype(int)\n",
        "authordf.groupby('name')['Publicationcount'].mean()\n",
        "authordf.drop_duplicates('Publicationcount', inplace=True)\n",
        "authordf.nlargest(5, ['Publicationcount'])[[\"name\",\"Publicationcount\"]]"
      ],
      "execution_count": 94,
      "outputs": [
        {
          "output_type": "execute_result",
          "data": {
            "text/html": [
              "<div>\n",
              "<style scoped>\n",
              "    .dataframe tbody tr th:only-of-type {\n",
              "        vertical-align: middle;\n",
              "    }\n",
              "\n",
              "    .dataframe tbody tr th {\n",
              "        vertical-align: top;\n",
              "    }\n",
              "\n",
              "    .dataframe thead th {\n",
              "        text-align: right;\n",
              "    }\n",
              "</style>\n",
              "<table border=\"1\" class=\"dataframe\">\n",
              "  <thead>\n",
              "    <tr style=\"text-align: right;\">\n",
              "      <th></th>\n",
              "      <th>name</th>\n",
              "      <th>Publicationcount</th>\n",
              "    </tr>\n",
              "  </thead>\n",
              "  <tbody>\n",
              "    <tr>\n",
              "      <th>4949</th>\n",
              "      <td>Wei Zhang</td>\n",
              "      <td>4562.0</td>\n",
              "    </tr>\n",
              "    <tr>\n",
              "      <th>7238</th>\n",
              "      <td>Wei Liu</td>\n",
              "      <td>4184.0</td>\n",
              "    </tr>\n",
              "    <tr>\n",
              "      <th>8597</th>\n",
              "      <td>Wei Chen</td>\n",
              "      <td>3655.0</td>\n",
              "    </tr>\n",
              "    <tr>\n",
              "      <th>12982</th>\n",
              "      <td>Feng Li</td>\n",
              "      <td>3067.0</td>\n",
              "    </tr>\n",
              "    <tr>\n",
              "      <th>6583</th>\n",
              "      <td>Gang Wang</td>\n",
              "      <td>3053.0</td>\n",
              "    </tr>\n",
              "  </tbody>\n",
              "</table>\n",
              "</div>"
            ],
            "text/plain": [
              "            name  Publicationcount\n",
              "4949   Wei Zhang            4562.0\n",
              "7238     Wei Liu            4184.0\n",
              "8597    Wei Chen            3655.0\n",
              "12982    Feng Li            3067.0\n",
              "6583   Gang Wang            3053.0"
            ]
          },
          "metadata": {
            "tags": []
          },
          "execution_count": 94
        }
      ]
    },
    {
      "cell_type": "code",
      "metadata": {
        "id": "KptnqveKUVxb",
        "colab_type": "code",
        "colab": {
          "base_uri": "https://localhost:8080/",
          "height": 416
        },
        "outputId": "faa0f130-b137-4447-ea93-e458db0115ba"
      },
      "source": [
        "authordf = pd.read_csv(\"Final_Table_2.csv\")\n",
        "authordf"
      ],
      "execution_count": 87,
      "outputs": [
        {
          "output_type": "execute_result",
          "data": {
            "text/html": [
              "<div>\n",
              "<style scoped>\n",
              "    .dataframe tbody tr th:only-of-type {\n",
              "        vertical-align: middle;\n",
              "    }\n",
              "\n",
              "    .dataframe tbody tr th {\n",
              "        vertical-align: top;\n",
              "    }\n",
              "\n",
              "    .dataframe thead th {\n",
              "        text-align: right;\n",
              "    }\n",
              "</style>\n",
              "<table border=\"1\" class=\"dataframe\">\n",
              "  <thead>\n",
              "    <tr style=\"text-align: right;\">\n",
              "      <th></th>\n",
              "      <th>Unnamed: 0</th>\n",
              "      <th>article_id</th>\n",
              "      <th>authorId</th>\n",
              "      <th>name</th>\n",
              "      <th>url</th>\n",
              "      <th>Publicationcount</th>\n",
              "      <th>Rank</th>\n",
              "    </tr>\n",
              "  </thead>\n",
              "  <tbody>\n",
              "    <tr>\n",
              "      <th>0</th>\n",
              "      <td>0</td>\n",
              "      <td>10.1145/511285.511286</td>\n",
              "      <td>1.777876e+06</td>\n",
              "      <td>Jack Minker</td>\n",
              "      <td>https://www.semanticscholar.org/author/1777876</td>\n",
              "      <td>252.0</td>\n",
              "      <td>1</td>\n",
              "    </tr>\n",
              "    <tr>\n",
              "      <th>1</th>\n",
              "      <td>1</td>\n",
              "      <td>10.1145/511285.511286</td>\n",
              "      <td>1.448905e+08</td>\n",
              "      <td>Sam Rosenfeld</td>\n",
              "      <td>https://www.semanticscholar.org/author/144890509</td>\n",
              "      <td>7.0</td>\n",
              "      <td>2</td>\n",
              "    </tr>\n",
              "    <tr>\n",
              "      <th>2</th>\n",
              "      <td>2</td>\n",
              "      <td>10.1145/511285.511288</td>\n",
              "      <td>2.523724e+06</td>\n",
              "      <td>Milos Pacak</td>\n",
              "      <td>https://www.semanticscholar.org/author/2523724</td>\n",
              "      <td>18.0</td>\n",
              "      <td>1</td>\n",
              "    </tr>\n",
              "    <tr>\n",
              "      <th>3</th>\n",
              "      <td>3</td>\n",
              "      <td>10.1145/511285.511288</td>\n",
              "      <td>2.641020e+06</td>\n",
              "      <td>Arnold W. Pratt</td>\n",
              "      <td>https://www.semanticscholar.org/author/2641020</td>\n",
              "      <td>48.0</td>\n",
              "      <td>2</td>\n",
              "    </tr>\n",
              "    <tr>\n",
              "      <th>4</th>\n",
              "      <td>4</td>\n",
              "      <td>10.1145/511285.511289</td>\n",
              "      <td>1.401062e+09</td>\n",
              "      <td>Bozena Henisz-Dostert</td>\n",
              "      <td>https://www.semanticscholar.org/author/1401061734</td>\n",
              "      <td>13.0</td>\n",
              "      <td>1</td>\n",
              "    </tr>\n",
              "    <tr>\n",
              "      <th>...</th>\n",
              "      <td>...</td>\n",
              "      <td>...</td>\n",
              "      <td>...</td>\n",
              "      <td>...</td>\n",
              "      <td>...</td>\n",
              "      <td>...</td>\n",
              "      <td>...</td>\n",
              "    </tr>\n",
              "    <tr>\n",
              "      <th>13513</th>\n",
              "      <td>2876</td>\n",
              "      <td>10.1145/3331184.3331420</td>\n",
              "      <td>3.568500e+07</td>\n",
              "      <td>Marco Wrzalik</td>\n",
              "      <td>https://www.semanticscholar.org/author/35684998</td>\n",
              "      <td>4.0</td>\n",
              "      <td>1</td>\n",
              "    </tr>\n",
              "    <tr>\n",
              "      <th>13514</th>\n",
              "      <td>2877</td>\n",
              "      <td>10.1145/3331184.3331421</td>\n",
              "      <td>2.691382e+06</td>\n",
              "      <td>Alfan Farizki Wicaksono</td>\n",
              "      <td>https://www.semanticscholar.org/author/2691382</td>\n",
              "      <td>28.0</td>\n",
              "      <td>1</td>\n",
              "    </tr>\n",
              "    <tr>\n",
              "      <th>13515</th>\n",
              "      <td>2878</td>\n",
              "      <td>10.1145/3331184.3331422</td>\n",
              "      <td>3.218037e+06</td>\n",
              "      <td>Souvick Ghosh</td>\n",
              "      <td>https://www.semanticscholar.org/author/3218037</td>\n",
              "      <td>23.0</td>\n",
              "      <td>1</td>\n",
              "    </tr>\n",
              "    <tr>\n",
              "      <th>13516</th>\n",
              "      <td>2879</td>\n",
              "      <td>10.1145/3331184.3331423</td>\n",
              "      <td>4.991670e+07</td>\n",
              "      <td>Rodger Benham</td>\n",
              "      <td>https://www.semanticscholar.org/author/49916704</td>\n",
              "      <td>10.0</td>\n",
              "      <td>1</td>\n",
              "    </tr>\n",
              "    <tr>\n",
              "      <th>13517</th>\n",
              "      <td>2880</td>\n",
              "      <td>10.1145/3331184.3331424</td>\n",
              "      <td>1.101922e+07</td>\n",
              "      <td>Markus Zlabinger</td>\n",
              "      <td>https://www.semanticscholar.org/author/11019215</td>\n",
              "      <td>11.0</td>\n",
              "      <td>1</td>\n",
              "    </tr>\n",
              "  </tbody>\n",
              "</table>\n",
              "<p>13518 rows × 7 columns</p>\n",
              "</div>"
            ],
            "text/plain": [
              "       Unnamed: 0               article_id  ...  Publicationcount Rank\n",
              "0               0    10.1145/511285.511286  ...             252.0    1\n",
              "1               1    10.1145/511285.511286  ...               7.0    2\n",
              "2               2    10.1145/511285.511288  ...              18.0    1\n",
              "3               3    10.1145/511285.511288  ...              48.0    2\n",
              "4               4    10.1145/511285.511289  ...              13.0    1\n",
              "...           ...                      ...  ...               ...  ...\n",
              "13513        2876  10.1145/3331184.3331420  ...               4.0    1\n",
              "13514        2877  10.1145/3331184.3331421  ...              28.0    1\n",
              "13515        2878  10.1145/3331184.3331422  ...              23.0    1\n",
              "13516        2879  10.1145/3331184.3331423  ...              10.0    1\n",
              "13517        2880  10.1145/3331184.3331424  ...              11.0    1\n",
              "\n",
              "[13518 rows x 7 columns]"
            ]
          },
          "metadata": {
            "tags": []
          },
          "execution_count": 87
        }
      ]
    }
  ]
}