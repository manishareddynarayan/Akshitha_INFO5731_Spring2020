{
  "nbformat": 4,
  "nbformat_minor": 0,
  "metadata": {
    "colab": {
      "name": "Copy of In-class-exercise-04.ipynb",
      "provenance": [],
      "collapsed_sections": [],
      "include_colab_link": true
    },
    "kernelspec": {
      "name": "python3",
      "display_name": "Python 3"
    }
  },
  "cells": [
    {
      "cell_type": "markdown",
      "metadata": {
        "id": "view-in-github",
        "colab_type": "text"
      },
      "source": [
        "<a href=\"https://colab.research.google.com/github/akshithamaddi/Akshitha_INFO5731_Spring2020/blob/master/Copy_of_In_class_exercise_04.ipynb\" target=\"_parent\"><img src=\"https://colab.research.google.com/assets/colab-badge.svg\" alt=\"Open In Colab\"/></a>"
      ]
    },
    {
      "cell_type": "markdown",
      "metadata": {
        "id": "EuX00KHNeSpw",
        "colab_type": "text"
      },
      "source": [
        "# **The fourth in-class-exercise**"
      ]
    },
    {
      "cell_type": "markdown",
      "metadata": {
        "id": "s-vTOb03hG1f",
        "colab_type": "text"
      },
      "source": [
        "# 1. Text Data Preprocessing\n",
        "\n",
        "Here is a [legal case](https://github.com/unt-iialab/INFO5731_Spring2020/blob/master/In_class_exercise/01-05-1%20%20Adams%20v%20Tanner.txt) we collected from westlaw, please follow the steps we mentioned in lesson 5 to clean the data:\n",
        "\n",
        "\n",
        "\n",
        "## 1.1 Basic feature extraction using text data\n",
        "\n",
        "*   Number of sentences\n",
        "*   Number of words\n",
        "*   Number of characters\n",
        "*   Average word length\n",
        "*   Number of stopwords\n",
        "*   Number of special characters\n",
        "*   Number of numerics\n",
        "*   Number of uppercase words\n",
        "\n",
        "## 1.2 Basic Text Pre-processing of text data\n",
        "\n",
        "*   Lower casing\n",
        "*   Punctuation removal\n",
        "*   Stopwords removal\n",
        "*   Frequent words removal\n",
        "*   Rare words removal\n",
        "*   Spelling correction\n",
        "*   Tokenization\n",
        "*   Stemming\n",
        "*   Lemmatization\n",
        "\n",
        "## 1.3 Save all the **clean sentences** to a **csv file** (one column, each raw is a sentence) after finishing all the steps above.\n",
        "\n",
        "\n",
        "## 1.4 Advance Text Processing\n",
        "\n",
        "*   Calculate the term frequency of all the terms.\n",
        "*   Print out top 10 1-gram, top 10 2-grams, and top 10 2-grams terms as features.\n"
      ]
    },
    {
      "cell_type": "code",
      "metadata": {
        "id": "vR0L3_CreM_A",
        "colab_type": "code",
        "colab": {
          "base_uri": "https://localhost:8080/",
          "height": 34
        },
        "outputId": "4ed269d8-d8ef-4893-c050-1c7883862503"
      },
      "source": [
        "\n",
        "import spacy\n",
        "import pandas as pd\n",
        "from collections import Counter\n",
        "import re\n",
        "import csv\n",
        "\n",
        "data = open('testfile.txt').read()\n",
        "lines_of_data = data.splitlines()\n",
        "tmp = []\n",
        "for i in range(len(lines_of_data)):\n",
        "    tmp.append(lines_of_data[i])    \n",
        "data_df = pd.DataFrame(tmp) \n",
        "data_df.to_csv('test.csv')\n",
        "df = pd.read_csv('test.csv')\n",
        "\n",
        "#number of sentences\n",
        "lines, blanklines, sentences, words = 0, 0, 0, 0\n",
        "for line in data:\n",
        "  lines += 1\n",
        "  if line.startswith('\\n'):\n",
        "    blanklines += 1\n",
        "  else:\n",
        "    sentences += line.count('.') + line.count('!') + line.count('?')\n",
        "print(\"no of Sentences : \", sentences)    "
      ],
      "execution_count": 158,
      "outputs": [
        {
          "output_type": "stream",
          "text": [
            "no of Sentences :  292\n"
          ],
          "name": "stdout"
        }
      ]
    },
    {
      "cell_type": "code",
      "metadata": {
        "id": "BXyMaElEFV6S",
        "colab_type": "code",
        "colab": {
          "base_uri": "https://localhost:8080/",
          "height": 204
        },
        "outputId": "3f0c8ee3-1c3d-4342-ecae-09caf1ea1369"
      },
      "source": [
        "#number of words\n",
        "df['word_count'] = df['0'].apply(lambda x: len(str(x).split(\" \")))\n",
        "df[['0','word_count']].head()\n",
        "df = df.dropna()\n",
        "df[['0','word_count']].head()"
      ],
      "execution_count": 159,
      "outputs": [
        {
          "output_type": "execute_result",
          "data": {
            "text/html": [
              "<div>\n",
              "<style scoped>\n",
              "    .dataframe tbody tr th:only-of-type {\n",
              "        vertical-align: middle;\n",
              "    }\n",
              "\n",
              "    .dataframe tbody tr th {\n",
              "        vertical-align: top;\n",
              "    }\n",
              "\n",
              "    .dataframe thead th {\n",
              "        text-align: right;\n",
              "    }\n",
              "</style>\n",
              "<table border=\"1\" class=\"dataframe\">\n",
              "  <thead>\n",
              "    <tr style=\"text-align: right;\">\n",
              "      <th></th>\n",
              "      <th>0</th>\n",
              "      <th>word_count</th>\n",
              "    </tr>\n",
              "  </thead>\n",
              "  <tbody>\n",
              "    <tr>\n",
              "      <th>1</th>\n",
              "      <td>5 Ala. 740</td>\n",
              "      <td>3</td>\n",
              "    </tr>\n",
              "    <tr>\n",
              "      <th>2</th>\n",
              "      <td>Supreme Court of Alabama.</td>\n",
              "      <td>4</td>\n",
              "    </tr>\n",
              "    <tr>\n",
              "      <th>3</th>\n",
              "      <td>ADAMS</td>\n",
              "      <td>1</td>\n",
              "    </tr>\n",
              "    <tr>\n",
              "      <th>4</th>\n",
              "      <td>v.</td>\n",
              "      <td>1</td>\n",
              "    </tr>\n",
              "    <tr>\n",
              "      <th>5</th>\n",
              "      <td>TANNER AND HORTON.</td>\n",
              "      <td>3</td>\n",
              "    </tr>\n",
              "  </tbody>\n",
              "</table>\n",
              "</div>"
            ],
            "text/plain": [
              "                           0  word_count\n",
              "1                 5 Ala. 740           3\n",
              "2  Supreme Court of Alabama.           4\n",
              "3                      ADAMS           1\n",
              "4                         v.           1\n",
              "5         TANNER AND HORTON.           3"
            ]
          },
          "metadata": {
            "tags": []
          },
          "execution_count": 159
        }
      ]
    },
    {
      "cell_type": "code",
      "metadata": {
        "id": "xYRSP305pwP7",
        "colab_type": "code",
        "outputId": "0b11bb8a-06b1-4a00-b998-ca8643439fa6",
        "colab": {
          "base_uri": "https://localhost:8080/",
          "height": 204
        }
      },
      "source": [
        "#number of characters\n",
        "df['char_count'] = df['0'].str.len()\n",
        "df[['0','char_count']].head()"
      ],
      "execution_count": 160,
      "outputs": [
        {
          "output_type": "execute_result",
          "data": {
            "text/html": [
              "<div>\n",
              "<style scoped>\n",
              "    .dataframe tbody tr th:only-of-type {\n",
              "        vertical-align: middle;\n",
              "    }\n",
              "\n",
              "    .dataframe tbody tr th {\n",
              "        vertical-align: top;\n",
              "    }\n",
              "\n",
              "    .dataframe thead th {\n",
              "        text-align: right;\n",
              "    }\n",
              "</style>\n",
              "<table border=\"1\" class=\"dataframe\">\n",
              "  <thead>\n",
              "    <tr style=\"text-align: right;\">\n",
              "      <th></th>\n",
              "      <th>0</th>\n",
              "      <th>char_count</th>\n",
              "    </tr>\n",
              "  </thead>\n",
              "  <tbody>\n",
              "    <tr>\n",
              "      <th>1</th>\n",
              "      <td>5 Ala. 740</td>\n",
              "      <td>10</td>\n",
              "    </tr>\n",
              "    <tr>\n",
              "      <th>2</th>\n",
              "      <td>Supreme Court of Alabama.</td>\n",
              "      <td>25</td>\n",
              "    </tr>\n",
              "    <tr>\n",
              "      <th>3</th>\n",
              "      <td>ADAMS</td>\n",
              "      <td>5</td>\n",
              "    </tr>\n",
              "    <tr>\n",
              "      <th>4</th>\n",
              "      <td>v.</td>\n",
              "      <td>2</td>\n",
              "    </tr>\n",
              "    <tr>\n",
              "      <th>5</th>\n",
              "      <td>TANNER AND HORTON.</td>\n",
              "      <td>18</td>\n",
              "    </tr>\n",
              "  </tbody>\n",
              "</table>\n",
              "</div>"
            ],
            "text/plain": [
              "                           0  char_count\n",
              "1                 5 Ala. 740          10\n",
              "2  Supreme Court of Alabama.          25\n",
              "3                      ADAMS           5\n",
              "4                         v.           2\n",
              "5         TANNER AND HORTON.          18"
            ]
          },
          "metadata": {
            "tags": []
          },
          "execution_count": 160
        }
      ]
    },
    {
      "cell_type": "code",
      "metadata": {
        "id": "WpnzYusgh2lM",
        "colab_type": "code",
        "outputId": "6bcc658c-7814-42cf-f638-e8e2b6986f3c",
        "colab": {
          "base_uri": "https://localhost:8080/",
          "height": 204
        }
      },
      "source": [
        "#average word length\n",
        "def avg_word(sentence):\n",
        "  words = sentence.split()\n",
        "  try:\n",
        "        return (sum(len(word) for word in words)/len(words))\n",
        "  except ZeroDivisionError:\n",
        "        return -1\n",
        "df['avg_word'] = df['0'].apply(lambda x: avg_word(x))\n",
        "df[['0','avg_word']].head()"
      ],
      "execution_count": 161,
      "outputs": [
        {
          "output_type": "execute_result",
          "data": {
            "text/html": [
              "<div>\n",
              "<style scoped>\n",
              "    .dataframe tbody tr th:only-of-type {\n",
              "        vertical-align: middle;\n",
              "    }\n",
              "\n",
              "    .dataframe tbody tr th {\n",
              "        vertical-align: top;\n",
              "    }\n",
              "\n",
              "    .dataframe thead th {\n",
              "        text-align: right;\n",
              "    }\n",
              "</style>\n",
              "<table border=\"1\" class=\"dataframe\">\n",
              "  <thead>\n",
              "    <tr style=\"text-align: right;\">\n",
              "      <th></th>\n",
              "      <th>0</th>\n",
              "      <th>avg_word</th>\n",
              "    </tr>\n",
              "  </thead>\n",
              "  <tbody>\n",
              "    <tr>\n",
              "      <th>1</th>\n",
              "      <td>5 Ala. 740</td>\n",
              "      <td>2.666667</td>\n",
              "    </tr>\n",
              "    <tr>\n",
              "      <th>2</th>\n",
              "      <td>Supreme Court of Alabama.</td>\n",
              "      <td>5.500000</td>\n",
              "    </tr>\n",
              "    <tr>\n",
              "      <th>3</th>\n",
              "      <td>ADAMS</td>\n",
              "      <td>5.000000</td>\n",
              "    </tr>\n",
              "    <tr>\n",
              "      <th>4</th>\n",
              "      <td>v.</td>\n",
              "      <td>2.000000</td>\n",
              "    </tr>\n",
              "    <tr>\n",
              "      <th>5</th>\n",
              "      <td>TANNER AND HORTON.</td>\n",
              "      <td>5.333333</td>\n",
              "    </tr>\n",
              "  </tbody>\n",
              "</table>\n",
              "</div>"
            ],
            "text/plain": [
              "                           0  avg_word\n",
              "1                 5 Ala. 740  2.666667\n",
              "2  Supreme Court of Alabama.  5.500000\n",
              "3                      ADAMS  5.000000\n",
              "4                         v.  2.000000\n",
              "5         TANNER AND HORTON.  5.333333"
            ]
          },
          "metadata": {
            "tags": []
          },
          "execution_count": 161
        }
      ]
    },
    {
      "cell_type": "code",
      "metadata": {
        "id": "Je_imU8Cj6fg",
        "colab_type": "code",
        "outputId": "fda33372-7563-4069-b1b7-5e4facb270f5",
        "colab": {
          "base_uri": "https://localhost:8080/",
          "height": 238
        }
      },
      "source": [
        "#number of stopwords\n",
        "from nltk.corpus import stopwords\n",
        "import nltk\n",
        "nltk.download('stopwords')\n",
        "stop = stopwords.words('english')\n",
        "df['stopwords'] = df['0'].apply(lambda x: len([x for x in x.split() if x in stop]))\n",
        "df[['0','stopwords']].head()"
      ],
      "execution_count": 162,
      "outputs": [
        {
          "output_type": "stream",
          "text": [
            "[nltk_data] Downloading package stopwords to /root/nltk_data...\n",
            "[nltk_data]   Package stopwords is already up-to-date!\n"
          ],
          "name": "stdout"
        },
        {
          "output_type": "execute_result",
          "data": {
            "text/html": [
              "<div>\n",
              "<style scoped>\n",
              "    .dataframe tbody tr th:only-of-type {\n",
              "        vertical-align: middle;\n",
              "    }\n",
              "\n",
              "    .dataframe tbody tr th {\n",
              "        vertical-align: top;\n",
              "    }\n",
              "\n",
              "    .dataframe thead th {\n",
              "        text-align: right;\n",
              "    }\n",
              "</style>\n",
              "<table border=\"1\" class=\"dataframe\">\n",
              "  <thead>\n",
              "    <tr style=\"text-align: right;\">\n",
              "      <th></th>\n",
              "      <th>0</th>\n",
              "      <th>stopwords</th>\n",
              "    </tr>\n",
              "  </thead>\n",
              "  <tbody>\n",
              "    <tr>\n",
              "      <th>1</th>\n",
              "      <td>5 Ala. 740</td>\n",
              "      <td>0</td>\n",
              "    </tr>\n",
              "    <tr>\n",
              "      <th>2</th>\n",
              "      <td>Supreme Court of Alabama.</td>\n",
              "      <td>1</td>\n",
              "    </tr>\n",
              "    <tr>\n",
              "      <th>3</th>\n",
              "      <td>ADAMS</td>\n",
              "      <td>0</td>\n",
              "    </tr>\n",
              "    <tr>\n",
              "      <th>4</th>\n",
              "      <td>v.</td>\n",
              "      <td>0</td>\n",
              "    </tr>\n",
              "    <tr>\n",
              "      <th>5</th>\n",
              "      <td>TANNER AND HORTON.</td>\n",
              "      <td>0</td>\n",
              "    </tr>\n",
              "  </tbody>\n",
              "</table>\n",
              "</div>"
            ],
            "text/plain": [
              "                           0  stopwords\n",
              "1                 5 Ala. 740          0\n",
              "2  Supreme Court of Alabama.          1\n",
              "3                      ADAMS          0\n",
              "4                         v.          0\n",
              "5         TANNER AND HORTON.          0"
            ]
          },
          "metadata": {
            "tags": []
          },
          "execution_count": 162
        }
      ]
    },
    {
      "cell_type": "code",
      "metadata": {
        "id": "9mrnZqpEkrrh",
        "colab_type": "code",
        "outputId": "8b2bd57c-1888-4934-f622-33caf9529a34",
        "colab": {
          "base_uri": "https://localhost:8080/",
          "height": 204
        }
      },
      "source": [
        "#number of special charcaters \n",
        "df['hastags'] = df['0'].apply(lambda x: len([x for x in x.split() if x.startswith('#')]))\n",
        "df[['0','hastags']].head()"
      ],
      "execution_count": 163,
      "outputs": [
        {
          "output_type": "execute_result",
          "data": {
            "text/html": [
              "<div>\n",
              "<style scoped>\n",
              "    .dataframe tbody tr th:only-of-type {\n",
              "        vertical-align: middle;\n",
              "    }\n",
              "\n",
              "    .dataframe tbody tr th {\n",
              "        vertical-align: top;\n",
              "    }\n",
              "\n",
              "    .dataframe thead th {\n",
              "        text-align: right;\n",
              "    }\n",
              "</style>\n",
              "<table border=\"1\" class=\"dataframe\">\n",
              "  <thead>\n",
              "    <tr style=\"text-align: right;\">\n",
              "      <th></th>\n",
              "      <th>0</th>\n",
              "      <th>hastags</th>\n",
              "    </tr>\n",
              "  </thead>\n",
              "  <tbody>\n",
              "    <tr>\n",
              "      <th>1</th>\n",
              "      <td>5 Ala. 740</td>\n",
              "      <td>0</td>\n",
              "    </tr>\n",
              "    <tr>\n",
              "      <th>2</th>\n",
              "      <td>Supreme Court of Alabama.</td>\n",
              "      <td>0</td>\n",
              "    </tr>\n",
              "    <tr>\n",
              "      <th>3</th>\n",
              "      <td>ADAMS</td>\n",
              "      <td>0</td>\n",
              "    </tr>\n",
              "    <tr>\n",
              "      <th>4</th>\n",
              "      <td>v.</td>\n",
              "      <td>0</td>\n",
              "    </tr>\n",
              "    <tr>\n",
              "      <th>5</th>\n",
              "      <td>TANNER AND HORTON.</td>\n",
              "      <td>0</td>\n",
              "    </tr>\n",
              "  </tbody>\n",
              "</table>\n",
              "</div>"
            ],
            "text/plain": [
              "                           0  hastags\n",
              "1                 5 Ala. 740        0\n",
              "2  Supreme Court of Alabama.        0\n",
              "3                      ADAMS        0\n",
              "4                         v.        0\n",
              "5         TANNER AND HORTON.        0"
            ]
          },
          "metadata": {
            "tags": []
          },
          "execution_count": 163
        }
      ]
    },
    {
      "cell_type": "code",
      "metadata": {
        "id": "HXIMKn_Mk88Y",
        "colab_type": "code",
        "outputId": "3025e01c-0340-428d-e617-cb469896718b",
        "colab": {
          "base_uri": "https://localhost:8080/",
          "height": 204
        }
      },
      "source": [
        "#number of numerics\n",
        "df['numerics'] = df['0'].apply(lambda x: len([x for x in x.split() if x.isdigit()]))\n",
        "df[['0','numerics']].head()"
      ],
      "execution_count": 164,
      "outputs": [
        {
          "output_type": "execute_result",
          "data": {
            "text/html": [
              "<div>\n",
              "<style scoped>\n",
              "    .dataframe tbody tr th:only-of-type {\n",
              "        vertical-align: middle;\n",
              "    }\n",
              "\n",
              "    .dataframe tbody tr th {\n",
              "        vertical-align: top;\n",
              "    }\n",
              "\n",
              "    .dataframe thead th {\n",
              "        text-align: right;\n",
              "    }\n",
              "</style>\n",
              "<table border=\"1\" class=\"dataframe\">\n",
              "  <thead>\n",
              "    <tr style=\"text-align: right;\">\n",
              "      <th></th>\n",
              "      <th>0</th>\n",
              "      <th>numerics</th>\n",
              "    </tr>\n",
              "  </thead>\n",
              "  <tbody>\n",
              "    <tr>\n",
              "      <th>1</th>\n",
              "      <td>5 Ala. 740</td>\n",
              "      <td>2</td>\n",
              "    </tr>\n",
              "    <tr>\n",
              "      <th>2</th>\n",
              "      <td>Supreme Court of Alabama.</td>\n",
              "      <td>0</td>\n",
              "    </tr>\n",
              "    <tr>\n",
              "      <th>3</th>\n",
              "      <td>ADAMS</td>\n",
              "      <td>0</td>\n",
              "    </tr>\n",
              "    <tr>\n",
              "      <th>4</th>\n",
              "      <td>v.</td>\n",
              "      <td>0</td>\n",
              "    </tr>\n",
              "    <tr>\n",
              "      <th>5</th>\n",
              "      <td>TANNER AND HORTON.</td>\n",
              "      <td>0</td>\n",
              "    </tr>\n",
              "  </tbody>\n",
              "</table>\n",
              "</div>"
            ],
            "text/plain": [
              "                           0  numerics\n",
              "1                 5 Ala. 740         2\n",
              "2  Supreme Court of Alabama.         0\n",
              "3                      ADAMS         0\n",
              "4                         v.         0\n",
              "5         TANNER AND HORTON.         0"
            ]
          },
          "metadata": {
            "tags": []
          },
          "execution_count": 164
        }
      ]
    },
    {
      "cell_type": "code",
      "metadata": {
        "id": "QlK4dPArlX4L",
        "colab_type": "code",
        "outputId": "d9c07512-48b8-4e8a-b0a6-17a5841c4f04",
        "colab": {
          "base_uri": "https://localhost:8080/",
          "height": 204
        }
      },
      "source": [
        "#number of uppercase words\n",
        "df['upper'] = df['0'].apply(lambda x: len([x for x in x.split() if x.isupper()]))\n",
        "df[['0','upper']].head()"
      ],
      "execution_count": 165,
      "outputs": [
        {
          "output_type": "execute_result",
          "data": {
            "text/html": [
              "<div>\n",
              "<style scoped>\n",
              "    .dataframe tbody tr th:only-of-type {\n",
              "        vertical-align: middle;\n",
              "    }\n",
              "\n",
              "    .dataframe tbody tr th {\n",
              "        vertical-align: top;\n",
              "    }\n",
              "\n",
              "    .dataframe thead th {\n",
              "        text-align: right;\n",
              "    }\n",
              "</style>\n",
              "<table border=\"1\" class=\"dataframe\">\n",
              "  <thead>\n",
              "    <tr style=\"text-align: right;\">\n",
              "      <th></th>\n",
              "      <th>0</th>\n",
              "      <th>upper</th>\n",
              "    </tr>\n",
              "  </thead>\n",
              "  <tbody>\n",
              "    <tr>\n",
              "      <th>1</th>\n",
              "      <td>5 Ala. 740</td>\n",
              "      <td>0</td>\n",
              "    </tr>\n",
              "    <tr>\n",
              "      <th>2</th>\n",
              "      <td>Supreme Court of Alabama.</td>\n",
              "      <td>0</td>\n",
              "    </tr>\n",
              "    <tr>\n",
              "      <th>3</th>\n",
              "      <td>ADAMS</td>\n",
              "      <td>1</td>\n",
              "    </tr>\n",
              "    <tr>\n",
              "      <th>4</th>\n",
              "      <td>v.</td>\n",
              "      <td>0</td>\n",
              "    </tr>\n",
              "    <tr>\n",
              "      <th>5</th>\n",
              "      <td>TANNER AND HORTON.</td>\n",
              "      <td>3</td>\n",
              "    </tr>\n",
              "  </tbody>\n",
              "</table>\n",
              "</div>"
            ],
            "text/plain": [
              "                           0  upper\n",
              "1                 5 Ala. 740      0\n",
              "2  Supreme Court of Alabama.      0\n",
              "3                      ADAMS      1\n",
              "4                         v.      0\n",
              "5         TANNER AND HORTON.      3"
            ]
          },
          "metadata": {
            "tags": []
          },
          "execution_count": 165
        }
      ]
    },
    {
      "cell_type": "code",
      "metadata": {
        "id": "t05WFQFMl-YE",
        "colab_type": "code",
        "outputId": "13783c35-b7e5-461a-a0b6-de946f150bce",
        "colab": {
          "base_uri": "https://localhost:8080/",
          "height": 119
        }
      },
      "source": [
        "#lower casing\n",
        "df['0'] = df['0'].str.lower()\n",
        "df['0'].head()"
      ],
      "execution_count": 166,
      "outputs": [
        {
          "output_type": "execute_result",
          "data": {
            "text/plain": [
              "1                   5 ala. 740\n",
              "2    supreme court of alabama.\n",
              "3                        adams\n",
              "4                           v.\n",
              "5           tanner and horton.\n",
              "Name: 0, dtype: object"
            ]
          },
          "metadata": {
            "tags": []
          },
          "execution_count": 166
        }
      ]
    },
    {
      "cell_type": "code",
      "metadata": {
        "id": "U5cay8j3qLSk",
        "colab_type": "code",
        "outputId": "821b51ef-e898-45af-90b4-30c5254e7a55",
        "colab": {
          "base_uri": "https://localhost:8080/",
          "height": 119
        }
      },
      "source": [
        "#punctutaion removal\n",
        "df['0'] = df['0'].str.replace('[^\\w\\s]',' ')\n",
        "df['0'].head()"
      ],
      "execution_count": 167,
      "outputs": [
        {
          "output_type": "execute_result",
          "data": {
            "text/plain": [
              "1                   5 ala  740\n",
              "2    supreme court of alabama \n",
              "3                        adams\n",
              "4                           v \n",
              "5           tanner and horton \n",
              "Name: 0, dtype: object"
            ]
          },
          "metadata": {
            "tags": []
          },
          "execution_count": 167
        }
      ]
    },
    {
      "cell_type": "code",
      "metadata": {
        "id": "f2PJXmuHtDvQ",
        "colab_type": "code",
        "outputId": "57e3384e-64d5-4153-9bb8-5cb227f177ae",
        "colab": {
          "base_uri": "https://localhost:8080/",
          "height": 221
        }
      },
      "source": [
        "#stopwords removal\n",
        "stop = stopwords.words('english')\n",
        "df['0'] = df['0'].apply(lambda x: \" \".join(x for x in x.split() if x not in stop))\n",
        "df['0']"
      ],
      "execution_count": 168,
      "outputs": [
        {
          "output_type": "execute_result",
          "data": {
            "text/plain": [
              "1                                5 ala 740\n",
              "2                    supreme court alabama\n",
              "3                                    adams\n",
              "4                                        v\n",
              "5                            tanner horton\n",
              "                      ...                 \n",
              "154                       filings citation\n",
              "155                     negative treatment\n",
              "156    negative treatment results citation\n",
              "157                                history\n",
              "158               history results citation\n",
              "Name: 0, Length: 148, dtype: object"
            ]
          },
          "metadata": {
            "tags": []
          },
          "execution_count": 168
        }
      ]
    },
    {
      "cell_type": "code",
      "metadata": {
        "id": "U3jrGd-7wcl9",
        "colab_type": "code",
        "outputId": "a3fb38e4-7a5a-439c-d30b-4699fd00ba4d",
        "colab": {
          "base_uri": "https://localhost:8080/",
          "height": 119
        }
      },
      "source": [
        "#frequent words removal\n",
        "freq = pd.Series(' '.join(df['0']).split()).value_counts()[:10]\n",
        "freq = list(freq.index)\n",
        "df['0'] = df['0'].apply(lambda x: \" \".join(x for x in x.split() if x not in freq))\n",
        "df['0'].head()"
      ],
      "execution_count": 169,
      "outputs": [
        {
          "output_type": "execute_result",
          "data": {
            "text/plain": [
              "1          5 ala 740\n",
              "2    supreme alabama\n",
              "3              adams\n",
              "4                   \n",
              "5      tanner horton\n",
              "Name: 0, dtype: object"
            ]
          },
          "metadata": {
            "tags": []
          },
          "execution_count": 169
        }
      ]
    },
    {
      "cell_type": "code",
      "metadata": {
        "id": "SCjDw1ljwoNl",
        "colab_type": "code",
        "outputId": "280fd287-ee42-483b-f024-f7543a62e4d4",
        "colab": {
          "base_uri": "https://localhost:8080/",
          "height": 119
        }
      },
      "source": [
        "#rare words removal\n",
        "rare = pd.Series(' '.join(df['0']).split()).value_counts()[-10:]\n",
        "rare = list(rare.index)\n",
        "df['0'] = df['0'].apply(lambda x: \" \".join(x for x in x.split() if x not in freq))\n",
        "df['0'].head()"
      ],
      "execution_count": 170,
      "outputs": [
        {
          "output_type": "execute_result",
          "data": {
            "text/plain": [
              "1          5 ala 740\n",
              "2    supreme alabama\n",
              "3              adams\n",
              "4                   \n",
              "5      tanner horton\n",
              "Name: 0, dtype: object"
            ]
          },
          "metadata": {
            "tags": []
          },
          "execution_count": 170
        }
      ]
    },
    {
      "cell_type": "code",
      "metadata": {
        "id": "V0GJG3Jvx52m",
        "colab_type": "code",
        "outputId": "5fdf2b38-5381-4e27-e459-6526862cae55",
        "colab": {
          "base_uri": "https://localhost:8080/",
          "height": 204
        }
      },
      "source": [
        "#spelling correction\n",
        "from textblob import TextBlob\n",
        "df['0'][:10].apply(lambda x: str(TextBlob(x).correct()))"
      ],
      "execution_count": 171,
      "outputs": [
        {
          "output_type": "execute_result",
          "data": {
            "text/plain": [
              "1                     5 all 740\n",
              "2               supreme alabama\n",
              "3                         adams\n",
              "4                              \n",
              "5                 manner norton\n",
              "6                june term 1843\n",
              "7                       sycosis\n",
              "8     writ error circuit sumter\n",
              "9                              \n",
              "12             west headnotes 2\n",
              "Name: 0, dtype: object"
            ]
          },
          "metadata": {
            "tags": []
          },
          "execution_count": 171
        }
      ]
    },
    {
      "cell_type": "code",
      "metadata": {
        "id": "gHCVXWgCyD7h",
        "colab_type": "code",
        "outputId": "ed782945-cb0a-48dd-ecff-271da8109e9b",
        "colab": {
          "base_uri": "https://localhost:8080/",
          "height": 68
        }
      },
      "source": [
        "#tokenization\n",
        "import nltk\n",
        "nltk.download('punkt')\n",
        "TextBlob(df['0'][1]).words"
      ],
      "execution_count": 172,
      "outputs": [
        {
          "output_type": "stream",
          "text": [
            "[nltk_data] Downloading package punkt to /root/nltk_data...\n",
            "[nltk_data]   Package punkt is already up-to-date!\n"
          ],
          "name": "stdout"
        },
        {
          "output_type": "execute_result",
          "data": {
            "text/plain": [
              "WordList(['5', 'ala', '740'])"
            ]
          },
          "metadata": {
            "tags": []
          },
          "execution_count": 172
        }
      ]
    },
    {
      "cell_type": "code",
      "metadata": {
        "id": "82YRUmuqzbcu",
        "colab_type": "code",
        "outputId": "5c4b14b8-13bf-4301-df76-2910b2bff9ad",
        "colab": {
          "base_uri": "https://localhost:8080/",
          "height": 204
        }
      },
      "source": [
        "#stemming\n",
        "from nltk.stem import PorterStemmer\n",
        "st = PorterStemmer()\n",
        "df['0'][:10].apply(lambda x: \" \".join([st.stem(word) for word in x.split()]))"
      ],
      "execution_count": 173,
      "outputs": [
        {
          "output_type": "execute_result",
          "data": {
            "text/plain": [
              "1                     5 ala 740\n",
              "2                suprem alabama\n",
              "3                          adam\n",
              "4                              \n",
              "5                 tanner horton\n",
              "6                june term 1843\n",
              "7                       synopsi\n",
              "8     writ error circuit sumter\n",
              "9                              \n",
              "12               west headnot 2\n",
              "Name: 0, dtype: object"
            ]
          },
          "metadata": {
            "tags": []
          },
          "execution_count": 173
        }
      ]
    },
    {
      "cell_type": "code",
      "metadata": {
        "id": "oTYHjZ0fznLG",
        "colab_type": "code",
        "outputId": "8771e057-d490-4836-9fb9-cb783e34fad3",
        "colab": {
          "base_uri": "https://localhost:8080/",
          "height": 153
        }
      },
      "source": [
        "#lemmatization\n",
        "from textblob import Word\n",
        "import nltk\n",
        "nltk.download('wordnet')\n",
        "\n",
        "df['0'] = df['0'].apply(lambda x: \" \".join([Word(word).lemmatize() for word in x.split()]))\n",
        "df['0'].head()"
      ],
      "execution_count": 174,
      "outputs": [
        {
          "output_type": "stream",
          "text": [
            "[nltk_data] Downloading package wordnet to /root/nltk_data...\n",
            "[nltk_data]   Package wordnet is already up-to-date!\n"
          ],
          "name": "stdout"
        },
        {
          "output_type": "execute_result",
          "data": {
            "text/plain": [
              "1          5 ala 740\n",
              "2    supreme alabama\n",
              "3               adam\n",
              "4                   \n",
              "5      tanner horton\n",
              "Name: 0, dtype: object"
            ]
          },
          "metadata": {
            "tags": []
          },
          "execution_count": 174
        }
      ]
    },
    {
      "cell_type": "code",
      "metadata": {
        "id": "pSuIG2aZ0eDF",
        "colab_type": "code",
        "colab": {}
      },
      "source": [
        "#adding a new column to csv after cleaning the data\n",
        "csv_input = pd.read_csv('test.csv')\n",
        "csv_input['clean_data'] = df['0']\n",
        "csv_input.to_csv('test.csv', index=False)"
      ],
      "execution_count": 0,
      "outputs": []
    },
    {
      "cell_type": "code",
      "metadata": {
        "id": "wOp9HQbm1HOw",
        "colab_type": "code",
        "outputId": "a4198087-1160-4f08-e985-347212994094",
        "colab": {
          "base_uri": "https://localhost:8080/",
          "height": 111
        }
      },
      "source": [
        "#term frequency\n",
        "tf1 = (df['0'][1:2]).apply(lambda x: pd.value_counts(x.split(\" \"))).sum(axis = 0).reset_index()\n",
        "tf1.columns = ['words','tf']\n",
        "tf1"
      ],
      "execution_count": 176,
      "outputs": [
        {
          "output_type": "execute_result",
          "data": {
            "text/html": [
              "<div>\n",
              "<style scoped>\n",
              "    .dataframe tbody tr th:only-of-type {\n",
              "        vertical-align: middle;\n",
              "    }\n",
              "\n",
              "    .dataframe tbody tr th {\n",
              "        vertical-align: top;\n",
              "    }\n",
              "\n",
              "    .dataframe thead th {\n",
              "        text-align: right;\n",
              "    }\n",
              "</style>\n",
              "<table border=\"1\" class=\"dataframe\">\n",
              "  <thead>\n",
              "    <tr style=\"text-align: right;\">\n",
              "      <th></th>\n",
              "      <th>words</th>\n",
              "      <th>tf</th>\n",
              "    </tr>\n",
              "  </thead>\n",
              "  <tbody>\n",
              "    <tr>\n",
              "      <th>0</th>\n",
              "      <td>alabama</td>\n",
              "      <td>1</td>\n",
              "    </tr>\n",
              "    <tr>\n",
              "      <th>1</th>\n",
              "      <td>supreme</td>\n",
              "      <td>1</td>\n",
              "    </tr>\n",
              "  </tbody>\n",
              "</table>\n",
              "</div>"
            ],
            "text/plain": [
              "     words  tf\n",
              "0  alabama   1\n",
              "1  supreme   1"
            ]
          },
          "metadata": {
            "tags": []
          },
          "execution_count": 176
        }
      ]
    },
    {
      "cell_type": "code",
      "metadata": {
        "id": "fbfn9UOtIUP-",
        "colab_type": "code",
        "colab": {
          "base_uri": "https://localhost:8080/",
          "height": 88
        },
        "outputId": "f6b40368-cddb-4cbf-836a-75126dc2acfd"
      },
      "source": [
        "from nltk.util import ngrams\n",
        "print(\"Top 10 1 grams\",TextBlob(df['0'][1]).ngrams(1),TextBlob(df['0'][2]).ngrams(1),TextBlob(df['0'][3]).ngrams(1),TextBlob(df['0'][4]).ngrams(1),\n",
        "      TextBlob(df['0'][5]).ngrams(1),TextBlob(df['0'][6]).ngrams(1),TextBlob(df['0'][7]).ngrams(1),TextBlob(df['0'][8]).ngrams(1),\n",
        "      TextBlob(df['0'][9]).ngrams(1))\n",
        "print(\"Top 10 2 grams\",TextBlob(df['0'][1]).ngrams(2),TextBlob(df['0'][2]).ngrams(2),TextBlob(df['0'][3]).ngrams(2),TextBlob(df['0'][2]).ngrams(2),\n",
        "      TextBlob(df['0'][5]).ngrams(2),TextBlob(df['0'][6]).ngrams(2),TextBlob(df['0'][7]).ngrams(2),TextBlob(df['0'][8]).ngrams(2),\n",
        "      TextBlob(df['0'][9]).ngrams(2))\n",
        "print(\"Top 10 3 grams\",TextBlob(df['0'][1]).ngrams(3),TextBlob(df['0'][2]).ngrams(3),TextBlob(df['0'][3]).ngrams(3),TextBlob(df['0'][4]).ngrams(3),\n",
        "      TextBlob(df['0'][5]).ngrams(1),TextBlob(df['0'][6]).ngrams(3),TextBlob(df['0'][7]).ngrams(3),TextBlob(df['0'][8]).ngrams(3),\n",
        "      TextBlob(df['0'][9]).ngrams(3))\n"
      ],
      "execution_count": 177,
      "outputs": [
        {
          "output_type": "stream",
          "text": [
            "Top 10 1 grams [WordList(['5']), WordList(['ala']), WordList(['740'])] [WordList(['supreme']), WordList(['alabama'])] [WordList(['adam'])] [] [WordList(['tanner']), WordList(['horton'])] [WordList(['june']), WordList(['term']), WordList(['1843'])] [WordList(['synopsis'])] [WordList(['writ']), WordList(['error']), WordList(['circuit']), WordList(['sumter'])] []\n",
            "Top 10 2 grams [WordList(['5', 'ala']), WordList(['ala', '740'])] [WordList(['supreme', 'alabama'])] [] [WordList(['supreme', 'alabama'])] [WordList(['tanner', 'horton'])] [WordList(['june', 'term']), WordList(['term', '1843'])] [] [WordList(['writ', 'error']), WordList(['error', 'circuit']), WordList(['circuit', 'sumter'])] []\n",
            "Top 10 3 grams [WordList(['5', 'ala', '740'])] [] [] [] [WordList(['tanner']), WordList(['horton'])] [WordList(['june', 'term', '1843'])] [] [WordList(['writ', 'error', 'circuit']), WordList(['error', 'circuit', 'sumter'])] []\n"
          ],
          "name": "stdout"
        }
      ]
    },
    {
      "cell_type": "markdown",
      "metadata": {
        "id": "BBiC4E_kefvV",
        "colab_type": "text"
      },
      "source": [
        "# 2. Python Regular Expression"
      ]
    },
    {
      "cell_type": "markdown",
      "metadata": {
        "id": "Z1QJ-UwCenvN",
        "colab_type": "text"
      },
      "source": [
        "## 2.1 Write a Python program to remove leading zeros from an IP address. \n",
        "\n",
        "ip = \"260.08.094.109\""
      ]
    },
    {
      "cell_type": "code",
      "metadata": {
        "id": "wSv6fVhOfFmv",
        "colab_type": "code",
        "outputId": "843ecc3d-fc0b-40fe-cab3-f40f3dad3b7d",
        "colab": {
          "base_uri": "https://localhost:8080/",
          "height": 34
        }
      },
      "source": [
        "def noleadingZeros(ip): \n",
        "\tnoleadingZeroes_ip = \".\".join([str(int(i)) for i in ip.split(\".\")]) \n",
        "\treturn noleadingZeroes_ip ; \n",
        "ip =\"260.08.094.109\"\n",
        "print(noleadingZeros(ip)) "
      ],
      "execution_count": 178,
      "outputs": [
        {
          "output_type": "stream",
          "text": [
            "260.8.94.109\n"
          ],
          "name": "stdout"
        }
      ]
    },
    {
      "cell_type": "markdown",
      "metadata": {
        "id": "PXRjaHzrfKAy",
        "colab_type": "text"
      },
      "source": [
        "**bold text**## 2.2 Write a Python Program to extract all the years from the following sentence.\n",
        "\n",
        "sentence = \"The 2010s were a dramatic decade, filled with ups and downs, more than 1000 stroies have happened. As the decade comes to a close, Insider took a look back at some of the biggest headline-grabbing stories, from 2010 to 2019. The result was 119 news stories that ranged from the heartwarming rescue of a Thai boys' soccer team from a flooded cave to the divisive election of President Donald Trump.\""
      ]
    },
    {
      "cell_type": "code",
      "metadata": {
        "id": "7xdJpDx9gjbX",
        "colab_type": "code",
        "outputId": "d7c75155-88b2-4e9d-f4d0-f3583809af8d",
        "colab": {
          "base_uri": "https://localhost:8080/",
          "height": 34
        }
      },
      "source": [
        "import re\n",
        "sentence = \"The 2010s were a dramatic decade, filled with ups and downs, more than 1000 stroies have happened. As the decade comes to a close, Insider took a look back at some of the biggest headline-grabbing stories, from 2010 to 2019. The result was 119 news stories that ranged from the heartwarming rescue of a Thai boys' soccer team from a flooded cave to the divisive election of President Donald Trump.\"\n",
        "year = re.findall('(\\d{4})',sentence)\n",
        "year[:] = [x for x in year if \"1000\" not in x]\n",
        "year\n",
        "    \n"
      ],
      "execution_count": 179,
      "outputs": [
        {
          "output_type": "execute_result",
          "data": {
            "text/plain": [
              "['2010', '2010', '2019']"
            ]
          },
          "metadata": {
            "tags": []
          },
          "execution_count": 179
        }
      ]
    }
  ]
}