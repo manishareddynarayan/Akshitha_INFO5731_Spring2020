{
  "nbformat": 4,
  "nbformat_minor": 0,
  "metadata": {
    "colab": {
      "name": "Copy_of_Copy_of_Copy_of_Copy_of_Copy_of_FinalProject.ipynb",
      "provenance": [],
      "collapsed_sections": [],
      "include_colab_link": true
    },
    "kernelspec": {
      "name": "python3",
      "display_name": "Python 3"
    }
  },
  "cells": [
    {
      "cell_type": "markdown",
      "metadata": {
        "id": "view-in-github",
        "colab_type": "text"
      },
      "source": [
        "<a href=\"https://colab.research.google.com/github/akshithamaddi/Akshitha_INFO5731_Spring2020/blob/master/Copy_of_Copy_of_Copy_of_Copy_of_Copy_of_FinalProject.ipynb\" target=\"_parent\"><img src=\"https://colab.research.google.com/assets/colab-badge.svg\" alt=\"Open In Colab\"/></a>"
      ]
    },
    {
      "cell_type": "code",
      "metadata": {
        "id": "X_G3fm790SEc",
        "colab_type": "code",
        "outputId": "936fd2af-3ca4-46a9-acbf-b4e766829365",
        "colab": {
          "base_uri": "https://localhost:8080/",
          "height": 122
        }
      },
      "source": [
        "from google.colab import drive\n",
        "drive.mount('/content/drive')"
      ],
      "execution_count": 1,
      "outputs": [
        {
          "output_type": "stream",
          "text": [
            "Go to this URL in a browser: https://accounts.google.com/o/oauth2/auth?client_id=947318989803-6bn6qk8qdgf4n4g3pfee6491hc0brc4i.apps.googleusercontent.com&redirect_uri=urn%3aietf%3awg%3aoauth%3a2.0%3aoob&response_type=code&scope=email%20https%3a%2f%2fwww.googleapis.com%2fauth%2fdocs.test%20https%3a%2f%2fwww.googleapis.com%2fauth%2fdrive%20https%3a%2f%2fwww.googleapis.com%2fauth%2fdrive.photos.readonly%20https%3a%2f%2fwww.googleapis.com%2fauth%2fpeopleapi.readonly\n",
            "\n",
            "Enter your authorization code:\n",
            "··········\n",
            "Mounted at /content/drive\n"
          ],
          "name": "stdout"
        }
      ]
    },
    {
      "cell_type": "code",
      "metadata": {
        "id": "1qFQrHji0E3M",
        "colab_type": "code",
        "colab": {}
      },
      "source": [
        "import glob\n",
        "import pandas as pd\n",
        "import os\n",
        "import csv\n",
        "# Select all the files in your directory\n",
        "directory = r'/content/drive/My Drive/sigir_data'\n",
        "files = glob.glob(directory + \"/*.csv\")\n",
        "df1 = pd.concat([pd.read_csv(fp,skipinitialspace=True,encoding = \"ISO-8859-1\").assign(New=os.path.basename(fp)) for fp in files])\n",
        "df1['article_no'] = df1['article_id'].str.replace('https://doi.org/','')\n",
        "df1.to_csv('output.csv')"
      ],
      "execution_count": 0,
      "outputs": []
    },
    {
      "cell_type": "code",
      "metadata": {
        "id": "Owyp47VWri1P",
        "colab_type": "code",
        "colab": {}
      },
      "source": [
        "data = pd.read_csv(\"output.csv\") \n",
        "df1 = data[pd.notnull(data['article_id'])]\n",
        "df1.to_csv('articleoutput.csv')\n",
        "#reading the csvfile\n",
        "data = pd.read_csv(\"articleoutput.csv\") \n",
        "header = [\"article_no\"]\n",
        "df1.to_csv('articleno.csv', columns = header)"
      ],
      "execution_count": 0,
      "outputs": []
    },
    {
      "cell_type": "code",
      "metadata": {
        "id": "QiF50MalJmD6",
        "colab_type": "code",
        "colab": {}
      },
      "source": [
        "import csv\n",
        "import itertools\n",
        "contents = []\n",
        "with open('articleno.csv','r') as csvf:\n",
        "    urls = csv.reader(csvf)\n",
        "    next(urls, None)\n",
        "    contents = [row[1] for row in itertools.islice(urls,10)] \n",
        "string = 'https://api.semanticscholar.org/v1/paper/'\n",
        "my_new_list = [string+x for x in contents]\n",
        "with open(\"Article_URLs.csv\",\"w\") as f:\n",
        "    writer = csv.writer(f,delimiter=\"\\n\")\n",
        "    writer.writerow(['ArticleURL'])\n",
        "    writer.writerow(my_new_list) "
      ],
      "execution_count": 0,
      "outputs": []
    },
    {
      "cell_type": "code",
      "metadata": {
        "id": "xsTKtQwTJ0OJ",
        "colab_type": "code",
        "outputId": "593d3527-cbe9-4b21-eaa6-291b8b752755",
        "colab": {
          "base_uri": "https://localhost:8080/",
          "height": 547
        }
      },
      "source": [
        "import urllib.request\n",
        "from urllib.request import Request, urlopen\n",
        "from urllib.error import URLError, HTTPError\n",
        "import time\n",
        "countUp = 0\n",
        "headers = {}\n",
        "headers['User-Agent'] = 'Mozilla/5.0 (X11; Linux i686) AppleWebKit/537.17 (KHTML, like Gecko) Chrome/24.0.1312.27 Safari/537.17'\n",
        "for j in my_new_list:\n",
        " time.sleep(2)\n",
        " try:\n",
        "     req = urllib.request.Request(j,headers=headers)\n",
        "     response = urllib.request.urlopen(req)\n",
        "     res=response.read().decode('utf8')\n",
        "     time.sleep(0.1)\n",
        "     print(\"Here\")\n",
        "     print(res)\n",
        "     with open ('/content/jsonfiles/Article' + str(countUp) + '.json', 'w') as g:\n",
        "          g.write(res)\n",
        "     countUp += 1\n",
        " except HTTPError as e:\n",
        "    print('The server couldn\\'t fulfill the request.')\n",
        "    print('Error code: ', e.code)\n",
        "    time.sleep(30) \n",
        " except URLError as e:\n",
        "    print('We failed to reach a server.')\n",
        "    print('Reason: ', e.reason)\n",
        "    time.sleep(30)    "
      ],
      "execution_count": 6,
      "outputs": [
        {
          "output_type": "stream",
          "text": [
            "Here\n",
            "{\"abstract\":\"An introduction and some prospectives are provided for the 1971 ACM Information Storage and Retrieval Symposium held at the University of Maryland on April 1 and 2, 1971. The symposium, sponsored by the University of Maryland, the National Aeronautics and Space Administration and the Special Interest Group on Information Retrieval (SIGIR) of the ACM, focuses on advances in techniques in the computer oriented technology of information retrieval. Early developments and the status of recent efforts in document retrieval, quesiton-answering and data management systems are reviewed briefly.\",\"arxivId\":null,\"authors\":[{\"authorId\":\"1777876\",\"name\":\"Jack Minker\",\"url\":\"https://www.semanticscholar.org/author/1777876\"},{\"authorId\":\"144890509\",\"name\":\"Sam Rosenfeld\",\"url\":\"https://www.semanticscholar.org/author/144890509\"}],\"citationVelocity\":0,\"citations\":[],\"corpusId\":38322729,\"doi\":\"10.1145/511285.511286\",\"fieldsOfStudy\":[\"Computer Science\"],\"influentialCitationCount\":0,\"is_open_access\":false,\"is_publisher_licensed\":true,\"paperId\":\"2c1490360576ad2e888ab818082d016481f3b0c2\",\"references\":[{\"arxivId\":null,\"authors\":[{\"authorId\":\"1797808\",\"name\":\"Gerard Salton\",\"url\":\"https://www.semanticscholar.org/author/1797808\"}],\"doi\":null,\"intent\":[],\"isInfluential\":false,\"paperId\":\"dccea747182423d212741a6eecabf4d2024efb52\",\"title\":\"Automatic Information Organization And Retrieval\",\"url\":\"https://www.semanticscholar.org/paper/dccea747182423d212741a6eecabf4d2024efb52\",\"venue\":\"\",\"year\":1968},{\"arxivId\":null,\"authors\":[{\"authorId\":\"66059454\",\"name\":\"James D. Tupac\",\"url\":\"https://www.semanticscholar.org/author/66059454\"}],\"doi\":null,\"intent\":[],\"isInfluential\":false,\"paperId\":\"6f7949a0301963ca49d88c5c96b375ded713a31b\",\"title\":\"Afips conference proceedings\",\"url\":\"https://www.semanticscholar.org/paper/6f7949a0301963ca49d88c5c96b375ded713a31b\",\"venue\":\"\",\"year\":1963},{\"arxivId\":null,\"authors\":[{\"authorId\":\"145707540\",\"name\":\"R. W. Hiorns\",\"url\":\"https://www.semanticscholar.org/author/145707540\"},{\"authorId\":\"144245571\",\"name\":\"Mary Elizabeth Stevens\",\"url\":\"https://www.semanticscholar.org/author/144245571\"},{\"authorId\":\"49799505\",\"name\":\"Vincent E. Giuliano\",\"url\":\"https://www.semanticscholar.org/author/49799505\"},{\"authorId\":\"69439153\",\"name\":\"Laurence B. Heilperin\",\"url\":\"https://www.semanticscholar.org/author/69439153\"}],\"doi\":\"10.2307/2982533\",\"intent\":[],\"isInfluential\":false,\"paperId\":\"cb93b7894a19780851dcaf0559a8c4f9ac1a7694\",\"title\":\"Statistical Association Methods for Mechanized Documentation.\",\"url\":\"https://www.semanticscholar.org/paper/cb93b7894a19780851dcaf0559a8c4f9ac1a7694\",\"venue\":\"\",\"year\":1967},{\"arxivId\":null,\"authors\":[{\"authorId\":\"16902271\",\"name\":\"Hans Peter Luhn\",\"url\":\"https://www.semanticscholar.org/author/16902271\"}],\"doi\":\"10.1002/asi.5090110403\",\"intent\":[],\"isInfluential\":false,\"paperId\":\"a76e8341a099a3ab447ee16aafcd24213cb0dd18\",\"title\":\"Key word\\u2010in\\u2010context index for technical literature (kwic index)\",\"url\":\"https://www.semanticscholar.org/paper/a76e8341a099a3ab447ee16aafcd24213cb0dd18\",\"venue\":\"\",\"year\":1960},{\"arxivId\":null,\"authors\":[{\"authorId\":\"1777876\",\"name\":\"Jack Minker\",\"url\":\"https://www.semanticscholar.org/author/1777876\"}],\"doi\":null,\"intent\":[],\"isInfluential\":false,\"paperId\":\"eba004b4bf597350bdd3f1e622329589fe3b958e\",\"title\":\"Generalized data management systems - some perspectives\",\"url\":\"https://www.semanticscholar.org/paper/eba004b4bf597350bdd3f1e622329589fe3b958e\",\"venue\":\"\",\"year\":1969},{\"arxivId\":null,\"authors\":[{\"authorId\":\"3231985\",\"name\":\"David Lefkovitz\",\"url\":\"https://www.semanticscholar.org/author/3231985\"}],\"doi\":\"10.1109/MSPEC.1964.6500781\",\"intent\":[],\"isInfluential\":false,\"paperId\":\"87d68b8da89362304939b0ce2c95ebac1f28b25d\",\"title\":\"Automation and the library of congress\",\"url\":\"https://www.semanticscholar.org/paper/87d68b8da89362304939b0ce2c95ebac1f28b25d\",\"venue\":\"IEEE Spectrum\",\"year\":1964},{\"arxivId\":null,\"authors\":[{\"authorId\":\"2928409\",\"name\":\"Victor H. Yngve\",\"url\":\"https://www.semanticscholar.org/author/2928409\"}],\"doi\":\"10.1145/366243.366720\",\"intent\":[],\"isInfluential\":false,\"paperId\":\"848dc213c8e0d1d33dd57e91b713e1dce1a6ef1e\",\"title\":\"COMIT as an IR language\",\"url\":\"https://www.semanticscholar.org/paper/848dc213c8e0d1d33dd57e91b713e1dce1a6ef1e\",\"venue\":\"CACM\",\"year\":1962},{\"arxivId\":null,\"authors\":[{\"authorId\":\"38485274\",\"name\":\"Thomas E. Cheatham\",\"url\":\"https://www.semanticscholar.org/author/38485274\"},{\"authorId\":\"16667726\",\"name\":\"Stephen Warshall\",\"url\":\"https://www.semanticscholar.org/author/16667726\"}],\"doi\":\"10.1145/366243.366724\",\"intent\":[],\"isInfluential\":false,\"paperId\":\"1a3d6137f06322804161e06d3443e37b6868e6e9\",\"title\":\"Translation of retrieval requests couched in a \\u201csemiformal\\u201d English-like language\",\"url\":\"https://www.semanticscholar.org/paper/1a3d6137f06322804161e06d3443e37b6868e6e9\",\"venue\":\"CACM\",\"year\":1962},{\"arxivId\":null,\"authors\":[{\"authorId\":\"143745511\",\"name\":\"Robert F. Simmons\",\"url\":\"https://www.semanticscholar.org/author/143745511\"}],\"doi\":\"10.1145/363707.363732\",\"intent\":[],\"isInfluential\":false,\"paperId\":\"587fbc4dd6657e245e6ffd5c452d419e9979099b\",\"title\":\"Answering English questions by computer: a survey\",\"url\":\"https://www.semanticscholar.org/paper/587fbc4dd6657e245e6ffd5c452d419e9979099b\",\"venue\":\"CACM\",\"year\":1965},{\"arxivId\":null,\"authors\":[{\"authorId\":\"1777876\",\"name\":\"Jack Minker\",\"url\":\"https://www.semanticscholar.org/author/1777876\"},{\"authorId\":\"145431437\",\"name\":\"J. D. Sable\",\"url\":\"https://www.semanticscholar.org/author/145431437\"}],\"doi\":null,\"intent\":[],\"isInfluential\":false,\"paperId\":\"a3f5f26e8193238b16c1b18eab3655f3e6a21f80\",\"title\":\"Relational Data System Study.\",\"url\":\"https://www.semanticscholar.org/paper/a3f5f26e8193238b16c1b18eab3655f3e6a21f80\",\"venue\":\"\",\"year\":1970},{\"arxivId\":null,\"authors\":[{\"authorId\":\"143745511\",\"name\":\"Robert F. Simmons\",\"url\":\"https://www.semanticscholar.org/author/143745511\"}],\"doi\":\"10.1145/361953.361963\",\"intent\":[],\"isInfluential\":false,\"paperId\":\"7869fc49e9650b164a18f618f02b318ae41709f5\",\"title\":\"Natural language question-answering systems: 1969\",\"url\":\"https://www.semanticscholar.org/paper/7869fc49e9650b164a18f618f02b318ae41709f5\",\"venue\":\"CACM\",\"year\":1970},{\"arxivId\":null,\"authors\":[{\"authorId\":\"145317964\",\"name\":\"Jr. Bert F. Green\",\"url\":\"https://www.semanticscholar.org/author/145317964\"},{\"authorId\":\"32223729\",\"name\":\"Alice K. Wolf\",\"url\":\"https://www.semanticscholar.org/author/32223729\"},{\"authorId\":\"50149063\",\"name\":\"Carol L. Chomsky\",\"url\":\"https://www.semanticscholar.org/author/50149063\"},{\"authorId\":\"2892022\",\"name\":\"K. Ronald Laughery\",\"url\":\"https://www.semanticscholar.org/author/2892022\"}],\"doi\":\"10.1145/1460690.1460714\",\"intent\":[],\"isInfluential\":false,\"paperId\":\"89d025804988944d6fa4e95f49bff011b33d1418\",\"title\":\"Baseball: an automatic question-answerer\",\"url\":\"https://www.semanticscholar.org/paper/89d025804988944d6fa4e95f49bff011b33d1418\",\"venue\":\"IRE-AIEE-ACM '61 (Western)\",\"year\":1961},{\"arxivId\":null,\"authors\":[{\"authorId\":\"144245571\",\"name\":\"Mary Elizabeth Stevens\",\"url\":\"https://www.semanticscholar.org/author/144245571\"}],\"doi\":\"10.6028/nbs.mono.91e1970\",\"intent\":[],\"isInfluential\":false,\"paperId\":\"f381202c44918f51a8b757a5894c72eb5d773e78\",\"title\":\"Automatic Indexing: A State-of-the-Art Report.\",\"url\":\"https://www.semanticscholar.org/paper/f381202c44918f51a8b757a5894c72eb5d773e78\",\"venue\":\"\",\"year\":1965}],\"title\":\"Introduction and perspectives for the 1971 ACM Information Storage and Retrieval Symposium\",\"topics\":[{\"topic\":\"Information retrieval\",\"topicId\":\"2867\",\"url\":\"https://www.semanticscholar.org/topic/2867\"},{\"topic\":\"Document retrieval\",\"topicId\":\"14824\",\"url\":\"https://www.semanticscholar.org/topic/14824\"}],\"url\":\"https://www.semanticscholar.org/paper/2c1490360576ad2e888ab818082d016481f3b0c2\",\"venue\":\"SIGIR '71\",\"year\":1971}\n",
            "\n",
            "Here\n",
            "{\"abstract\":\"This paper is a survey of some of the major semantic models that have been developed for automated semantic analysis of natural language. Current approaches to semantic analysis and logical inference are based mainly on models of human cognitive processes such as Quillian's semantic memory, Simmon's Protosynthex III and others. All existing systems and/or models, more or less experimental, were applied to a small subset of English. They are highly tentative because the definitions of semantic processes and semantically structured lexicons are not formulated rigorously. This is due mainly to the fact that it is unknown whether a unique, consistent hierarchization of the semantic features of language is possible.However, the models described are significant contributions to an unexplored field called semantics. The progressive development of a sophisticated, semantically based system for automated processing of natural language is a realistic goal. It should not be neglected, despite the fact that it is difficult to predict when this goal will be achieved.\",\"arxivId\":null,\"authors\":[{\"authorId\":\"2523724\",\"name\":\"Milos Pacak\",\"url\":\"https://www.semanticscholar.org/author/2523724\"},{\"authorId\":\"2641020\",\"name\":\"Arnold W. Pratt\",\"url\":\"https://www.semanticscholar.org/author/2641020\"}],\"citationVelocity\":0,\"citations\":[{\"arxivId\":null,\"authors\":[{\"authorId\":\"40005703\",\"name\":\"Raoul N. Smith\",\"url\":\"https://www.semanticscholar.org/author/40005703\"},{\"authorId\":\"144226072\",\"name\":\"Edward Maxwell\",\"url\":\"https://www.semanticscholar.org/author/144226072\"}],\"doi\":\"10.3115/992532.992563\",\"intent\":[],\"isInfluential\":false,\"paperId\":\"819c14aeb7fbd7819baa58f038142db1f0cfc351\",\"title\":\"An English Dictionary for Computerized Syntactic and Semantic Processing Systems\",\"url\":\"https://www.semanticscholar.org/paper/819c14aeb7fbd7819baa58f038142db1f0cfc351\",\"venue\":\"COLING\",\"year\":1973},{\"arxivId\":null,\"authors\":[{\"authorId\":\"35022826\",\"name\":\"John A. Moyne\",\"url\":\"https://www.semanticscholar.org/author/35022826\"}],\"doi\":\"10.1007/BF01007763\",\"intent\":[],\"isInfluential\":false,\"paperId\":\"8113edc6c95508bc7f9ae624903f8f4c98d3395b\",\"title\":\"Relevance of computer science to linguistics and vice versa\",\"url\":\"https://www.semanticscholar.org/paper/8113edc6c95508bc7f9ae624903f8f4c98d3395b\",\"venue\":\"International Journal of Computer & Information Sciences\",\"year\":1975},{\"arxivId\":null,\"authors\":[{\"authorId\":\"1777876\",\"name\":\"Jack Minker\",\"url\":\"https://www.semanticscholar.org/author/1777876\"}],\"doi\":\"10.1145/1095515.1095516\",\"intent\":[],\"isInfluential\":false,\"paperId\":\"28dd43a10b78cc6297081fb7b9be86e114894391\",\"title\":\"Information storage and retrieval: a survey and functional description\",\"url\":\"https://www.semanticscholar.org/paper/28dd43a10b78cc6297081fb7b9be86e114894391\",\"venue\":\"SIGF\",\"year\":1977},{\"arxivId\":null,\"authors\":[{\"authorId\":\"1797808\",\"name\":\"Gerard Salton\",\"url\":\"https://www.semanticscholar.org/author/1797808\"}],\"doi\":\"10.1145/321752.321757\",\"intent\":[\"background\"],\"isInfluential\":false,\"paperId\":\"479fc4af54633ad789e9f252f1581caa02ee8d32\",\"title\":\"Recent Studies in Automatic Text Analysis and Document Retrieval\",\"url\":\"https://www.semanticscholar.org/paper/479fc4af54633ad789e9f252f1581caa02ee8d32\",\"venue\":\"JACM\",\"year\":1973},{\"arxivId\":null,\"authors\":[{\"authorId\":\"35022826\",\"name\":\"John A. Moyne\",\"url\":\"https://www.semanticscholar.org/author/35022826\"}],\"doi\":\"10.1007/BF00998326\",\"intent\":[\"background\"],\"isInfluential\":false,\"paperId\":\"393a9de965783f2c0f42b82db47321df10402472\",\"title\":\"Simple-english for data base communication\",\"url\":\"https://www.semanticscholar.org/paper/393a9de965783f2c0f42b82db47321df10402472\",\"venue\":\"International Journal of Computer & Information Sciences\",\"year\":1977},{\"arxivId\":null,\"authors\":[{\"authorId\":\"48264726\",\"name\":\"George S. Dunham\",\"url\":\"https://www.semanticscholar.org/author/48264726\"},{\"authorId\":\"2523724\",\"name\":\"Milos Pacak\",\"url\":\"https://www.semanticscholar.org/author/2523724\"},{\"authorId\":\"2641020\",\"name\":\"Arnold W. Pratt\",\"url\":\"https://www.semanticscholar.org/author/2641020\"}],\"doi\":\"10.1002/asi.4630290207\",\"intent\":[],\"isInfluential\":false,\"paperId\":\"24f73ab2828f9aecbc079a9d5f5028c392eaa5b0\",\"title\":\"Automatic indexing of pathology data\",\"url\":\"https://www.semanticscholar.org/paper/24f73ab2828f9aecbc079a9d5f5028c392eaa5b0\",\"venue\":\"JASIS\",\"year\":1978}],\"corpusId\":17549958,\"doi\":\"10.1145/511285.511288\",\"fieldsOfStudy\":[\"Computer Science\"],\"influentialCitationCount\":0,\"is_open_access\":false,\"is_publisher_licensed\":true,\"paperId\":\"aa737f8682727e98b8815c1199ecca6f33f39895\",\"references\":[{\"arxivId\":null,\"authors\":[{\"authorId\":\"47234987\",\"name\":\"David G. Hays\",\"url\":\"https://www.semanticscholar.org/author/47234987\"}],\"doi\":\"10.2307/411934\",\"intent\":[],\"isInfluential\":false,\"paperId\":\"17cb4f318dc53b3c09dab637bd46897039d88046\",\"title\":\"Dependency Theory: A Formalism and Some Observations\",\"url\":\"https://www.semanticscholar.org/paper/17cb4f318dc53b3c09dab637bd46897039d88046\",\"venue\":\"\",\"year\":1964},{\"arxivId\":null,\"authors\":[{\"authorId\":\"21804909\",\"name\":\"Daniel G. Bobrow\",\"url\":\"https://www.semanticscholar.org/author/21804909\"}],\"doi\":null,\"intent\":[],\"isInfluential\":false,\"paperId\":\"078ed392e499a2f3556eb6a2927b14583f0f5084\",\"title\":\"Syntactic theory in computer implementations\",\"url\":\"https://www.semanticscholar.org/paper/078ed392e499a2f3556eb6a2927b14583f0f5084\",\"venue\":\"\",\"year\":1967},{\"arxivId\":null,\"authors\":[{\"authorId\":\"50552632\",\"name\":\"Dwight L. Bolinger\",\"url\":\"https://www.semanticscholar.org/author/50552632\"}],\"doi\":\"10.2307/411524\",\"intent\":[],\"isInfluential\":false,\"paperId\":\"35ca160b9987706d2c956984e9e81b07ffba0d1e\",\"title\":\"The Atomization of Meaning\",\"url\":\"https://www.semanticscholar.org/paper/35ca160b9987706d2c956984e9e81b07ffba0d1e\",\"venue\":\"\",\"year\":1965},{\"arxivId\":null,\"authors\":[{\"authorId\":\"143745511\",\"name\":\"Robert F. Simmons\",\"url\":\"https://www.semanticscholar.org/author/143745511\"}],\"doi\":\"10.1145/361953.361963\",\"intent\":[],\"isInfluential\":false,\"paperId\":\"7869fc49e9650b164a18f618f02b318ae41709f5\",\"title\":\"Natural language question-answering systems: 1969\",\"url\":\"https://www.semanticscholar.org/paper/7869fc49e9650b164a18f618f02b318ae41709f5\",\"venue\":\"CACM\",\"year\":1970},{\"arxivId\":null,\"authors\":[{\"authorId\":\"4820311\",\"name\":\"Robert M. Schwarcz\",\"url\":\"https://www.semanticscholar.org/author/4820311\"}],\"doi\":\"10.3115/990403.990432\",\"intent\":[],\"isInfluential\":false,\"paperId\":\"5ef3f4bbbb1af9c5334eeed57b45a7be4b589693\",\"title\":\"Towards a Computational Formalization of Natural Language Semantics\",\"url\":\"https://www.semanticscholar.org/paper/5ef3f4bbbb1af9c5334eeed57b45a7be4b589693\",\"venue\":\"COLING\",\"year\":1969},{\"arxivId\":null,\"authors\":[{\"authorId\":\"69539826\",\"name\":\"H. R. Quillian\",\"url\":\"https://www.semanticscholar.org/author/69539826\"}],\"doi\":null,\"intent\":[],\"isInfluential\":false,\"paperId\":\"68226a8d3978155344d39f43c320b515917ca146\",\"title\":\"In semantic information processing\",\"url\":\"https://www.semanticscholar.org/paper/68226a8d3978155344d39f43c320b515917ca146\",\"venue\":\"\",\"year\":1968},{\"arxivId\":null,\"authors\":[{\"authorId\":\"16900746\",\"name\":\"Charles Francis Hockett\",\"url\":\"https://www.semanticscholar.org/author/16900746\"}],\"doi\":null,\"intent\":[],\"isInfluential\":false,\"paperId\":\"b8505c26983ba5ef59e037ea8329e4e566d09600\",\"title\":\"The Problem of Universals in Language\",\"url\":\"https://www.semanticscholar.org/paper/b8505c26983ba5ef59e037ea8329e4e566d09600\",\"venue\":\"\",\"year\":1965},{\"arxivId\":null,\"authors\":[{\"authorId\":\"9079926\",\"name\":\"William A. Woods\",\"url\":\"https://www.semanticscholar.org/author/9079926\"}],\"doi\":null,\"intent\":[],\"isInfluential\":false,\"paperId\":\"370cc948324d013a8a0063b62b4bfd9ab9bce657\",\"title\":\"Semantic interpretation of english questions on a structured data base\",\"url\":\"https://www.semanticscholar.org/paper/370cc948324d013a8a0063b62b4bfd9ab9bce657\",\"venue\":\"\",\"year\":1967},{\"arxivId\":null,\"authors\":[{\"authorId\":\"48777451\",\"name\":\"Jerrold J. Katz\",\"url\":\"https://www.semanticscholar.org/author/48777451\"},{\"authorId\":\"38663378\",\"name\":\"Jerry A. Fodor\",\"url\":\"https://www.semanticscholar.org/author/38663378\"}],\"doi\":\"10.2307/411200\",\"intent\":[],\"isInfluential\":false,\"paperId\":\"7adb3c40ef03a458d35a3851fa66046936211cc3\",\"title\":\"The structure of a semantic theory\",\"url\":\"https://www.semanticscholar.org/paper/7adb3c40ef03a458d35a3851fa66046936211cc3\",\"venue\":\"\",\"year\":1963},{\"arxivId\":null,\"authors\":[{\"authorId\":\"2912454\",\"name\":\"Charles J. Fillmore\",\"url\":\"https://www.semanticscholar.org/author/2912454\"}],\"doi\":null,\"intent\":[],\"isInfluential\":false,\"paperId\":\"36611b39aa022368b7905003abda91ab96b753e7\",\"title\":\"TOWARD A MODERN THEORY OF CASE.\",\"url\":\"https://www.semanticscholar.org/paper/36611b39aa022368b7905003abda91ab96b753e7\",\"venue\":\"\",\"year\":1966},{\"arxivId\":null,\"authors\":[{\"authorId\":\"48120076\",\"name\":\"Charles J. Fillmore\",\"url\":\"https://www.semanticscholar.org/author/48120076\"}],\"doi\":null,\"intent\":[],\"isInfluential\":false,\"paperId\":\"f8a2e2932af3b09ee9b3837319a32248de5498eb\",\"title\":\"The case for case\\\" in universals in linguistic theory\",\"url\":\"https://www.semanticscholar.org/paper/f8a2e2932af3b09ee9b3837319a32248de5498eb\",\"venue\":\"\",\"year\":1968},{\"arxivId\":null,\"authors\":[{\"authorId\":\"2641020\",\"name\":\"Arnold W. Pratt\",\"url\":\"https://www.semanticscholar.org/author/2641020\"},{\"authorId\":\"2523724\",\"name\":\"Milos Pacak\",\"url\":\"https://www.semanticscholar.org/author/2523724\"}],\"doi\":\"10.1055/s-0038-1636644\",\"intent\":[],\"isInfluential\":false,\"paperId\":\"5a14d3468f6fe6adaa95391f133c368ba7400c5a\",\"title\":\"Identification and transformation of terminal morphemes in medical English.\",\"url\":\"https://www.semanticscholar.org/paper/5a14d3468f6fe6adaa95391f133c368ba7400c5a\",\"venue\":\"Methods of information in medicine\",\"year\":1969},{\"arxivId\":null,\"authors\":[{\"authorId\":\"1797808\",\"name\":\"Gerard Salton\",\"url\":\"https://www.semanticscholar.org/author/1797808\"}],\"doi\":null,\"intent\":[],\"isInfluential\":false,\"paperId\":\"c800065a4810945ad8e222cf82a365a3b2ee8245\",\"title\":\"Automated Language Processing\",\"url\":\"https://www.semanticscholar.org/paper/c800065a4810945ad8e222cf82a365a3b2ee8245\",\"venue\":\"\",\"year\":1968},{\"arxivId\":null,\"authors\":[{\"authorId\":\"3123001\",\"name\":\"Kenneth Mark Colby\",\"url\":\"https://www.semanticscholar.org/author/3123001\"},{\"authorId\":\"1895532\",\"name\":\"Lawrence G. Tesler\",\"url\":\"https://www.semanticscholar.org/author/1895532\"},{\"authorId\":\"1962099\",\"name\":\"Horace Enea\",\"url\":\"https://www.semanticscholar.org/author/1962099\"}],\"doi\":null,\"intent\":[],\"isInfluential\":false,\"paperId\":\"02f282229fbce39bbb1aab41e4406d4feeb4c82a\",\"title\":\"Experiments with a Search Algorithm for the Data Base of a Human Belief System\",\"url\":\"https://www.semanticscholar.org/paper/02f282229fbce39bbb1aab41e4406d4feeb4c82a\",\"venue\":\"IJCAI\",\"year\":1969},{\"arxivId\":null,\"authors\":[{\"authorId\":\"16652520\",\"name\":\"M. Ross Quillian\",\"url\":\"https://www.semanticscholar.org/author/16652520\"}],\"doi\":\"10.1145/363196.363214\",\"intent\":[],\"isInfluential\":false,\"paperId\":\"be02603f27853d3cf6ef10cadc64727ed505cc25\",\"title\":\"The teachable language comprehender: a simulation program and theory of language\",\"url\":\"https://www.semanticscholar.org/paper/be02603f27853d3cf6ef10cadc64727ed505cc25\",\"venue\":\"CACM\",\"year\":1969},{\"arxivId\":null,\"authors\":[{\"authorId\":\"47832675\",\"name\":\"Ricardo Schwarcz\",\"url\":\"https://www.semanticscholar.org/author/47832675\"}],\"doi\":null,\"intent\":[],\"isInfluential\":false,\"paperId\":\"00fa4c65cb3fb6de2cc30d8612a5136a75d1a469\",\"title\":\"Steps toward a model of linguistic performance\",\"url\":\"https://www.semanticscholar.org/paper/00fa4c65cb3fb6de2cc30d8612a5136a75d1a469\",\"venue\":\"\",\"year\":1967},{\"arxivId\":null,\"authors\":[{\"authorId\":\"47186095\",\"name\":\"Hamish Dewar\",\"url\":\"https://www.semanticscholar.org/author/47186095\"},{\"authorId\":\"1748193\",\"name\":\"Paul Bratley\",\"url\":\"https://www.semanticscholar.org/author/1748193\"},{\"authorId\":\"6904853\",\"name\":\"James Peter Thorne\",\"url\":\"https://www.semanticscholar.org/author/6904853\"}],\"doi\":\"10.1145/363196.363217\",\"intent\":[],\"isInfluential\":false,\"paperId\":\"476b5bed20d9698aeca40ee6eb8928c5b9097b5e\",\"title\":\"A program for the syntactic analysis of English sentences\",\"url\":\"https://www.semanticscholar.org/paper/476b5bed20d9698aeca40ee6eb8928c5b9097b5e\",\"venue\":\"CACM\",\"year\":1969},{\"arxivId\":null,\"authors\":[{\"authorId\":\"2523724\",\"name\":\"Milos Pacak\",\"url\":\"https://www.semanticscholar.org/author/2523724\"},{\"authorId\":\"69521001\",\"name\":\"Bozena Henisz\",\"url\":\"https://www.semanticscholar.org/author/69521001\"}],\"doi\":null,\"intent\":[],\"isInfluential\":false,\"paperId\":\"a85be57dca408f192f00d3bed5e895274a7a5be5\",\"title\":\"Homographs: Classification and Identification.\",\"url\":\"https://www.semanticscholar.org/paper/a85be57dca408f192f00d3bed5e895274a7a5be5\",\"venue\":\"\",\"year\":1968},{\"arxivId\":null,\"authors\":[{\"authorId\":\"2329142\",\"name\":\"Noam Chomsky\",\"url\":\"https://www.semanticscholar.org/author/2329142\"}],\"doi\":\"10.1515/9783110814231.11\",\"intent\":[],\"isInfluential\":false,\"paperId\":\"a341279eab673f136a1f3347eed49c3d3ef07820\",\"title\":\"Remarks On Nominalization\",\"url\":\"https://www.semanticscholar.org/paper/a341279eab673f136a1f3347eed49c3d3ef07820\",\"venue\":\"\",\"year\":1968},{\"arxivId\":null,\"authors\":[{\"authorId\":\"2641020\",\"name\":\"Arnold W. Pratt\",\"url\":\"https://www.semanticscholar.org/author/2641020\"},{\"authorId\":\"2523724\",\"name\":\"Milos Pacak\",\"url\":\"https://www.semanticscholar.org/author/2523724\"}],\"doi\":\"10.3115/990403.990414\",\"intent\":[],\"isInfluential\":false,\"paperId\":\"11a30e659eccbb1ab41b879cf9eadf81bf3f7355\",\"title\":\"Automated Processing of Medical English\",\"url\":\"https://www.semanticscholar.org/paper/11a30e659eccbb1ab41b879cf9eadf81bf3f7355\",\"venue\":\"COLING\",\"year\":1969},{\"arxivId\":null,\"authors\":[{\"authorId\":\"65848008\",\"name\":\"Robert P. Stockwell\",\"url\":\"https://www.semanticscholar.org/author/65848008\"},{\"authorId\":\"72531925\",\"name\":\"Paul Schacter\",\"url\":\"https://www.semanticscholar.org/author/72531925\"},{\"authorId\":\"39340971\",\"name\":\"Barbara H. Partee\",\"url\":\"https://www.semanticscholar.org/author/39340971\"}],\"doi\":\"10.2307/412040\",\"intent\":[],\"isInfluential\":false,\"paperId\":\"cddc68343a8659cf785d505ece0be84d9ec0e81f\",\"title\":\"INTEGRATION OF TRANSFORMATIONAL THEORIES ON ENGLISH SYNTAX\",\"url\":\"https://www.semanticscholar.org/paper/cddc68343a8659cf785d505ece0be84d9ec0e81f\",\"venue\":\"\",\"year\":1972},{\"arxivId\":null,\"authors\":[{\"authorId\":\"145433144\",\"name\":\"Charles Kellogg\",\"url\":\"https://www.semanticscholar.org/author/145433144\"}],\"doi\":\"10.1145/1476589.1476654\",\"intent\":[],\"isInfluential\":false,\"paperId\":\"eb233638ad0b99e3c66c636bef814ae94131ab5f\",\"title\":\"A natural language compiler for on-line data management\",\"url\":\"https://www.semanticscholar.org/paper/eb233638ad0b99e3c66c636bef814ae94131ab5f\",\"venue\":\"AFIPS '68 (Fall, part I)\",\"year\":1968},{\"arxivId\":null,\"authors\":[{\"authorId\":\"118017070\",\"name\":\"John M. Foster\",\"url\":\"https://www.semanticscholar.org/author/118017070\"}],\"doi\":\"10.2307/2005237\",\"intent\":[],\"isInfluential\":false,\"paperId\":\"c2ffc42a5d1bbe8570341fbd8ec87e7fa8bddcd6\",\"title\":\"Automatic Syntactic Analysis\",\"url\":\"https://www.semanticscholar.org/paper/c2ffc42a5d1bbe8570341fbd8ec87e7fa8bddcd6\",\"venue\":\"\",\"year\":1970},{\"arxivId\":null,\"authors\":[{\"authorId\":\"69967270\",\"name\":\"Uriel Weinreich\",\"url\":\"https://www.semanticscholar.org/author/69967270\"}],\"doi\":\"10.1515/9783110813142\",\"intent\":[],\"isInfluential\":false,\"paperId\":\"5471b37a1f22985c713bb9e2b7db3f581a0f1e43\",\"title\":\"Explorations In Semantic Theory\",\"url\":\"https://www.semanticscholar.org/paper/5471b37a1f22985c713bb9e2b7db3f581a0f1e43\",\"venue\":\"\",\"year\":1972},{\"arxivId\":null,\"authors\":[{\"authorId\":\"143745511\",\"name\":\"Robert F. Simmons\",\"url\":\"https://www.semanticscholar.org/author/143745511\"}],\"doi\":null,\"intent\":[],\"isInfluential\":false,\"paperId\":\"070ea838c5692e9fafe5f36bb4b125917097a8a6\",\"title\":\"Answering english questions by computer\",\"url\":\"https://www.semanticscholar.org/paper/070ea838c5692e9fafe5f36bb4b125917097a8a6\",\"venue\":\"\",\"year\":1967},{\"arxivId\":null,\"authors\":[{\"authorId\":\"46663124\",\"name\":\"Michael G. Otten\",\"url\":\"https://www.semanticscholar.org/author/46663124\"},{\"authorId\":\"2523724\",\"name\":\"Milos Pacak\",\"url\":\"https://www.semanticscholar.org/author/2523724\"}],\"doi\":\"10.1016/B978-0-12-696202-4.50014-0\",\"intent\":[],\"isInfluential\":false,\"paperId\":\"cde1b066900a848ef3f47d844d73368bdbcf278c\",\"title\":\"Intermediate Languages for Automatic Language Processing\",\"url\":\"https://www.semanticscholar.org/paper/cde1b066900a848ef3f47d844d73368bdbcf278c\",\"venue\":\"\",\"year\":1971},{\"arxivId\":null,\"authors\":[{\"authorId\":\"2796984\",\"name\":\"Ernst von Glasersfeld\",\"url\":\"https://www.semanticscholar.org/author/2796984\"},{\"authorId\":\"16622017\",\"name\":\"Pier Paolo Pisani\",\"url\":\"https://www.semanticscholar.org/author/16622017\"}],\"doi\":\"10.1145/362007.362026\",\"intent\":[],\"isInfluential\":false,\"paperId\":\"e78f6fcdc2f2ad86272ee413a21dbe0f5953ae50\",\"title\":\"The multistore parser for hierarchical syntactic structures\",\"url\":\"https://www.semanticscholar.org/paper/e78f6fcdc2f2ad86272ee413a21dbe0f5953ae50\",\"venue\":\"CACM\",\"year\":1970}],\"title\":\"The function of semantics in automated language processing\",\"topics\":[{\"topic\":\"SIMMON\",\"topicId\":\"3301504\",\"url\":\"https://www.semanticscholar.org/topic/3301504\"},{\"topic\":\"Semantic analysis (compilers)\",\"topicId\":\"529656\",\"url\":\"https://www.semanticscholar.org/topic/529656\"},{\"topic\":\"Lexicon\",\"topicId\":\"33018\",\"url\":\"https://www.semanticscholar.org/topic/33018\"},{\"topic\":\"Natural language processing\",\"topicId\":\"1914\",\"url\":\"https://www.semanticscholar.org/topic/1914\"}],\"url\":\"https://www.semanticscholar.org/paper/aa737f8682727e98b8815c1199ecca6f33f39895\",\"venue\":\"SIGIR '71\",\"year\":1971}\n",
            "\n",
            "Here\n",
            "{\"abstract\":\"Ambiguity is a pervasive and important aspect of natural language. Ambiguities, which are disambiguated by context, contribute powerfully to the expressiveness of natural language as compared to formal languages. In computational systems using natural language, problems of properly controlling ambiguity are particularly large, partially because of the necessity to circumvent parsings due to multiple orderings in the application of rules.Features, that is, subcategorizations of parts-of-speech, constitute an effective means for controlling syntactic ambiguity through ordering the hierarchical organization of syntactic constituents. This is the solution adopted for controlling ambiguity in REL English, which is part of the REL (Rapidly Extensible Language) System. REL is a total software system for facilitating man/machine communications. The efficiency of processing natural language in REL English is achieved both by the detailed syntactic aspects which are incorporated into the REL English grammar, and by means of the particular implementation for processing features in the parsing algorithm.\",\"arxivId\":null,\"authors\":[{\"authorId\":\"1401061734\",\"name\":\"Bozena Henisz-Dostert\",\"url\":\"https://www.semanticscholar.org/author/1401061734\"},{\"authorId\":\"3299116\",\"name\":\"Frederick B. Thompson\",\"url\":\"https://www.semanticscholar.org/author/3299116\"}],\"citationVelocity\":0,\"citations\":[{\"arxivId\":null,\"authors\":[{\"authorId\":\"2244184\",\"name\":\"Kenneth Ward Church\",\"url\":\"https://www.semanticscholar.org/author/2244184\"}],\"doi\":\"10.3115/981311.981329\",\"intent\":[],\"isInfluential\":false,\"paperId\":\"7b17d71d49739f08f5ed48dbd45f78fef1ba1ab0\",\"title\":\"A Finite-State Parser for Use in Speech Recognition\",\"url\":\"https://www.semanticscholar.org/paper/7b17d71d49739f08f5ed48dbd45f78fef1ba1ab0\",\"venue\":\"ACL\",\"year\":1983},{\"arxivId\":null,\"authors\":[{\"authorId\":\"2244184\",\"name\":\"Kenneth Ward Church\",\"url\":\"https://www.semanticscholar.org/author/2244184\"},{\"authorId\":\"34886242\",\"name\":\"Ramesh S. Patil\",\"url\":\"https://www.semanticscholar.org/author/34886242\"}],\"doi\":null,\"intent\":[],\"isInfluential\":false,\"paperId\":\"a0876f4589bd112e5b6e7c67580dc0ab8102ad83\",\"title\":\"Coping with Syntactic Ambiguity or How to Put the Block in the Box on the Table\",\"url\":\"https://www.semanticscholar.org/paper/a0876f4589bd112e5b6e7c67580dc0ab8102ad83\",\"venue\":\"American Journal of Computational Linguistics\",\"year\":1982},{\"arxivId\":null,\"authors\":[{\"authorId\":\"1777876\",\"name\":\"Jack Minker\",\"url\":\"https://www.semanticscholar.org/author/1777876\"}],\"doi\":\"10.1145/1095515.1095516\",\"intent\":[],\"isInfluential\":false,\"paperId\":\"28dd43a10b78cc6297081fb7b9be86e114894391\",\"title\":\"Information storage and retrieval: a survey and functional description\",\"url\":\"https://www.semanticscholar.org/paper/28dd43a10b78cc6297081fb7b9be86e114894391\",\"venue\":\"SIGF\",\"year\":1977},{\"arxivId\":null,\"authors\":[{\"authorId\":\"3190353\",\"name\":\"Leonard Bolc\",\"url\":\"https://www.semanticscholar.org/author/3190353\"}],\"doi\":\"10.1007/978-3-642-83030-3\",\"intent\":[],\"isInfluential\":false,\"paperId\":\"f50f760f9e424c3250a62d905ac14ae2773a3332\",\"title\":\"Natural Language Parsing Systems\",\"url\":\"https://www.semanticscholar.org/paper/f50f760f9e424c3250a62d905ac14ae2773a3332\",\"venue\":\"Symbolic Computation\",\"year\":1987}],\"corpusId\":6574474,\"doi\":\"10.1145/511285.511289\",\"fieldsOfStudy\":[\"Computer Science\"],\"influentialCitationCount\":0,\"is_open_access\":false,\"is_publisher_licensed\":true,\"paperId\":\"d2a9dfaa2e30b9afc86d75333898494d2dae955f\",\"references\":[{\"arxivId\":null,\"authors\":[{\"authorId\":\"1401061734\",\"name\":\"Bozena Henisz-Dostert\",\"url\":\"https://www.semanticscholar.org/author/1401061734\"},{\"authorId\":\"3299116\",\"name\":\"Frederick B. Thompson\",\"url\":\"https://www.semanticscholar.org/author/3299116\"}],\"doi\":null,\"intent\":[],\"isInfluential\":false,\"paperId\":\"8444ce1af42bd88e2c4c581f67f20efc65b3a1bf\",\"title\":\"A Rapidly Extensible Language System (Rel English)\",\"url\":\"https://www.semanticscholar.org/paper/8444ce1af42bd88e2c4c581f67f20efc65b3a1bf\",\"venue\":\"COLING\",\"year\":1969},{\"arxivId\":null,\"authors\":[{\"authorId\":\"2329142\",\"name\":\"Noam Chomsky\",\"url\":\"https://www.semanticscholar.org/author/2329142\"}],\"doi\":\"10.2307/2271232\",\"intent\":[],\"isInfluential\":false,\"paperId\":\"16c762445f11fa2020994918dc4f93e76264df17\",\"title\":\"Aspects of the Theory of Syntax\",\"url\":\"https://www.semanticscholar.org/paper/16c762445f11fa2020994918dc4f93e76264df17\",\"venue\":\"\",\"year\":1965},{\"arxivId\":null,\"authors\":[{\"authorId\":\"2012475\",\"name\":\"Gilbert Harman\",\"url\":\"https://www.semanticscholar.org/author/2012475\"}],\"doi\":\"10.2307/411954\",\"intent\":[],\"isInfluential\":false,\"paperId\":\"65f99804fca2dcf60802d5f588edaeea4a5c323a\",\"title\":\"Generative Grammars without Transformation Rules: A Defense of Phrase Structure\",\"url\":\"https://www.semanticscholar.org/paper/65f99804fca2dcf60802d5f588edaeea4a5c323a\",\"venue\":\"\",\"year\":1963},{\"arxivId\":null,\"authors\":[{\"authorId\":\"9079926\",\"name\":\"William A. Woods\",\"url\":\"https://www.semanticscholar.org/author/9079926\"}],\"doi\":\"10.1145/355598.362773\",\"intent\":[],\"isInfluential\":false,\"paperId\":\"09550accec47459a61fe1710a0a32c2ec22449bd\",\"title\":\"Transition network grammars for natural language analysis\",\"url\":\"https://www.semanticscholar.org/paper/09550accec47459a61fe1710a0a32c2ec22449bd\",\"venue\":\"CACM\",\"year\":1970},{\"arxivId\":null,\"authors\":[{\"authorId\":\"144954740\",\"name\":\"Jay Earley\",\"url\":\"https://www.semanticscholar.org/author/144954740\"}],\"doi\":null,\"intent\":[],\"isInfluential\":false,\"paperId\":\"645c0218de42eb8026b72afb470f852f2712436c\",\"title\":\"Generating a recognizer for a BNF grammar\",\"url\":\"https://www.semanticscholar.org/paper/645c0218de42eb8026b72afb470f852f2712436c\",\"venue\":\"\",\"year\":1965},{\"arxivId\":null,\"authors\":[{\"authorId\":\"145493610\",\"name\":\"Martin Kay\",\"url\":\"https://www.semanticscholar.org/author/145493610\"}],\"doi\":\"10.3115/991566.991575\",\"intent\":[],\"isInfluential\":false,\"paperId\":\"5c0f99e72bd539171a4dedcffd0e0a424ad3aad6\",\"title\":\"Experiments with a Powerful Parser\",\"url\":\"https://www.semanticscholar.org/paper/5c0f99e72bd539171a4dedcffd0e0a424ad3aad6\",\"venue\":\"COLING\",\"year\":1967},{\"arxivId\":null,\"authors\":[{\"authorId\":\"1746043\",\"name\":\"Peter C. Lockemann\",\"url\":\"https://www.semanticscholar.org/author/1746043\"},{\"authorId\":\"32568494\",\"name\":\"Fredrick B. Thompson\",\"url\":\"https://www.semanticscholar.org/author/32568494\"}],\"doi\":null,\"intent\":[],\"isInfluential\":false,\"paperId\":\"2c90c93e3b8b02e79839a09b5bb8978fd47e5a3a\",\"title\":\"A Rapidly Extensible Language System (The Rel Language Processor)\",\"url\":\"https://www.semanticscholar.org/paper/2c90c93e3b8b02e79839a09b5bb8978fd47e5a3a\",\"venue\":\"COLING\",\"year\":1969}],\"title\":\"How features resolve syntactic ambiguity\",\"topics\":[{\"topic\":\"Natural language\",\"topicId\":\"1911\",\"url\":\"https://www.semanticscholar.org/topic/1911\"},{\"topic\":\"Formal language\",\"topicId\":\"43444\",\"url\":\"https://www.semanticscholar.org/topic/43444\"},{\"topic\":\"Parsing\",\"topicId\":\"1910\",\"url\":\"https://www.semanticscholar.org/topic/1910\"},{\"topic\":\"Software system\",\"topicId\":\"79\",\"url\":\"https://www.semanticscholar.org/topic/79\"},{\"topic\":\"Algorithm\",\"topicId\":\"305\",\"url\":\"https://www.semanticscholar.org/topic/305\"},{\"topic\":\"Pervasive informatics\",\"topicId\":\"2408067\",\"url\":\"https://www.semanticscholar.org/topic/2408067\"},{\"topic\":\"Extensible programming\",\"topicId\":\"32183\",\"url\":\"https://www.semanticscholar.org/topic/32183\"}],\"url\":\"https://www.semanticscholar.org/paper/d2a9dfaa2e30b9afc86d75333898494d2dae955f\",\"venue\":\"SIGIR '71\",\"year\":1971}\n",
            "\n",
            "Here\n",
            "{\"abstract\":\"This paper presents an overview of research in progress in which the principal aim is the achievement of more natural and expressive modes of on-line communication with complexly structured data bases. A natural-language compiler has been constructed that accepts sentences in a user-extendable English subset, produces surface and deep-structure syntactic analyses, and uses a network of concepts to construct semantic interpretations formalized as computable procedures. The procedures are evaluated by a data management system that updates, modifies, and searches data bases that can be formalized as finite models of states of affairs. The system has been designed and programmed to handle large vocabularies and large collections of facts efficiently. Plans for extending the research vehicle to interface with a deductive inference component and a voice input-output effort are briefly described.\",\"arxivId\":null,\"authors\":[{\"authorId\":\"145433144\",\"name\":\"Charles Kellogg\",\"url\":\"https://www.semanticscholar.org/author/145433144\"},{\"authorId\":\"5416402\",\"name\":\"John D. Burger\",\"url\":\"https://www.semanticscholar.org/author/5416402\"},{\"authorId\":\"40189470\",\"name\":\"Timothy Diller\",\"url\":\"https://www.semanticscholar.org/author/40189470\"},{\"authorId\":\"33349506\",\"name\":\"Kenneth Fogt\",\"url\":\"https://www.semanticscholar.org/author/33349506\"}],\"citationVelocity\":0,\"citations\":[{\"arxivId\":null,\"authors\":[{\"authorId\":\"1728099\",\"name\":\"Stanley Y. W. Su\",\"url\":\"https://www.semanticscholar.org/author/1728099\"},{\"authorId\":\"145060421\",\"name\":\"George P. Copeland\",\"url\":\"https://www.semanticscholar.org/author/145060421\"},{\"authorId\":\"1791415\",\"name\":\"G. Jack Lipovski\",\"url\":\"https://www.semanticscholar.org/author/1791415\"}],\"doi\":\"10.1145/951762.951775\",\"intent\":[],\"isInfluential\":false,\"paperId\":\"5abb297bbb8432b7b456ccf3b68d8c49646bd674\",\"title\":\"Retrieval Operations and Data Representations in a Context-Addressed Disc System\",\"url\":\"https://www.semanticscholar.org/paper/5abb297bbb8432b7b456ccf3b68d8c49646bd674\",\"venue\":\"SIGIR\",\"year\":1973},{\"arxivId\":null,\"authors\":[{\"authorId\":\"1750566\",\"name\":\"John Mylopoulos\",\"url\":\"https://www.semanticscholar.org/author/1750566\"},{\"authorId\":\"2395791\",\"name\":\"Stewart A. Schuster\",\"url\":\"https://www.semanticscholar.org/author/2395791\"},{\"authorId\":\"145970924\",\"name\":\"Dennis Tsichritzis\",\"url\":\"https://www.semanticscholar.org/author/145970924\"}],\"doi\":\"10.1145/1499949.1500028\",\"intent\":[],\"isInfluential\":false,\"paperId\":\"7ec642a8dd038eece16cc63988b0daf74e83b576\",\"title\":\"A multi-level relational system\",\"url\":\"https://www.semanticscholar.org/paper/7ec642a8dd038eece16cc63988b0daf74e83b576\",\"venue\":\"AFIPS '75\",\"year\":1975},{\"arxivId\":null,\"authors\":[{\"authorId\":\"97702983\",\"name\":\"Malcolm P. Atkinson\",\"url\":\"https://www.semanticscholar.org/author/97702983\"}],\"doi\":\"10.1108/eb026673\",\"intent\":[],\"isInfluential\":false,\"paperId\":\"4b9458e9e75e121637973126a64077dbe199592c\",\"title\":\"Progress in Documentation: Database Systems\",\"url\":\"https://www.semanticscholar.org/paper/4b9458e9e75e121637973126a64077dbe199592c\",\"venue\":\"Journal of Documentation\",\"year\":1979},{\"arxivId\":null,\"authors\":[{\"authorId\":\"1777876\",\"name\":\"Jack Minker\",\"url\":\"https://www.semanticscholar.org/author/1777876\"}],\"doi\":\"10.1145/1095515.1095516\",\"intent\":[],\"isInfluential\":false,\"paperId\":\"28dd43a10b78cc6297081fb7b9be86e114894391\",\"title\":\"Information storage and retrieval: a survey and functional description\",\"url\":\"https://www.semanticscholar.org/paper/28dd43a10b78cc6297081fb7b9be86e114894391\",\"venue\":\"SIGF\",\"year\":1977},{\"arxivId\":null,\"authors\":[{\"authorId\":\"145433144\",\"name\":\"Charles Kellogg\",\"url\":\"https://www.semanticscholar.org/author/145433144\"},{\"authorId\":\"2764555\",\"name\":\"Philip Klahr\",\"url\":\"https://www.semanticscholar.org/author/2764555\"},{\"authorId\":\"144363916\",\"name\":\"Larry Travis\",\"url\":\"https://www.semanticscholar.org/author/144363916\"}],\"doi\":null,\"intent\":[],\"isInfluential\":false,\"paperId\":\"bf858dfe4f97b96d4d23ba2ee4852650871aedfc\",\"title\":\"Deductive Methods for Large Data Bases\",\"url\":\"https://www.semanticscholar.org/paper/bf858dfe4f97b96d4d23ba2ee4852650871aedfc\",\"venue\":\"IJCAI\",\"year\":1977},{\"arxivId\":null,\"authors\":[{\"authorId\":\"1728099\",\"name\":\"Stanley Y. W. Su\",\"url\":\"https://www.semanticscholar.org/author/1728099\"},{\"authorId\":\"145975886\",\"name\":\"Ahmed Emam\",\"url\":\"https://www.semanticscholar.org/author/145975886\"}],\"doi\":\"10.1145/320241.320246\",\"intent\":[],\"isInfluential\":false,\"paperId\":\"06b6b92fa0d4c4c1453af538b639622a62de4d96\",\"title\":\"CASDAL: <italic>CAS</italic>SM's <italic>DA</italic>ta <italic>L</italic>anguage\",\"url\":\"https://www.semanticscholar.org/paper/06b6b92fa0d4c4c1453af538b639622a62de4d96\",\"venue\":\"TODS\",\"year\":1978},{\"arxivId\":null,\"authors\":[{\"authorId\":\"146585844\",\"name\":\"Eisman Cabeza\",\"url\":\"https://www.semanticscholar.org/author/146585844\"},{\"authorId\":\"74966202\",\"name\":\"Eduardo Gando Manuel\",\"url\":\"https://www.semanticscholar.org/author/74966202\"}],\"doi\":null,\"intent\":[\"methodology\"],\"isInfluential\":false,\"paperId\":\"bb8df7a46305480d8428e7b435ee1b4328f2c2b8\",\"title\":\"Emotions, conversational systems and heterogeneous data sources\",\"url\":\"https://www.semanticscholar.org/paper/bb8df7a46305480d8428e7b435ee1b4328f2c2b8\",\"venue\":\"\",\"year\":2015},{\"arxivId\":null,\"authors\":[{\"authorId\":\"1410808374\",\"name\":\"A. L.\",\"url\":\"https://www.semanticscholar.org/author/1410808374\"}],\"doi\":null,\"intent\":[],\"isInfluential\":false,\"paperId\":\"ebb37375c8c9358401d1c1c1c7bdd1b75c179dc2\",\"title\":\"PRUF a meaning representation language for natural languages\",\"url\":\"https://www.semanticscholar.org/paper/ebb37375c8c9358401d1c1c1c7bdd1b75c179dc2\",\"venue\":\"\",\"year\":2008},{\"arxivId\":null,\"authors\":[{\"authorId\":\"1750566\",\"name\":\"John Mylopoulos\",\"url\":\"https://www.semanticscholar.org/author/1750566\"}],\"doi\":null,\"intent\":[],\"isInfluential\":false,\"paperId\":\"bf6d299619c7a4ce81023bf2cd75c730a25ce5a1\",\"title\":\"TORUS - A Natural Language Understanding System For Data Management\",\"url\":\"https://www.semanticscholar.org/paper/bf6d299619c7a4ce81023bf2cd75c730a25ce5a1\",\"venue\":\"IJCAI\",\"year\":1975},{\"arxivId\":null,\"authors\":[{\"authorId\":\"2764900\",\"name\":\"Jonathan J. King\",\"url\":\"https://www.semanticscholar.org/author/2764900\"}],\"doi\":\"10.1145/1056643.1056646\",\"intent\":[],\"isInfluential\":false,\"paperId\":\"e86871bb0dafbb1e3433f0802b9655b1a5cad0b8\",\"title\":\"Special issue on AI and Database research\",\"url\":\"https://www.semanticscholar.org/paper/e86871bb0dafbb1e3433f0802b9655b1a5cad0b8\",\"venue\":\"SGAR\",\"year\":1983}],\"corpusId\":10172580,\"doi\":\"10.1145/511285.511290\",\"fieldsOfStudy\":[\"Computer Science\"],\"influentialCitationCount\":0,\"is_open_access\":false,\"is_publisher_licensed\":true,\"paperId\":\"98aa9dd34888daa3951739c4befd153be7986e4e\",\"references\":[{\"arxivId\":null,\"authors\":[{\"authorId\":\"9079926\",\"name\":\"William A. Woods\",\"url\":\"https://www.semanticscholar.org/author/9079926\"}],\"doi\":\"10.1145/355598.362773\",\"intent\":[],\"isInfluential\":false,\"paperId\":\"09550accec47459a61fe1710a0a32c2ec22449bd\",\"title\":\"Transition network grammars for natural language analysis\",\"url\":\"https://www.semanticscholar.org/paper/09550accec47459a61fe1710a0a32c2ec22449bd\",\"venue\":\"CACM\",\"year\":1970},{\"arxivId\":null,\"authors\":[{\"authorId\":\"16671694\",\"name\":\"Roger E. Levien\",\"url\":\"https://www.semanticscholar.org/author/16671694\"},{\"authorId\":\"144864352\",\"name\":\"M. E. Maron\",\"url\":\"https://www.semanticscholar.org/author/144864352\"}],\"doi\":null,\"intent\":[],\"isInfluential\":false,\"paperId\":\"8c8dcd8c48b39dfe66f9baf15e02a687c51e14b6\",\"title\":\"Relational Data File: A Tool for Mechanized Inference Execution and Data Retrieval\",\"url\":\"https://www.semanticscholar.org/paper/8c8dcd8c48b39dfe66f9baf15e02a687c51e14b6\",\"venue\":\"\",\"year\":1965},{\"arxivId\":null,\"authors\":[{\"authorId\":\"50100008\",\"name\":\"W. L. Ash\",\"url\":\"https://www.semanticscholar.org/author/50100008\"},{\"authorId\":\"1887562\",\"name\":\"Edgar H. Sibley\",\"url\":\"https://www.semanticscholar.org/author/1887562\"}],\"doi\":\"10.1145/800186.810576\",\"intent\":[],\"isInfluential\":false,\"paperId\":\"fd593f8a787d734c5872046eed158af00e99b380\",\"title\":\"Tramp: An interpretive associative processor with deductive capabilities\",\"url\":\"https://www.semanticscholar.org/paper/fd593f8a787d734c5872046eed158af00e99b380\",\"venue\":\"ACM '68\",\"year\":1968},{\"arxivId\":null,\"authors\":[{\"authorId\":\"65848008\",\"name\":\"Robert P. Stockwell\",\"url\":\"https://www.semanticscholar.org/author/65848008\"},{\"authorId\":\"72531925\",\"name\":\"Paul Schacter\",\"url\":\"https://www.semanticscholar.org/author/72531925\"},{\"authorId\":\"39340971\",\"name\":\"Barbara H. Partee\",\"url\":\"https://www.semanticscholar.org/author/39340971\"}],\"doi\":\"10.2307/412040\",\"intent\":[],\"isInfluential\":false,\"paperId\":\"cddc68343a8659cf785d505ece0be84d9ec0e81f\",\"title\":\"INTEGRATION OF TRANSFORMATIONAL THEORIES ON ENGLISH SYNTAX\",\"url\":\"https://www.semanticscholar.org/paper/cddc68343a8659cf785d505ece0be84d9ec0e81f\",\"venue\":\"\",\"year\":1972},{\"arxivId\":null,\"authors\":[{\"authorId\":\"145433144\",\"name\":\"Charles Kellogg\",\"url\":\"https://www.semanticscholar.org/author/145433144\"}],\"doi\":\"10.1145/1476589.1476654\",\"intent\":[],\"isInfluential\":false,\"paperId\":\"eb233638ad0b99e3c66c636bef814ae94131ab5f\",\"title\":\"A natural language compiler for on-line data management\",\"url\":\"https://www.semanticscholar.org/paper/eb233638ad0b99e3c66c636bef814ae94131ab5f\",\"venue\":\"AFIPS '68 (Fall, part I)\",\"year\":1968},{\"arxivId\":null,\"authors\":[{\"authorId\":\"145493610\",\"name\":\"Martin Kay\",\"url\":\"https://www.semanticscholar.org/author/145493610\"}],\"doi\":\"10.3115/991566.991575\",\"intent\":[],\"isInfluential\":false,\"paperId\":\"5c0f99e72bd539171a4dedcffd0e0a424ad3aad6\",\"title\":\"Experiments with a Powerful Parser\",\"url\":\"https://www.semanticscholar.org/paper/5c0f99e72bd539171a4dedcffd0e0a424ad3aad6\",\"venue\":\"COLING\",\"year\":1967}],\"title\":\"The converse natural language data management system: current status and plans\",\"topics\":[{\"topic\":\"Database\",\"topicId\":\"1307\",\"url\":\"https://www.semanticscholar.org/topic/1307\"},{\"topic\":\"Natural language\",\"topicId\":\"1911\",\"url\":\"https://www.semanticscholar.org/topic/1911\"},{\"topic\":\"Management system\",\"topicId\":\"1310\",\"url\":\"https://www.semanticscholar.org/topic/1310\"},{\"topic\":\"Compiler\",\"topicId\":\"13817\",\"url\":\"https://www.semanticscholar.org/topic/13817\"},{\"topic\":\"Vocabulary\",\"topicId\":\"14901\",\"url\":\"https://www.semanticscholar.org/topic/14901\"},{\"topic\":\"Extensibility\",\"topicId\":\"6036\",\"url\":\"https://www.semanticscholar.org/topic/6036\"},{\"topic\":\"Computable function\",\"topicId\":\"39979\",\"url\":\"https://www.semanticscholar.org/topic/39979\"},{\"topic\":\"Online and offline\",\"topicId\":\"12094\",\"url\":\"https://www.semanticscholar.org/topic/12094\"},{\"topic\":\"Input/output\",\"topicId\":\"8197\",\"url\":\"https://www.semanticscholar.org/topic/8197\"}],\"url\":\"https://www.semanticscholar.org/paper/98aa9dd34888daa3951739c4befd153be7986e4e\",\"venue\":\"SIGIR '71\",\"year\":1971}\n",
            "\n",
            "Here\n",
            "{\"abstract\":\"CUE, an input interface system which permits the computer to utilize natural but restricted English as input, is presented. In addition, an experimental model for CUE, Proto-RELADES, which can \\\"understand\\\" and execute English sentences about the content of the library at IBM's Boston Programming Center is described. These sentences can be query, command, or conditional sentences. The linguistic component of the system is based on a transformational grammar of English that performs a full syntactic and semantic analysis of each input sentence and translates it into relevant computer operations. The capabilities and limitations of this system are described.\",\"arxivId\":null,\"authors\":[{\"authorId\":\"2616848\",\"name\":\"David B. Loveman\",\"url\":\"https://www.semanticscholar.org/author/2616848\"},{\"authorId\":\"35022826\",\"name\":\"John A. Moyne\",\"url\":\"https://www.semanticscholar.org/author/35022826\"},{\"authorId\":\"32215674\",\"name\":\"Robert G. Tobey\",\"url\":\"https://www.semanticscholar.org/author/32215674\"}],\"citationVelocity\":0,\"citations\":[{\"arxivId\":null,\"authors\":[{\"authorId\":\"35022826\",\"name\":\"John A. Moyne\",\"url\":\"https://www.semanticscholar.org/author/35022826\"}],\"doi\":\"10.1007/BF00998326\",\"intent\":[],\"isInfluential\":false,\"paperId\":\"393a9de965783f2c0f42b82db47321df10402472\",\"title\":\"Simple-english for data base communication\",\"url\":\"https://www.semanticscholar.org/paper/393a9de965783f2c0f42b82db47321df10402472\",\"venue\":\"International Journal of Computer & Information Sciences\",\"year\":1977},{\"arxivId\":null,\"authors\":[{\"authorId\":\"1777876\",\"name\":\"Jack Minker\",\"url\":\"https://www.semanticscholar.org/author/1777876\"}],\"doi\":\"10.1145/1095515.1095516\",\"intent\":[],\"isInfluential\":false,\"paperId\":\"28dd43a10b78cc6297081fb7b9be86e114894391\",\"title\":\"Information storage and retrieval: a survey and functional description\",\"url\":\"https://www.semanticscholar.org/paper/28dd43a10b78cc6297081fb7b9be86e114894391\",\"venue\":\"SIGF\",\"year\":1977},{\"arxivId\":null,\"authors\":[{\"authorId\":\"153202203\",\"name\":\"T. J. Watson\",\"url\":\"https://www.semanticscholar.org/author/153202203\"}],\"doi\":null,\"intent\":[],\"isInfluential\":false,\"paperId\":\"9adfcf5dcd5c66b215192aba9efc98b138c8e944\",\"title\":\"Syntactic Analysis for Transformational Grammars by S. R. Petrick IBM\",\"url\":\"https://www.semanticscholar.org/paper/9adfcf5dcd5c66b215192aba9efc98b138c8e944\",\"venue\":\"\",\"year\":2012},{\"arxivId\":null,\"authors\":[{\"authorId\":\"144077820\",\"name\":\"J. A. Moyne\",\"url\":\"https://www.semanticscholar.org/author/144077820\"}],\"doi\":\"10.1007/BF01417938\",\"intent\":[],\"isInfluential\":false,\"paperId\":\"ad58d22456afa69041cea030f9a642c71e9fa8d5\",\"title\":\"Language use: A performance model\",\"url\":\"https://www.semanticscholar.org/paper/ad58d22456afa69041cea030f9a642c71e9fa8d5\",\"venue\":\"International Journal of Computer & Information Sciences\",\"year\":1980}],\"corpusId\":2134806,\"doi\":\"10.1145/511285.511292\",\"fieldsOfStudy\":[\"Computer Science\"],\"influentialCitationCount\":0,\"is_open_access\":false,\"is_publisher_licensed\":true,\"paperId\":\"8c09574d80b3ce6b260e7978fc23de78fa46f484\",\"references\":[{\"arxivId\":null,\"authors\":[{\"authorId\":\"1753394\",\"name\":\"Daniel G. Bobrow\",\"url\":\"https://www.semanticscholar.org/author/1753394\"}],\"doi\":\"10.1145/1464052.1464108\",\"intent\":[],\"isInfluential\":false,\"paperId\":\"56b46699e2f38d28bbc5619f81333dc20f4f2172\",\"title\":\"A question-answering system for high school algebra word problems\",\"url\":\"https://www.semanticscholar.org/paper/56b46699e2f38d28bbc5619f81333dc20f4f2172\",\"venue\":\"AFIPS '64 (Fall, part I)\",\"year\":1964}],\"title\":\"CUE: a preprocessor system for restricted, natural English\",\"topics\":[{\"topic\":\"Preprocessor\",\"topicId\":\"7291\",\"url\":\"https://www.semanticscholar.org/topic/7291\"},{\"topic\":\"Transformational grammar\",\"topicId\":\"275553\",\"url\":\"https://www.semanticscholar.org/topic/275553\"},{\"topic\":\"Input device\",\"topicId\":\"41970\",\"url\":\"https://www.semanticscholar.org/topic/41970\"}],\"url\":\"https://www.semanticscholar.org/paper/8c09574d80b3ce6b260e7978fc23de78fa46f484\",\"venue\":\"SIGIR '71\",\"year\":1971}\n",
            "\n",
            "Here\n",
            "{\"abstract\":\"A full text retrieval system was designed for the responsa literature, which is a large corpus of Hebrew legal cases. The unique problems of the data base --- mixture of Hebrew, Aramaic and vernaculars, lack of vowels and punctuation, extreme language inflection problems, homographs, existence of thousands of grammatical variants of any given keyword --- dictated development of new methods. Among them we list \\\"grammatical synthesis\\\", which synthesizes all grammatical variants of a given keyword; \\\"Compact KWIC\\\", which enables the user to have a glimpse of the nature of the search before having performed it; effective citation index imbedded in full text searches; and, in general, extensive use of both positive and negative feedback within a single search run. A number of searches performed on a relatively small data base gave in each case a recall of 100%. The average precision was 34%. A KWIC of strategic portions of retrieved documents usually enables a quick disposal of non-relevant material.\",\"arxivId\":null,\"authors\":[{\"authorId\":\"2742115\",\"name\":\"Yaacov Choueka\",\"url\":\"https://www.semanticscholar.org/author/2742115\"},{\"authorId\":\"153291948\",\"name\":\"M. Cohen\",\"url\":\"https://www.semanticscholar.org/author/153291948\"},{\"authorId\":\"143893910\",\"name\":\"J. Dueck\",\"url\":\"https://www.semanticscholar.org/author/143893910\"},{\"authorId\":\"1793371\",\"name\":\"Aviezri S. Fraenkel\",\"url\":\"https://www.semanticscholar.org/author/1793371\"},{\"authorId\":\"48716524\",\"name\":\"M. Slae\",\"url\":\"https://www.semanticscholar.org/author/48716524\"}],\"citationVelocity\":0,\"citations\":[{\"arxivId\":null,\"authors\":[{\"authorId\":\"144495560\",\"name\":\"R. Attar\",\"url\":\"https://www.semanticscholar.org/author/144495560\"},{\"authorId\":\"1793371\",\"name\":\"Aviezri S. Fraenkel\",\"url\":\"https://www.semanticscholar.org/author/1793371\"}],\"doi\":\"10.1145/322017.322021\",\"intent\":[],\"isInfluential\":false,\"paperId\":\"9384f7812fec87a41938ae28fe19c8f65f555c97\",\"title\":\"Local Feedback in Full-Text Retrieval Systems\",\"url\":\"https://www.semanticscholar.org/paper/9384f7812fec87a41938ae28fe19c8f65f555c97\",\"venue\":\"JACM\",\"year\":1977},{\"arxivId\":null,\"authors\":[{\"authorId\":\"1739809\",\"name\":\"Steven Orla Kimbrough\",\"url\":\"https://www.semanticscholar.org/author/1739809\"},{\"authorId\":\"39945988\",\"name\":\"Thomas Y. Lee\",\"url\":\"https://www.semanticscholar.org/author/39945988\"},{\"authorId\":\"1997659\",\"name\":\"Balaji Padmanabhan\",\"url\":\"https://www.semanticscholar.org/author/1997659\"},{\"authorId\":\"38049168\",\"name\":\"Yinghui Yang\",\"url\":\"https://www.semanticscholar.org/author/38049168\"}],\"doi\":\"10.1145/1047788.1047826\",\"intent\":[\"background\"],\"isInfluential\":false,\"paperId\":\"07f0fbfcdc3b6ae91e755e6731a2723fcdefacbe\",\"title\":\"On original generation of structure in legal documents\",\"url\":\"https://www.semanticscholar.org/paper/07f0fbfcdc3b6ae91e755e6731a2723fcdefacbe\",\"venue\":\"ICAIL\",\"year\":2003},{\"arxivId\":null,\"authors\":[{\"authorId\":\"1802622\",\"name\":\"Ephraim Nissan\",\"url\":\"https://www.semanticscholar.org/author/1802622\"},{\"authorId\":\"1401813543\",\"name\":\"Yaakov HaCohen-Kerner\",\"url\":\"https://www.semanticscholar.org/author/1401813543\"}],\"doi\":\"10.5220/0003688304870492\",\"intent\":[\"methodology\"],\"isInfluential\":false,\"paperId\":\"95d97e2e87103d10ca0c2ef0a2384f76e0aa6355\",\"title\":\"Information Retrieval in the Service of Generating Narrative Explanation - What we Want from Gallura\",\"url\":\"https://www.semanticscholar.org/paper/95d97e2e87103d10ca0c2ef0a2384f76e0aa6355\",\"venue\":\"KDIR\",\"year\":2011},{\"arxivId\":null,\"authors\":[{\"authorId\":\"1802622\",\"name\":\"Ephraim Nissan\",\"url\":\"https://www.semanticscholar.org/author/1802622\"}],\"doi\":\"10.1007/s00146-015-0596-5\",\"intent\":[\"background\"],\"isInfluential\":false,\"paperId\":\"8842adb29e258f08f84482d3167898e22afac84d\",\"title\":\"Digital technologies and artificial intelligence\\u2019s present and foreseeable impact on lawyering, judging, policing and law enforcement\",\"url\":\"https://www.semanticscholar.org/paper/8842adb29e258f08f84482d3167898e22afac84d\",\"venue\":\"AI & SOCIETY\",\"year\":2015},{\"arxivId\":null,\"authors\":[{\"authorId\":\"2815869\",\"name\":\"Yair Wiseman\",\"url\":\"https://www.semanticscholar.org/author/2815869\"},{\"authorId\":\"3233177\",\"name\":\"Irit Gefner\",\"url\":\"https://www.semanticscholar.org/author/3233177\"}],\"doi\":\"10.1145/1227850.1227854\",\"intent\":[\"background\"],\"isInfluential\":false,\"paperId\":\"70180db4cf2e3ddbeb0b8f66e991c0ad7b7a0ff5\",\"title\":\"Conjugation-based compression for Hebrew texts\",\"url\":\"https://www.semanticscholar.org/paper/70180db4cf2e3ddbeb0b8f66e991c0ad7b7a0ff5\",\"venue\":\"TALIP\",\"year\":2007},{\"arxivId\":null,\"authors\":[{\"authorId\":\"1759551\",\"name\":\"Nachum Dershowitz\",\"url\":\"https://www.semanticscholar.org/author/1759551\"},{\"authorId\":\"1802622\",\"name\":\"Ephraim Nissan\",\"url\":\"https://www.semanticscholar.org/author/1802622\"}],\"doi\":\"10.1007/978-3-642-45321-2_2\",\"intent\":[],\"isInfluential\":false,\"paperId\":\"92eb85c80896be6488458204dac2fd4db792e2a9\",\"title\":\"Yaacov Choueka: A Profile\",\"url\":\"https://www.semanticscholar.org/paper/92eb85c80896be6488458204dac2fd4db792e2a9\",\"venue\":\"Language, Culture, Computation\",\"year\":2014},{\"arxivId\":null,\"authors\":[{\"authorId\":\"2742115\",\"name\":\"Yaacov Choueka\",\"url\":\"https://www.semanticscholar.org/author/2742115\"}],\"doi\":\"10.37236/1599\",\"intent\":[\"background\"],\"isInfluential\":false,\"paperId\":\"b845b421700d6d6e5ba383e66a6a82d072fee136\",\"title\":\"Aviezri Fraenkel's Work in Information Retrieval and Related Areas\",\"url\":\"https://www.semanticscholar.org/paper/b845b421700d6d6e5ba383e66a6a82d072fee136\",\"venue\":\"Electr. J. Comb.\",\"year\":2001},{\"arxivId\":null,\"authors\":[{\"authorId\":\"2742115\",\"name\":\"Yaacov Choueka\",\"url\":\"https://www.semanticscholar.org/author/2742115\"}],\"doi\":null,\"intent\":[\"background\"],\"isInfluential\":false,\"paperId\":\"3de6e2fac2a94e5c3800d91559964802f8141ed3\",\"title\":\"Against all Odds: The Amazing but Most True Story of Aviezri Fraenkel and his Special Favorite: The Responsa Project or The Multi-Faceted Contributions of Aviezri Fraenkel to Information Retrieval and the Related Areas\",\"url\":\"https://www.semanticscholar.org/paper/3de6e2fac2a94e5c3800d91559964802f8141ed3\",\"venue\":\"\",\"year\":2001}],\"corpusId\":18467603,\"doi\":\"10.1145/511285.511293\",\"fieldsOfStudy\":[\"Computer Science\"],\"influentialCitationCount\":0,\"is_open_access\":false,\"is_publisher_licensed\":true,\"paperId\":\"a9e4b03f8ec0a67d0fa7bcdbe49cb00ab5dda466\",\"references\":[{\"arxivId\":null,\"authors\":[{\"authorId\":\"13820562\",\"name\":\"Michael E. Senko\",\"url\":\"https://www.semanticscholar.org/author/13820562\"}],\"doi\":\"10.1007/978-1-4899-5841-9_4\",\"intent\":[],\"isInfluential\":false,\"paperId\":\"5a609cac36e25358713e36b60aa5c549fdaf8418\",\"title\":\"Information Storage and Retrieval Systems\",\"url\":\"https://www.semanticscholar.org/paper/5a609cac36e25358713e36b60aa5c549fdaf8418\",\"venue\":\"\",\"year\":1969},{\"arxivId\":null,\"authors\":[{\"authorId\":\"71792878\",\"name\":\"John L. Bennelt\",\"url\":\"https://www.semanticscholar.org/author/71792878\"}],\"doi\":\"10.1002/asi.4630200306\",\"intent\":[],\"isInfluential\":false,\"paperId\":\"2638ce63bd8fb715af9f18e431007fbecf0d7c2e\",\"title\":\"On\\u2010line access to information: NSF as an aid to the indexer/cataloger\",\"url\":\"https://www.semanticscholar.org/paper/2638ce63bd8fb715af9f18e431007fbecf0d7c2e\",\"venue\":\"\",\"year\":1969},{\"arxivId\":null,\"authors\":[{\"authorId\":\"69885216\",\"name\":\"William Butler Eldridge\",\"url\":\"https://www.semanticscholar.org/author/69885216\"},{\"authorId\":\"145285362\",\"name\":\"S. F. Dennis\",\"url\":\"https://www.semanticscholar.org/author/145285362\"}],\"doi\":\"10.2307/1190725\",\"intent\":[],\"isInfluential\":false,\"paperId\":\"454c93059b8a6146d3bf6a1b8580b7192a88ca10\",\"title\":\"The Computer as a Tool for Legal Research\",\"url\":\"https://www.semanticscholar.org/paper/454c93059b8a6146d3bf6a1b8580b7192a88ca10\",\"venue\":\"\",\"year\":1963},{\"arxivId\":null,\"authors\":[{\"authorId\":\"144910421\",\"name\":\"Robert A. Wilson\",\"url\":\"https://www.semanticscholar.org/author/144910421\"}],\"doi\":null,\"intent\":[],\"isInfluential\":false,\"paperId\":\"5df51191b25a5d5a3ee1678be8b738bd6ef82c4a\",\"title\":\"Computer Retrieval of Case Law\",\"url\":\"https://www.semanticscholar.org/paper/5df51191b25a5d5a3ee1678be8b738bd6ef82c4a\",\"venue\":\"\",\"year\":1962},{\"arxivId\":null,\"authors\":[{\"authorId\":\"1793371\",\"name\":\"Aviezri S. Fraenkel\",\"url\":\"https://www.semanticscholar.org/author/1793371\"}],\"doi\":\"10.1016/S0065-2458(08)60312-5\",\"intent\":[],\"isInfluential\":false,\"paperId\":\"99a18cfa0b0d78226e698ca17d3f8e80051c9cd1\",\"title\":\"Legal Information Retrieval\",\"url\":\"https://www.semanticscholar.org/paper/99a18cfa0b0d78226e698ca17d3f8e80051c9cd1\",\"venue\":\"Advances in Computers\",\"year\":1968}],\"title\":\"Full text document retrieval: Hebrew legal texts (report on the first phase of the responsa retrieval project)\",\"topics\":[{\"topic\":\"Document retrieval\",\"topicId\":\"14824\",\"url\":\"https://www.semanticscholar.org/topic/14824\"},{\"topic\":\"Key Word in Context\",\"topicId\":\"22183\",\"url\":\"https://www.semanticscholar.org/topic/22183\"},{\"topic\":\"Information retrieval\",\"topicId\":\"2867\",\"url\":\"https://www.semanticscholar.org/topic/2867\"},{\"topic\":\"Database\",\"topicId\":\"1307\",\"url\":\"https://www.semanticscholar.org/topic/1307\"},{\"topic\":\"Text corpus\",\"topicId\":\"14829\",\"url\":\"https://www.semanticscholar.org/topic/14829\"},{\"topic\":\"Negative feedback\",\"topicId\":\"47720\",\"url\":\"https://www.semanticscholar.org/topic/47720\"}],\"url\":\"https://www.semanticscholar.org/paper/a9e4b03f8ec0a67d0fa7bcdbe49cb00ab5dda466\",\"venue\":\"SIGIR '71\",\"year\":1971}\n",
            "\n",
            "Here\n",
            "{\"abstract\":\"Questions which involve 'all', 'every', 'some', or the indefinite article, pose some peculiar problems when presented to a computerized question-answering system where ambiguities cannot be tolerated. These problems vary from the nature of the correct answer in special cases to the very admissibility of the question itself. To deal with these problems it is convenient to divide questions into two classes---extensional questions whose answers are to name things or truth values, intensional questions whose answers are to give meanings. This paper examines extensional questions. For these, the interpretative problems arising with 'all' and 'every' can be solved by introducing a new kind of quantification, extensional universal quantification, that has the meaning of 'all F' together with a secondary meaning that the class F is not empty. Formal rules for this quantification are given, and it is shown that the so-called definite formulas (which explicate permissible queries) are closed under the new operator.\",\"arxivId\":null,\"authors\":[{\"authorId\":\"144780353\",\"name\":\"J. L. Kuhn\",\"url\":\"https://www.semanticscholar.org/author/144780353\"}],\"citationVelocity\":0,\"citations\":[],\"corpusId\":9094912,\"doi\":\"10.1145/511285.511295\",\"fieldsOfStudy\":[\"Computer Science\"],\"influentialCitationCount\":0,\"is_open_access\":false,\"is_publisher_licensed\":true,\"paperId\":\"4fc66764301c05d39ec5bfd80221873272070598\",\"references\":[{\"arxivId\":null,\"authors\":[{\"authorId\":\"50601014\",\"name\":\"Asa Kasher\",\"url\":\"https://www.semanticscholar.org/author/50601014\"}],\"doi\":null,\"intent\":[],\"isInfluential\":false,\"paperId\":\"77fe5dac8097cc44937887209e7d1532b26d50a5\",\"title\":\"DATA RETRIEVAL BY COMPUTER. A CRITICAL SURVEY.\",\"url\":\"https://www.semanticscholar.org/paper/77fe5dac8097cc44937887209e7d1532b26d50a5\",\"venue\":\"\",\"year\":1966},{\"arxivId\":null,\"authors\":[{\"authorId\":\"3154491\",\"name\":\"Alfred Tarski\",\"url\":\"https://www.semanticscholar.org/author/3154491\"}],\"doi\":\"10.2307/2268577\",\"intent\":[],\"isInfluential\":false,\"paperId\":\"ab4cf6665354433188ea836dc6f65392b5e45fa0\",\"title\":\"On the Calculus of Relations\",\"url\":\"https://www.semanticscholar.org/paper/ab4cf6665354433188ea836dc6f65392b5e45fa0\",\"venue\":\"J. Symb. Log.\",\"year\":1941},{\"arxivId\":null,\"authors\":[{\"authorId\":\"1399257868\",\"name\":\"Nuel Belnap\",\"url\":\"https://www.semanticscholar.org/author/1399257868\"}],\"doi\":null,\"intent\":[],\"isInfluential\":false,\"paperId\":\"576aeca6d6c1f35251f6ee9af2ce5b50f112ce2d\",\"title\":\"An Analysis of Questions Preliminary Report\",\"url\":\"https://www.semanticscholar.org/paper/576aeca6d6c1f35251f6ee9af2ce5b50f112ce2d\",\"venue\":\"\",\"year\":1963},{\"arxivId\":null,\"authors\":[{\"authorId\":\"16671694\",\"name\":\"Roger E. Levien\",\"url\":\"https://www.semanticscholar.org/author/16671694\"},{\"authorId\":\"144864352\",\"name\":\"M. E. Maron\",\"url\":\"https://www.semanticscholar.org/author/144864352\"}],\"doi\":\"10.1145/363790.363817\",\"intent\":[],\"isInfluential\":false,\"paperId\":\"a91c80c66315d1b0264b83866eb105267b80706d\",\"title\":\"A computer system for inference execution and data retrieval\",\"url\":\"https://www.semanticscholar.org/paper/a91c80c66315d1b0264b83866eb105267b80706d\",\"venue\":\"CACM\",\"year\":1967},{\"arxivId\":null,\"authors\":[{\"authorId\":\"29579066\",\"name\":\"J. L. Kuhns\",\"url\":\"https://www.semanticscholar.org/author/29579066\"}],\"doi\":null,\"intent\":[],\"isInfluential\":false,\"paperId\":\"8c8f54ae559d324ea5ccb241bd71a8deaa081694\",\"title\":\"Answering questions by computers - a logical study\",\"url\":\"https://www.semanticscholar.org/paper/8c8f54ae559d324ea5ccb241bd71a8deaa081694\",\"venue\":\"\",\"year\":1967},{\"arxivId\":null,\"authors\":[{\"authorId\":\"1753394\",\"name\":\"Daniel G. Bobrow\",\"url\":\"https://www.semanticscholar.org/author/1753394\"}],\"doi\":\"10.1145/1464052.1464108\",\"intent\":[],\"isInfluential\":false,\"paperId\":\"56b46699e2f38d28bbc5619f81333dc20f4f2172\",\"title\":\"A question-answering system for high school algebra word problems\",\"url\":\"https://www.semanticscholar.org/paper/56b46699e2f38d28bbc5619f81333dc20f4f2172\",\"venue\":\"AFIPS '64 (Fall, part I)\",\"year\":1964}],\"title\":\"Quantification in Query Systems\",\"topics\":[{\"topic\":\"Universal quantification\",\"topicId\":\"902\",\"url\":\"https://www.semanticscholar.org/topic/902\"},{\"topic\":\"Intensional logic\",\"topicId\":\"529712\",\"url\":\"https://www.semanticscholar.org/topic/529712\"},{\"topic\":\"Admissible heuristic\",\"topicId\":\"554505\",\"url\":\"https://www.semanticscholar.org/topic/554505\"},{\"topic\":\"Question answering\",\"topicId\":\"18817\",\"url\":\"https://www.semanticscholar.org/topic/18817\"},{\"topic\":\"Formal grammar\",\"topicId\":\"13934\",\"url\":\"https://www.semanticscholar.org/topic/13934\"},{\"topic\":\"Information retrieval\",\"topicId\":\"2867\",\"url\":\"https://www.semanticscholar.org/topic/2867\"}],\"url\":\"https://www.semanticscholar.org/paper/4fc66764301c05d39ec5bfd80221873272070598\",\"venue\":\"SIGIR\",\"year\":1971}\n",
            "\n",
            "Here\n",
            "{\"abstract\":\"The Relational Data File (RDF) of The Rand Corporation is among the most developed of question-answering systems. The \\\"information language\\\" of this system is an applied predicate calculus. The atomic units of information are binary relational sentences. The system has an inference-making capacity.As part of the actual construction and implementation of the RDF, a theory was developed by J. L. Kuhns to identify those formulas of the predicate calculus which represent the \\\"reasonable\\\" inquiries to put to this system. Accordingly, the classes of definite and proper formulus were defined, and their properties studied. The definite formulas share a semantic property Kuhns judged as necessarily possessed by a reasonable question to be processed by the RDF. The author has previously shown that the decision problem for the class of definite formulas is recursively unsolvable. The proper formulas are definite, and satisfy additional syntactic conditions intended to make them especially suitable for machine processing. The class of proper formulas depends on which logical primitives are employed. Different primitives give rise to different classes of formulas. A formula which can be effectively transformed into a proper equivalent is admissible. Kuhns conjectures that with respect to one particular class of proper formulas, all definite formulas are admissible. In the paper it is shown that the decision problem for several classes of proper formulas is solvable. The following results are established. Theorem 1: The class of proper formulas in prenex form on any complete set of connectives is recursive. Theorem 2: The class of proper formulas on \\u00ac, \\u2228, \\u2203 is recursive. Theorem 3: The class of proper formulas on \\u00ac, \\u2283, \\u2203 is recursive. Theorem 4: The class of proper formulas on \\u00ac, \\u2283, \\u2228, \\u2203, is recursive. Thus, there is a mechanical decision procedure which determines whether an arbitrary formula is a member of the class. It follows that the analogues of Kuhns' conjecture for these classes are false.\",\"arxivId\":null,\"authors\":[{\"authorId\":\"2766114\",\"name\":\"Robert A. Di Paola\",\"url\":\"https://www.semanticscholar.org/author/2766114\"}],\"citationVelocity\":0,\"citations\":[{\"arxivId\":null,\"authors\":[{\"authorId\":\"2766114\",\"name\":\"Robert A. Di Paola\",\"url\":\"https://www.semanticscholar.org/author/2766114\"}],\"doi\":\"10.1145/321738.321747\",\"intent\":[],\"isInfluential\":false,\"paperId\":\"61f90ff6148679aa273e6a73a07bd0e7961cd594\",\"title\":\"The Solvability of the Decision Problem for Classes of Proper Formulas and Related Results\",\"url\":\"https://www.semanticscholar.org/paper/61f90ff6148679aa273e6a73a07bd0e7961cd594\",\"venue\":\"JACM\",\"year\":1973},{\"arxivId\":null,\"authors\":[{\"authorId\":\"1730959\",\"name\":\"Robert Demolombe\",\"url\":\"https://www.semanticscholar.org/author/1730959\"}],\"doi\":\"10.1109/VLDB.1979.718160\",\"intent\":[],\"isInfluential\":false,\"paperId\":\"e81f8dc26f49b0a31c9f0a2a1930a705a5c2e1a0\",\"title\":\"Semantic Checking Of Questions Expressed In Predicate Calculus Language\",\"url\":\"https://www.semanticscholar.org/paper/e81f8dc26f49b0a31c9f0a2a1930a705a5c2e1a0\",\"venue\":\"Fifth International Conference on Very Large Data Bases, 1979.\",\"year\":1979}],\"corpusId\":19910098,\"doi\":\"10.1145/511285.511296\",\"fieldsOfStudy\":[\"Computer Science\"],\"influentialCitationCount\":0,\"is_open_access\":false,\"is_publisher_licensed\":true,\"paperId\":\"4da34ab4bfa56eef2012b4405aff4135d1c5cef9\",\"references\":[{\"arxivId\":null,\"authors\":[{\"authorId\":\"29579066\",\"name\":\"J. L. Kuhns\",\"url\":\"https://www.semanticscholar.org/author/29579066\"}],\"doi\":null,\"intent\":[],\"isInfluential\":false,\"paperId\":\"8c8f54ae559d324ea5ccb241bd71a8deaa081694\",\"title\":\"Answering questions by computers - a logical study\",\"url\":\"https://www.semanticscholar.org/paper/8c8f54ae559d324ea5ccb241bd71a8deaa081694\",\"venue\":\"\",\"year\":1967},{\"arxivId\":null,\"authors\":[{\"authorId\":\"2766114\",\"name\":\"Robert A. Di Paola\",\"url\":\"https://www.semanticscholar.org/author/2766114\"}],\"doi\":\"10.1145/321510.321524\",\"intent\":[],\"isInfluential\":false,\"paperId\":\"75361a56ec24ff9e98ecbd77a7d91dbc6abfac5f\",\"title\":\"The Recursive Unsolvability of the Decision Problem for the Class of Definite Formulas\",\"url\":\"https://www.semanticscholar.org/paper/75361a56ec24ff9e98ecbd77a7d91dbc6abfac5f\",\"venue\":\"JACM\",\"year\":1969},{\"arxivId\":null,\"authors\":[{\"authorId\":\"143941119\",\"name\":\"Wilhelm Ackermann\",\"url\":\"https://www.semanticscholar.org/author/143941119\"}],\"doi\":\"10.2307/3608630\",\"intent\":[],\"isInfluential\":false,\"paperId\":\"03302e6153b33e5476df7ae654357151cac0c4ef\",\"title\":\"Solvable Cases Of The Decision Problem\",\"url\":\"https://www.semanticscholar.org/paper/03302e6153b33e5476df7ae654357151cac0c4ef\",\"venue\":\"\",\"year\":1954}],\"title\":\"The relational data file and the decision problem for classes of proper formulas\",\"topics\":[{\"topic\":\"Decision problem\",\"topicId\":\"15220\",\"url\":\"https://www.semanticscholar.org/topic/15220\"},{\"topic\":\"Question answering\",\"topicId\":\"18817\",\"url\":\"https://www.semanticscholar.org/topic/18817\"},{\"topic\":\"First-order logic\",\"topicId\":\"157138\",\"url\":\"https://www.semanticscholar.org/topic/157138\"},{\"topic\":\"Admissible heuristic\",\"topicId\":\"554505\",\"url\":\"https://www.semanticscholar.org/topic/554505\"},{\"topic\":\"Logical connective\",\"topicId\":\"18366\",\"url\":\"https://www.semanticscholar.org/topic/18366\"},{\"topic\":\"Prenex normal form\",\"topicId\":\"934518\",\"url\":\"https://www.semanticscholar.org/topic/934518\"},{\"topic\":\"Language primitive\",\"topicId\":\"7617\",\"url\":\"https://www.semanticscholar.org/topic/7617\"},{\"topic\":\"Units of information\",\"topicId\":\"204704\",\"url\":\"https://www.semanticscholar.org/topic/204704\"},{\"topic\":\"Computation\",\"topicId\":\"339\",\"url\":\"https://www.semanticscholar.org/topic/339\"}],\"url\":\"https://www.semanticscholar.org/paper/4da34ab4bfa56eef2012b4405aff4135d1c5cef9\",\"venue\":\"SIGIR '71\",\"year\":1971}\n",
            "\n",
            "Here\n",
            "{\"abstract\":\"This paper describes the design and implementation of a general associative net structure to be used in an interactive information system, and presents a scheme designed to manage large quantities of semantic data stored in a data base on disc. The associative-net-structured data base is functionally divided into two pools: the hierarchy pool and the linguistic pool. The network of items in the hierarchy pool represents the descriptive information about documents and the network of items in the linguistic pool represents the syntactic and semantic properties of the items in the hierarchy pool. Two search functions and a general search algorithm are presented in this paper. In the implementation, the data base is a regional data set on disc. Items and their associated labeled links are stored on disc tracks. The system establishes a directory to keep track of the items which have associated information stored on more than one track. The use of the directory eliminates unnecessary disc accesses and allows the system to move a proper track into core storage for data processing.\",\"arxivId\":null,\"authors\":[{\"authorId\":\"1728099\",\"name\":\"Stanley Y. W. Su\",\"url\":\"https://www.semanticscholar.org/author/1728099\"}],\"citationVelocity\":0,\"citations\":[{\"arxivId\":null,\"authors\":[{\"authorId\":\"1728099\",\"name\":\"Stanley Y. W. Su\",\"url\":\"https://www.semanticscholar.org/author/1728099\"},{\"authorId\":\"145060421\",\"name\":\"George P. Copeland\",\"url\":\"https://www.semanticscholar.org/author/145060421\"},{\"authorId\":\"1791415\",\"name\":\"G. Jack Lipovski\",\"url\":\"https://www.semanticscholar.org/author/1791415\"}],\"doi\":\"10.1145/951762.951775\",\"intent\":[],\"isInfluential\":false,\"paperId\":\"5abb297bbb8432b7b456ccf3b68d8c49646bd674\",\"title\":\"Retrieval Operations and Data Representations in a Context-Addressed Disc System\",\"url\":\"https://www.semanticscholar.org/paper/5abb297bbb8432b7b456ccf3b68d8c49646bd674\",\"venue\":\"SIGIR\",\"year\":1973},{\"arxivId\":null,\"authors\":[{\"authorId\":\"2490865\",\"name\":\"Edward A. Patrick\",\"url\":\"https://www.semanticscholar.org/author/2490865\"},{\"authorId\":\"16853731\",\"name\":\"Leon Y. L. Shen\",\"url\":\"https://www.semanticscholar.org/author/16853731\"},{\"authorId\":\"13655739\",\"name\":\"Frank P. Stelmack\",\"url\":\"https://www.semanticscholar.org/author/13655739\"}],\"doi\":\"10.1145/1499586.1499706\",\"intent\":[\"background\"],\"isInfluential\":false,\"paperId\":\"a171d5f69b3a89c5799b465fd9adaf1acb8ec743\",\"title\":\"Introduction to the theory of medical consulting and diagnosis\",\"url\":\"https://www.semanticscholar.org/paper/a171d5f69b3a89c5799b465fd9adaf1acb8ec743\",\"venue\":\"AFIPS National Computer Conference\",\"year\":1973}],\"corpusId\":16829167,\"doi\":\"10.1145/511285.511298\",\"fieldsOfStudy\":[\"Computer Science\"],\"influentialCitationCount\":0,\"is_open_access\":false,\"is_publisher_licensed\":true,\"paperId\":\"cf5f32e29d995679ece671b0e2918045e5d33b32\",\"references\":[{\"arxivId\":null,\"authors\":[{\"authorId\":\"2452216\",\"name\":\"Marshall C. Yovits\",\"url\":\"https://www.semanticscholar.org/author/2452216\"}],\"doi\":\"10.1002/asi.4630200421\",\"intent\":[],\"isInfluential\":false,\"paperId\":\"3056933950edf372a44b36850dd64e8b0bc78ad9\",\"title\":\"Information science: Toward the development of a true scientific discipline\",\"url\":\"https://www.semanticscholar.org/paper/3056933950edf372a44b36850dd64e8b0bc78ad9\",\"venue\":\"\",\"year\":1969},{\"arxivId\":null,\"authors\":[{\"authorId\":\"1728099\",\"name\":\"Stanley Y. W. Su\",\"url\":\"https://www.semanticscholar.org/author/1728099\"},{\"authorId\":\"7410005\",\"name\":\"Kenneth E. Harper\",\"url\":\"https://www.semanticscholar.org/author/7410005\"}],\"doi\":\"10.3115/990403.990416\",\"intent\":[],\"isInfluential\":false,\"paperId\":\"eaf774d60777834d441131d9e3dfac4e3585c40e\",\"title\":\"A Directed Random Paragraph Generator\",\"url\":\"https://www.semanticscholar.org/paper/eaf774d60777834d441131d9e3dfac4e3585c40e\",\"venue\":\"COLING\",\"year\":1969},{\"arxivId\":null,\"authors\":[{\"authorId\":\"48335469\",\"name\":\"Paul E. Weston\",\"url\":\"https://www.semanticscholar.org/author/48335469\"},{\"authorId\":\"145616844\",\"name\":\"Stephen M. Taylor\",\"url\":\"https://www.semanticscholar.org/author/145616844\"}],\"doi\":\"10.1145/1115880.1115900\",\"intent\":[],\"isInfluential\":false,\"paperId\":\"7c28235f06cf7fe7aa8f50ef0ff7b1cf424c2e20\",\"title\":\"Cylinders: a relational data structure\",\"url\":\"https://www.semanticscholar.org/paper/7c28235f06cf7fe7aa8f50ef0ff7b1cf424c2e20\",\"venue\":\"SIGP\",\"year\":1971},{\"arxivId\":null,\"authors\":[{\"authorId\":\"46302978\",\"name\":\"W. Addison Woods\",\"url\":\"https://www.semanticscholar.org/author/46302978\"}],\"doi\":\"10.1109/AFIPS.1968.139\",\"intent\":[],\"isInfluential\":false,\"paperId\":\"f42d0737564e77f62ea1bf20298b10da192bb412\",\"title\":\"Procedural Semantics for a Question-Answering Machine\",\"url\":\"https://www.semanticscholar.org/paper/f42d0737564e77f62ea1bf20298b10da192bb412\",\"venue\":\"\",\"year\":1899},{\"arxivId\":null,\"authors\":[{\"authorId\":\"34780795\",\"name\":\"Donald E. Walker\",\"url\":\"https://www.semanticscholar.org/author/34780795\"}],\"doi\":\"10.3115/990403.990480\",\"intent\":[],\"isInfluential\":false,\"paperId\":\"81e548788f31d7fdfc2c6b883bfbc0290dc1dd05\",\"title\":\"Computational Linguistic Techniques in an on-Line System for Textual Analysis\",\"url\":\"https://www.semanticscholar.org/paper/81e548788f31d7fdfc2c6b883bfbc0290dc1dd05\",\"venue\":\"COLING\",\"year\":1969},{\"arxivId\":null,\"authors\":[{\"authorId\":\"1728099\",\"name\":\"Stanley Y. W. Su\",\"url\":\"https://www.semanticscholar.org/author/1728099\"}],\"doi\":null,\"intent\":[],\"isInfluential\":false,\"paperId\":\"d66c84957d91e7550522856819ccd2d1d1676a2e\",\"title\":\"A Semantic Theory Based Upon Interactive Meaning\",\"url\":\"https://www.semanticscholar.org/paper/d66c84957d91e7550522856819ccd2d1d1676a2e\",\"venue\":\"\",\"year\":1969}],\"title\":\"Managing semantic data in an associative net\",\"topics\":[{\"topic\":\"Database\",\"topicId\":\"1307\",\"url\":\"https://www.semanticscholar.org/topic/1307\"},{\"topic\":\"Search algorithm\",\"topicId\":\"12313\",\"url\":\"https://www.semanticscholar.org/topic/12313\"},{\"topic\":\"Information system\",\"topicId\":\"3188\",\"url\":\"https://www.semanticscholar.org/topic/3188\"},{\"topic\":\"Core Storage\",\"topicId\":\"1347196\",\"url\":\"https://www.semanticscholar.org/topic/1347196\"},{\"topic\":\"Directory (computing)\",\"topicId\":\"7953\",\"url\":\"https://www.semanticscholar.org/topic/7953\"},{\"topic\":\"Directory service\",\"topicId\":\"49739\",\"url\":\"https://www.semanticscholar.org/topic/49739\"}],\"url\":\"https://www.semanticscholar.org/paper/cf5f32e29d995679ece671b0e2918045e5d33b32\",\"venue\":\"SIGIR '71\",\"year\":1971}\n",
            "\n",
            "Here\n",
            "{\"abstract\":\"One of the difficulties faced in implementing information management and retrieval systems is that each case seems to present its own special complexities. As a result information retrieval systems typically fall behind their programming schedule and have many bugs when delivered. In this paper a set of basic operations on types of files are defined. These operations are intended to fulfill the same role for information retrieval systems programmers that functions such as LOG(X) fill for mathematical applications programmers.. they should make the job very much easier. The file operations have been implemented as a run-time package written in FORTRAN IV and Burroughs Extended Algol. The approach has been used to develop three different information management systems; an APL interactive computing system, a generalized information retrieval system, and a specialized information retrieval system for map oriented data. These systems are described.\",\"arxivId\":null,\"authors\":[{\"authorId\":\"40481777\",\"name\":\"Earl Hunt\",\"url\":\"https://www.semanticscholar.org/author/40481777\"},{\"authorId\":\"2600443\",\"name\":\"Gary A. Kildall\",\"url\":\"https://www.semanticscholar.org/author/2600443\"}],\"citationVelocity\":0,\"citations\":[{\"arxivId\":null,\"authors\":[{\"authorId\":\"144152868\",\"name\":\"R. Dunning Roberts\",\"url\":\"https://www.semanticscholar.org/author/144152868\"}],\"doi\":\"10.1145/800153.804949\",\"intent\":[],\"isInfluential\":false,\"paperId\":\"f8c124255da31cbc4d43637ca75fbf55aeb95729\",\"title\":\"A heathkit approach for computer-aided comparison of building alternatives\",\"url\":\"https://www.semanticscholar.org/paper/f8c124255da31cbc4d43637ca75fbf55aeb95729\",\"venue\":\"DAC '72\",\"year\":1972}],\"corpusId\":13195099,\"doi\":\"10.1145/511285.511299\",\"fieldsOfStudy\":[\"Computer Science\"],\"influentialCitationCount\":0,\"is_open_access\":true,\"is_publisher_licensed\":true,\"paperId\":\"d64f7284fcc7fcb52a6c894e69d6300ed95e4bea\",\"references\":[{\"arxivId\":null,\"authors\":[{\"authorId\":\"40481777\",\"name\":\"Earl Hunt\",\"url\":\"https://www.semanticscholar.org/author/40481777\"}],\"doi\":\"10.1145/873641.873648\",\"intent\":[],\"isInfluential\":false,\"paperId\":\"e749b730fe4e1792b4e25ff2a357942ca2d5621b\",\"title\":\"The computer science teaching laboratory at the University of Washington\",\"url\":\"https://www.semanticscholar.org/paper/e749b730fe4e1792b4e25ff2a357942ca2d5621b\",\"venue\":\"SGCS\",\"year\":1970},{\"arxivId\":null,\"authors\":[{\"authorId\":\"69015353\",\"name\":\"A. C. Falkoff\",\"url\":\"https://www.semanticscholar.org/author/69015353\"},{\"authorId\":\"1697133\",\"name\":\"Kenneth E. Iverson\",\"url\":\"https://www.semanticscholar.org/author/1697133\"}],\"doi\":null,\"intent\":[],\"isInfluential\":false,\"paperId\":\"f42cd61ea9c6266d2d678523c8088bb46768277a\",\"title\":\"Apl/360: user's manual\",\"url\":\"https://www.semanticscholar.org/paper/f42cd61ea9c6266d2d678523c8088bb46768277a\",\"venue\":\"\",\"year\":1968},{\"arxivId\":null,\"authors\":[{\"authorId\":\"3231985\",\"name\":\"David Lefkovitz\",\"url\":\"https://www.semanticscholar.org/author/3231985\"}],\"doi\":\"10.1007/978-1-349-00693-9\",\"intent\":[],\"isInfluential\":false,\"paperId\":\"dc9bada13e7cf017b816114d67c557ae4e3e4864\",\"title\":\"File Structures For On-Line Systems\",\"url\":\"https://www.semanticscholar.org/paper/dc9bada13e7cf017b816114d67c557ae4e3e4864\",\"venue\":\"\",\"year\":1969}],\"title\":\"A heathkit method for building data management programs\",\"topics\":[{\"topic\":\"Information retrieval\",\"topicId\":\"2867\",\"url\":\"https://www.semanticscholar.org/topic/2867\"},{\"topic\":\"Information management\",\"topicId\":\"33722\",\"url\":\"https://www.semanticscholar.org/topic/33722\"},{\"topic\":\"Programmer\",\"topicId\":\"23475\",\"url\":\"https://www.semanticscholar.org/topic/23475\"},{\"topic\":\"Interactive computing\",\"topicId\":\"601531\",\"url\":\"https://www.semanticscholar.org/topic/601531\"},{\"topic\":\"Software bug\",\"topicId\":\"37\",\"url\":\"https://www.semanticscholar.org/topic/37\"},{\"topic\":\"Fortran\",\"topicId\":\"199\",\"url\":\"https://www.semanticscholar.org/topic/199\"},{\"topic\":\"APL\",\"topicId\":\"8457\",\"url\":\"https://www.semanticscholar.org/topic/8457\"},{\"topic\":\"RPG Maker\",\"topicId\":\"132481\",\"url\":\"https://www.semanticscholar.org/topic/132481\"}],\"url\":\"https://www.semanticscholar.org/paper/d64f7284fcc7fcb52a6c894e69d6300ed95e4bea\",\"venue\":\"SIGIR '71\",\"year\":1971}\n",
            "\n"
          ],
          "name": "stdout"
        }
      ]
    },
    {
      "cell_type": "code",
      "metadata": {
        "id": "EeFiEnAJqOik",
        "colab_type": "code",
        "outputId": "46a6f5c5-1493-4595-9e98-0dc6d14e3f60",
        "colab": {
          "base_uri": "https://localhost:8080/",
          "height": 204
        }
      },
      "source": [
        "from google.colab import files\n",
        "#For the folder you have to zip it first and can only download later on\n",
        "!zip -r jsonfiles.zip /content/jsonfiles\n",
        "#Download files\n",
        "files.download('jsonfiles.zip')"
      ],
      "execution_count": 7,
      "outputs": [
        {
          "output_type": "stream",
          "text": [
            "  adding: content/jsonfiles/ (stored 0%)\n",
            "  adding: content/jsonfiles/Article1.json (deflated 75%)\n",
            "  adding: content/jsonfiles/Article9.json (deflated 65%)\n",
            "  adding: content/jsonfiles/Article7.json (deflated 67%)\n",
            "  adding: content/jsonfiles/Article2.json (deflated 70%)\n",
            "  adding: content/jsonfiles/Article6.json (deflated 65%)\n",
            "  adding: content/jsonfiles/Article3.json (deflated 72%)\n",
            "  adding: content/jsonfiles/Article5.json (deflated 70%)\n",
            "  adding: content/jsonfiles/Article0.json (deflated 72%)\n",
            "  adding: content/jsonfiles/Article4.json (deflated 65%)\n",
            "  adding: content/jsonfiles/Article8.json (deflated 69%)\n"
          ],
          "name": "stdout"
        }
      ]
    },
    {
      "cell_type": "code",
      "metadata": {
        "id": "u03IlkWDLukt",
        "colab_type": "code",
        "outputId": "e54fb3d1-2d57-457d-c40d-3f1e5db4b5b6",
        "colab": {
          "base_uri": "https://localhost:8080/",
          "height": 187
        }
      },
      "source": [
        "!pip install textblob\n",
        "import pandas as pd\n",
        "from nltk.corpus import stopwords\n",
        "import string\n",
        "from nltk.stem import WordNetLemmatizer\n",
        "import nltk\n",
        "from nltk import word_tokenize, pos_tag, pos_tag_sents\n",
        "from textblob import Word\n",
        "from nltk.stem import PorterStemmer\n",
        "\n",
        "nltk.download('stopwords')\n",
        "st=PorterStemmer()\n",
        "stop=stopwords.words('english')\n",
        "nltk.download('wordnet')\n",
        "nltk.download('averaged_perceptron_tagger')\n",
        "#table 1\n",
        "import json\n",
        "import pandas\n",
        "from pandas import DataFrame\n",
        "Venuelist = []\n",
        "Titlelist = []\n",
        "Yearlist = []\n",
        "Abstractlist = []\n",
        "Doilist = []\n",
        "FieldsOfStudylist = []\n",
        "Topiclist = []\n",
        "urllist = []\n",
        "influentialCitationCountlist = []\n",
        "articleidlist = []\n",
        "for i in range(9):\n",
        "  f = open('/content/jsonfiles/Article' + str(i) + '.json')\n",
        "  data = json.load(f)\n",
        "  string = 'https://doi.org/'\n",
        "  articleidlist = [string+x for x in Doilist]\n",
        "  venue = data['venue']\n",
        "  Venuelist.append(venue)\n",
        "  title = data['title']\n",
        "  Titlelist.append(title)\n",
        "  year = data['year']\n",
        "  Yearlist.append(year)\n",
        "  abstract = data['abstract']\n",
        "  Abstractlist.append(abstract)\n",
        "  doi = data['doi']\n",
        "  Doilist.append(doi)\n",
        "  fieldsOfStudy = data['fieldsOfStudy']\n",
        "  FieldsOfStudylist.append(fieldsOfStudy)\n",
        "  influentialCitationCount = data['influentialCitationCount']\n",
        "  influentialCitationCountlist.append(influentialCitationCount)\n",
        "  for value in data['topics']:\n",
        "    topic = value['topic']\n",
        "    Topiclist.append(topic)\n",
        "  url = data['url']\n",
        "  urllist.append(url)   \n",
        "f.close()\n",
        "#print(Topiclist)"
      ],
      "execution_count": 8,
      "outputs": [
        {
          "output_type": "stream",
          "text": [
            "Requirement already satisfied: textblob in /usr/local/lib/python3.6/dist-packages (0.15.3)\n",
            "Requirement already satisfied: nltk>=3.1 in /usr/local/lib/python3.6/dist-packages (from textblob) (3.2.5)\n",
            "Requirement already satisfied: six in /usr/local/lib/python3.6/dist-packages (from nltk>=3.1->textblob) (1.12.0)\n",
            "[nltk_data] Downloading package stopwords to /root/nltk_data...\n",
            "[nltk_data]   Unzipping corpora/stopwords.zip.\n",
            "[nltk_data] Downloading package wordnet to /root/nltk_data...\n",
            "[nltk_data]   Unzipping corpora/wordnet.zip.\n",
            "[nltk_data] Downloading package averaged_perceptron_tagger to\n",
            "[nltk_data]     /root/nltk_data...\n",
            "[nltk_data]   Unzipping taggers/averaged_perceptron_tagger.zip.\n"
          ],
          "name": "stdout"
        }
      ]
    },
    {
      "cell_type": "code",
      "metadata": {
        "id": "yLPN58NCE1rR",
        "colab_type": "code",
        "outputId": "2c725254-be5f-4490-d9ca-59d9fec45214",
        "colab": {
          "base_uri": "https://localhost:8080/",
          "height": 255
        }
      },
      "source": [
        "import pandas as pd\n",
        "import glob\n",
        "import pandas as pd\n",
        "import os\n",
        "import string\n",
        "\n",
        "# Select all the files in your directory\n",
        "fields = [\"article_id\",\"pdf_link\",\"total_citation\",\"total_download\",\"pdf_link\",\"article_no\"]\n",
        "dfarticle = pd.read_csv(\"articleoutput.csv\", usecols=fields)\n",
        "doilist = dfarticle['article_no'].values.tolist()\n",
        "articleidlist = dfarticle['article_id'].values.tolist()\n",
        "totalcitationlist = dfarticle['total_citation'].values.tolist()\n",
        "totaldownloadlist = dfarticle['total_download'].values.tolist()\n",
        "pdflinklist = dfarticle['pdf_link'].values.tolist()\n",
        "a = {'Article_id' : articleidlist ,'Venue' : Venuelist ,'Title' : Titlelist ,'Year' :Yearlist, 'Abstract': Abstractlist,\n",
        "     'Doi' : doilist,'fieldsOfStudy' : FieldsOfStudylist,'Downloadurl' : pdflinklist,\n",
        "     'TotalCitationCount' : totalcitationlist, 'TotalDownloadCount' : totaldownloadlist, 'Influentialcitationcount' : influentialCitationCountlist}\n",
        "df = pd.DataFrame.from_dict(a, orient='index')\n",
        "#df['fieldsOfStudy'].str.strip('[]').astype(int)\n",
        "df1 = df.transpose()\n",
        "#df1['fieldsOfStudy'] = df1['fieldsOfStudy'].str.strip('[]')\n",
        "df1[\"Abstract\"]=df1[\"Abstract\"].str.lower() \n",
        "df1['Abstract'] = df1['Abstract'].apply(lambda x: ' '.join([word for word in str(x).split() if word not in (stop)]))\n",
        "df1[\"Abstract\"]=df1['Abstract'].str.replace('[{}]'.format(string.punctuation), '')\n",
        "df1['fieldsOfStudy'] = df1['fieldsOfStudy'].apply(str)\n",
        "df1['fieldsOfStudy'] = df1['fieldsOfStudy'].str.replace('[{}]'.format(string.punctuation), '')\n",
        "df1['fieldsOfStudy']\n",
        "df1.to_csv('/content/jsonfiles/table1.csv', columns = a)\n",
        "print(df1)"
      ],
      "execution_count": 9,
      "outputs": [
        {
          "output_type": "stream",
          "text": [
            "                                Article_id  ... Influentialcitationcount\n",
            "0    https://doi.org/10.1145/511285.511286  ...                        0\n",
            "1    https://doi.org/10.1145/511285.511288  ...                        0\n",
            "2    https://doi.org/10.1145/511285.511289  ...                        0\n",
            "3    https://doi.org/10.1145/511285.511290  ...                        0\n",
            "4    https://doi.org/10.1145/511285.511292  ...                        0\n",
            "..                                     ...  ...                      ...\n",
            "970  https://doi.org/10.1145/345508.345671  ...                     None\n",
            "971  https://doi.org/10.1145/345508.345672  ...                     None\n",
            "972  https://doi.org/10.1145/345508.345673  ...                     None\n",
            "973  https://doi.org/10.1145/345508.345674  ...                     None\n",
            "974  https://doi.org/10.1145/345508.345675  ...                     None\n",
            "\n",
            "[975 rows x 11 columns]\n"
          ],
          "name": "stdout"
        }
      ]
    },
    {
      "cell_type": "code",
      "metadata": {
        "id": "2xW7sl5fSVEV",
        "colab_type": "code",
        "colab": {}
      },
      "source": [
        "#table 2\n",
        "import json\n",
        "import pandas\n",
        "from pandas import DataFrame\n",
        "authorIdlist = []\n",
        "authorname = []\n",
        "authorurl = []\n",
        "doilist = []\n",
        "#authorrank = []\n",
        "#authorinstitution = []\n",
        "#authorPublication = []\n",
        "for i in range(9):\n",
        "  f = open('/content/jsonfiles/Article' + str(i) + '.json')\n",
        "  data = json.load(f)\n",
        "  string = 'https://doi.org/'\n",
        "  articleidlist = [string+x for x in Doilist]\n",
        "  doi = data['doi']\n",
        "  Doilist.append(doi)\n",
        "  for value in data['authors']:\n",
        "    authorId = value['authorId']\n",
        "    authorIdlist.append(authorId) \n",
        "  for value in data['authors']:\n",
        "    name = value['name']\n",
        "    authorname.append(name) \n",
        "  for value in data['authors']:\n",
        "    url = value['url']\n",
        "    authorurl.append(url)\n",
        "f.close()"
      ],
      "execution_count": 0,
      "outputs": []
    },
    {
      "cell_type": "code",
      "metadata": {
        "id": "YgbykSVgSgrf",
        "colab_type": "code",
        "colab": {}
      },
      "source": [
        "import pandas as pd\n",
        "import glob\n",
        "import pandas as pd\n",
        "import os\n",
        "# Select all the files in your directory\n",
        "a = {'authorId' : authorIdlist ,'name' : authorname ,'url' : authorurl }\n",
        "df = pd.DataFrame.from_dict(a, orient='index')\n",
        "df1 = df.transpose()\n",
        "df1.to_csv('/content/jsonfiles/table2.csv', columns = a)"
      ],
      "execution_count": 0,
      "outputs": []
    },
    {
      "cell_type": "code",
      "metadata": {
        "id": "li2sigzGRCAw",
        "colab_type": "code",
        "outputId": "87a86f65-10f7-4add-9955-8d1acf580e40",
        "colab": {
          "base_uri": "https://localhost:8080/",
          "height": 680
        }
      },
      "source": [
        "#table 3\n",
        "import json\n",
        "import pandas\n",
        "from pandas import DataFrame\n",
        "citingpaperId = []\n",
        "citingdoi = []\n",
        "citingtitle = []\n",
        "citingvenue = []\n",
        "citingyear = []\n",
        "citingintent = []\n",
        "citinginfluential = []\n",
        "for i in range(9):\n",
        "  f = open('/content/jsonfiles/Article' + str(i) + '.json')\n",
        "  data = json.load(f)\n",
        "  for value in data['citations']:\n",
        "    paperId = value['paperId']\n",
        "    citingpaperId.append(paperId)\n",
        "    #print(paperId)\n",
        "    doi = value['doi']\n",
        "    citingdoi.append(doi)\n",
        "    #print(doi)\n",
        "    title = value['title']\n",
        "    citingtitle.append(title)\n",
        "    #print(title)\n",
        "    venue = value['venue']\n",
        "    citingvenue.append(venue)\n",
        "    #print(venue)\n",
        "    year = value['year']\n",
        "    citingyear.append(year)\n",
        "    #print(year)\n",
        "    intent = value['intent']\n",
        "    citingintent.append(intent)\n",
        "    #print(intent)\n",
        "    isInfluential = value['isInfluential']\n",
        "    citinginfluential.append(isInfluential) \n",
        "    #print(isInfluential)\n",
        "a = {'paperId' : citingpaperId ,'doi' : citingdoi ,'title' : citingtitle ,\n",
        "     'venue' :citingvenue, 'year': citingyear,\n",
        "     'intent' : citingintent,'isInfluential' : citinginfluential}\n",
        "df = pd.DataFrame.from_dict(a, orient='index')\n",
        "df1 = df.transpose()\n",
        "df1['intent'] = df1['intent'].apply(lambda x : ' '.join(map(str, x)))\n",
        "df1.to_csv('/content/jsonfiles/table3.csv', columns = a)\n",
        "print(df1)"
      ],
      "execution_count": 13,
      "outputs": [
        {
          "output_type": "stream",
          "text": [
            "                                     paperId  ... isInfluential\n",
            "0   819c14aeb7fbd7819baa58f038142db1f0cfc351  ...         False\n",
            "1   8113edc6c95508bc7f9ae624903f8f4c98d3395b  ...         False\n",
            "2   28dd43a10b78cc6297081fb7b9be86e114894391  ...         False\n",
            "3   479fc4af54633ad789e9f252f1581caa02ee8d32  ...         False\n",
            "4   393a9de965783f2c0f42b82db47321df10402472  ...         False\n",
            "5   24f73ab2828f9aecbc079a9d5f5028c392eaa5b0  ...         False\n",
            "6   7b17d71d49739f08f5ed48dbd45f78fef1ba1ab0  ...         False\n",
            "7   a0876f4589bd112e5b6e7c67580dc0ab8102ad83  ...         False\n",
            "8   28dd43a10b78cc6297081fb7b9be86e114894391  ...         False\n",
            "9   f50f760f9e424c3250a62d905ac14ae2773a3332  ...         False\n",
            "10  5abb297bbb8432b7b456ccf3b68d8c49646bd674  ...         False\n",
            "11  7ec642a8dd038eece16cc63988b0daf74e83b576  ...         False\n",
            "12  4b9458e9e75e121637973126a64077dbe199592c  ...         False\n",
            "13  28dd43a10b78cc6297081fb7b9be86e114894391  ...         False\n",
            "14  bf858dfe4f97b96d4d23ba2ee4852650871aedfc  ...         False\n",
            "15  06b6b92fa0d4c4c1453af538b639622a62de4d96  ...         False\n",
            "16  bb8df7a46305480d8428e7b435ee1b4328f2c2b8  ...         False\n",
            "17  ebb37375c8c9358401d1c1c1c7bdd1b75c179dc2  ...         False\n",
            "18  bf6d299619c7a4ce81023bf2cd75c730a25ce5a1  ...         False\n",
            "19  e86871bb0dafbb1e3433f0802b9655b1a5cad0b8  ...         False\n",
            "20  393a9de965783f2c0f42b82db47321df10402472  ...         False\n",
            "21  28dd43a10b78cc6297081fb7b9be86e114894391  ...         False\n",
            "22  9adfcf5dcd5c66b215192aba9efc98b138c8e944  ...         False\n",
            "23  ad58d22456afa69041cea030f9a642c71e9fa8d5  ...         False\n",
            "24  9384f7812fec87a41938ae28fe19c8f65f555c97  ...         False\n",
            "25  07f0fbfcdc3b6ae91e755e6731a2723fcdefacbe  ...         False\n",
            "26  95d97e2e87103d10ca0c2ef0a2384f76e0aa6355  ...         False\n",
            "27  8842adb29e258f08f84482d3167898e22afac84d  ...         False\n",
            "28  70180db4cf2e3ddbeb0b8f66e991c0ad7b7a0ff5  ...         False\n",
            "29  92eb85c80896be6488458204dac2fd4db792e2a9  ...         False\n",
            "30  b845b421700d6d6e5ba383e66a6a82d072fee136  ...         False\n",
            "31  3de6e2fac2a94e5c3800d91559964802f8141ed3  ...         False\n",
            "32  61f90ff6148679aa273e6a73a07bd0e7961cd594  ...         False\n",
            "33  e81f8dc26f49b0a31c9f0a2a1930a705a5c2e1a0  ...         False\n",
            "34  5abb297bbb8432b7b456ccf3b68d8c49646bd674  ...         False\n",
            "35  a171d5f69b3a89c5799b465fd9adaf1acb8ec743  ...         False\n",
            "\n",
            "[36 rows x 7 columns]\n"
          ],
          "name": "stdout"
        }
      ]
    },
    {
      "cell_type": "code",
      "metadata": {
        "id": "3P0ZkxpshyrM",
        "colab_type": "code",
        "outputId": "c185ff7b-0e6f-4e11-99e5-247fd8cc24bf",
        "colab": {
          "base_uri": "https://localhost:8080/",
          "height": 255
        }
      },
      "source": [
        "#table 4\n",
        "import re\n",
        "referencepaperidlist = []\n",
        "Referencepaperdoilist = []\n",
        "Referencepapertitlelist = []\n",
        "Referencepapervenuelist = []\n",
        "Referencepaperyearlist = []\n",
        "Isinfluentiallist = [] \n",
        "Intentlist = []\n",
        "for i in range(9):\n",
        "  f = open('/content/jsonfiles/Article' + str(i) + '.json')\n",
        "  data = json.load(f)\n",
        "  for value in data['references']:\n",
        "    referencepaperid = value['paperId']\n",
        "    referencepaperidlist.append(referencepaperid)\n",
        "    referencepaperdoi = value['doi']\n",
        "    Referencepaperdoilist.append(referencepaperdoi)\n",
        "    Referencepapertitle = value['title']\n",
        "    Referencepapertitlelist.append(Referencepapertitle)\n",
        "    Referencepapervenue = value['venue']\n",
        "    Referencepapervenuelist.append(Referencepapervenue)\n",
        "    Referencepaperyear = value['year']\n",
        "    Referencepaperyearlist.append(Referencepaperyear)\n",
        "    Intent = value['intent']\n",
        "    Intentlist.append(Intent)\n",
        "    Isinfluential = value['isInfluential']\n",
        "    Isinfluentiallist.append(Isinfluential)\n",
        "a = {'Reference_paper_id' : referencepaperidlist ,'Reference _paper_doi' : Referencepaperdoilist ,'Reference _paper_title' : Referencepapertitlelist ,\n",
        "     'Reference _paper_venue' :Referencepapervenuelist, 'Reference _paper_year': Referencepaperyearlist,\n",
        "     'Intent' : Intentlist,'Is_influential' : Isinfluentiallist}\n",
        "df = pd.DataFrame.from_dict(a, orient='index')\n",
        "df1 = df.transpose()\n",
        "df1['Intent'] = df1['Intent'].apply(lambda x : ' '.join(map(str, x)))\n",
        "df1.to_csv('/content/jsonfiles/table4.csv', columns = a)\n",
        "print(df1)\n"
      ],
      "execution_count": 14,
      "outputs": [
        {
          "output_type": "stream",
          "text": [
            "                          Reference_paper_id  ... Is_influential\n",
            "0   dccea747182423d212741a6eecabf4d2024efb52  ...          False\n",
            "1   6f7949a0301963ca49d88c5c96b375ded713a31b  ...          False\n",
            "2   cb93b7894a19780851dcaf0559a8c4f9ac1a7694  ...          False\n",
            "3   a76e8341a099a3ab447ee16aafcd24213cb0dd18  ...          False\n",
            "4   eba004b4bf597350bdd3f1e622329589fe3b958e  ...          False\n",
            "..                                       ...  ...            ...\n",
            "69  eaf774d60777834d441131d9e3dfac4e3585c40e  ...          False\n",
            "70  7c28235f06cf7fe7aa8f50ef0ff7b1cf424c2e20  ...          False\n",
            "71  f42d0737564e77f62ea1bf20298b10da192bb412  ...          False\n",
            "72  81e548788f31d7fdfc2c6b883bfbc0290dc1dd05  ...          False\n",
            "73  d66c84957d91e7550522856819ccd2d1d1676a2e  ...          False\n",
            "\n",
            "[74 rows x 7 columns]\n"
          ],
          "name": "stdout"
        }
      ]
    }
  ]
}